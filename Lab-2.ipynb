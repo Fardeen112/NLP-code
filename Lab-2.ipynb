{
 "cells": [
  {
   "cell_type": "code",
   "execution_count": 1,
   "metadata": {},
   "outputs": [
    {
     "name": "stdout",
     "output_type": "stream",
     "text": [
      "Requirement already satisfied: nltk in c:\\users\\rizvi\\appdata\\local\\programs\\python\\python311\\lib\\site-packages (3.8.1)\n",
      "Requirement already satisfied: click in c:\\users\\rizvi\\appdata\\local\\programs\\python\\python311\\lib\\site-packages (from nltk) (8.1.7)\n",
      "Requirement already satisfied: joblib in c:\\users\\rizvi\\appdata\\local\\programs\\python\\python311\\lib\\site-packages (from nltk) (1.3.1)\n",
      "Requirement already satisfied: regex>=2021.8.3 in c:\\users\\rizvi\\appdata\\local\\programs\\python\\python311\\lib\\site-packages (from nltk) (2023.12.25)\n",
      "Requirement already satisfied: tqdm in c:\\users\\rizvi\\appdata\\local\\programs\\python\\python311\\lib\\site-packages (from nltk) (4.65.0)\n",
      "Requirement already satisfied: colorama in c:\\users\\rizvi\\appdata\\roaming\\python\\python311\\site-packages (from click->nltk) (0.4.6)\n"
     ]
    },
    {
     "name": "stderr",
     "output_type": "stream",
     "text": [
      "\n",
      "[notice] A new release of pip is available: 23.2 -> 24.0\n",
      "[notice] To update, run: python.exe -m pip install --upgrade pip\n"
     ]
    },
    {
     "name": "stdout",
     "output_type": "stream",
     "text": [
      "Requirement already satisfied: contractions in c:\\users\\rizvi\\appdata\\local\\programs\\python\\python311\\lib\\site-packages (0.1.73)\n",
      "Requirement already satisfied: textsearch>=0.0.21 in c:\\users\\rizvi\\appdata\\local\\programs\\python\\python311\\lib\\site-packages (from contractions) (0.0.24)\n",
      "Requirement already satisfied: anyascii in c:\\users\\rizvi\\appdata\\local\\programs\\python\\python311\\lib\\site-packages (from textsearch>=0.0.21->contractions) (0.3.2)\n",
      "Requirement already satisfied: pyahocorasick in c:\\users\\rizvi\\appdata\\local\\programs\\python\\python311\\lib\\site-packages (from textsearch>=0.0.21->contractions) (2.0.0)\n"
     ]
    },
    {
     "name": "stderr",
     "output_type": "stream",
     "text": [
      "\n",
      "[notice] A new release of pip is available: 23.2 -> 24.0\n",
      "[notice] To update, run: python.exe -m pip install --upgrade pip\n"
     ]
    },
    {
     "name": "stdout",
     "output_type": "stream",
     "text": [
      "Requirement already satisfied: pandas in c:\\users\\rizvi\\appdata\\local\\programs\\python\\python311\\lib\\site-packages (2.0.3)\n",
      "Requirement already satisfied: python-dateutil>=2.8.2 in c:\\users\\rizvi\\appdata\\local\\programs\\python\\python311\\lib\\site-packages (from pandas) (2.8.2)\n",
      "Requirement already satisfied: pytz>=2020.1 in c:\\users\\rizvi\\appdata\\local\\programs\\python\\python311\\lib\\site-packages (from pandas) (2023.3)\n",
      "Requirement already satisfied: tzdata>=2022.1 in c:\\users\\rizvi\\appdata\\local\\programs\\python\\python311\\lib\\site-packages (from pandas) (2023.3)\n",
      "Requirement already satisfied: numpy>=1.21.0 in c:\\users\\rizvi\\appdata\\local\\programs\\python\\python311\\lib\\site-packages (from pandas) (1.24.3)\n",
      "Requirement already satisfied: six>=1.5 in c:\\users\\rizvi\\appdata\\local\\programs\\python\\python311\\lib\\site-packages (from python-dateutil>=2.8.2->pandas) (1.16.0)\n"
     ]
    },
    {
     "name": "stderr",
     "output_type": "stream",
     "text": [
      "\n",
      "[notice] A new release of pip is available: 23.2 -> 24.0\n",
      "[notice] To update, run: python.exe -m pip install --upgrade pip\n"
     ]
    },
    {
     "name": "stdout",
     "output_type": "stream",
     "text": [
      "Requirement already satisfied: requests in c:\\users\\rizvi\\appdata\\local\\programs\\python\\python311\\lib\\site-packages (2.31.0)\n",
      "Requirement already satisfied: charset-normalizer<4,>=2 in c:\\users\\rizvi\\appdata\\local\\programs\\python\\python311\\lib\\site-packages (from requests) (3.2.0)\n",
      "Requirement already satisfied: idna<4,>=2.5 in c:\\users\\rizvi\\appdata\\local\\programs\\python\\python311\\lib\\site-packages (from requests) (3.4)\n",
      "Requirement already satisfied: urllib3<3,>=1.21.1 in c:\\users\\rizvi\\appdata\\local\\programs\\python\\python311\\lib\\site-packages (from requests) (1.26.16)\n",
      "Requirement already satisfied: certifi>=2017.4.17 in c:\\users\\rizvi\\appdata\\local\\programs\\python\\python311\\lib\\site-packages (from requests) (2023.5.7)\n"
     ]
    },
    {
     "name": "stderr",
     "output_type": "stream",
     "text": [
      "\n",
      "[notice] A new release of pip is available: 23.2 -> 24.0\n",
      "[notice] To update, run: python.exe -m pip install --upgrade pip\n"
     ]
    },
    {
     "name": "stdout",
     "output_type": "stream",
     "text": [
      "Collecting html5lib\n",
      "  Downloading html5lib-1.1-py2.py3-none-any.whl (112 kB)\n",
      "     ---------------------------------------- 0.0/112.2 kB ? eta -:--:--\n",
      "     ---------- ----------------------------- 30.7/112.2 kB ? eta -:--:--\n",
      "     ---------- ----------------------------- 30.7/112.2 kB ? eta -:--:--\n",
      "     ---------- ----------------------------- 30.7/112.2 kB ? eta -:--:--\n",
      "     -------------------- ---------------- 61.4/112.2 kB 272.3 kB/s eta 0:00:01\n",
      "     -------------------- ---------------- 61.4/112.2 kB 272.3 kB/s eta 0:00:01\n",
      "     -------------------------------- --- 102.4/112.2 kB 346.5 kB/s eta 0:00:01\n",
      "     ------------------------------------ 112.2/112.2 kB 361.5 kB/s eta 0:00:00\n",
      "Requirement already satisfied: six>=1.9 in c:\\users\\rizvi\\appdata\\local\\programs\\python\\python311\\lib\\site-packages (from html5lib) (1.16.0)\n",
      "Collecting webencodings (from html5lib)\n",
      "  Downloading webencodings-0.5.1-py2.py3-none-any.whl (11 kB)\n",
      "Installing collected packages: webencodings, html5lib\n",
      "Successfully installed html5lib-1.1 webencodings-0.5.1\n"
     ]
    },
    {
     "name": "stderr",
     "output_type": "stream",
     "text": [
      "\n",
      "[notice] A new release of pip is available: 23.2 -> 24.0\n",
      "[notice] To update, run: python.exe -m pip install --upgrade pip\n"
     ]
    },
    {
     "name": "stdout",
     "output_type": "stream",
     "text": [
      "Collecting bs4\n",
      "  Obtaining dependency information for bs4 from https://files.pythonhosted.org/packages/51/bb/bf7aab772a159614954d84aa832c129624ba6c32faa559dfb200a534e50b/bs4-0.0.2-py2.py3-none-any.whl.metadata\n",
      "  Downloading bs4-0.0.2-py2.py3-none-any.whl.metadata (411 bytes)\n",
      "Collecting beautifulsoup4 (from bs4)\n",
      "  Obtaining dependency information for beautifulsoup4 from https://files.pythonhosted.org/packages/b1/fe/e8c672695b37eecc5cbf43e1d0638d88d66ba3a44c4d321c796f4e59167f/beautifulsoup4-4.12.3-py3-none-any.whl.metadata\n",
      "  Downloading beautifulsoup4-4.12.3-py3-none-any.whl.metadata (3.8 kB)\n",
      "Collecting soupsieve>1.2 (from beautifulsoup4->bs4)\n",
      "  Obtaining dependency information for soupsieve>1.2 from https://files.pythonhosted.org/packages/4c/f3/038b302fdfbe3be7da016777069f26ceefe11a681055ea1f7817546508e3/soupsieve-2.5-py3-none-any.whl.metadata\n",
      "  Downloading soupsieve-2.5-py3-none-any.whl.metadata (4.7 kB)\n",
      "Downloading bs4-0.0.2-py2.py3-none-any.whl (1.2 kB)\n",
      "Downloading beautifulsoup4-4.12.3-py3-none-any.whl (147 kB)\n",
      "   ---------------------------------------- 0.0/147.9 kB ? eta -:--:--\n",
      "   -------- ------------------------------- 30.7/147.9 kB 1.4 MB/s eta 0:00:01\n",
      "   -------- ------------------------------- 30.7/147.9 kB 1.4 MB/s eta 0:00:01\n",
      "   -------- ------------------------------- 30.7/147.9 kB 1.4 MB/s eta 0:00:01\n",
      "   -------- ------------------------------- 30.7/147.9 kB 1.4 MB/s eta 0:00:01\n",
      "   -------- ------------------------------- 30.7/147.9 kB 1.4 MB/s eta 0:00:01\n",
      "   ------------------------ -------------- 92.2/147.9 kB 309.1 kB/s eta 0:00:01\n",
      "   -------------------------------------- 147.9/147.9 kB 400.2 kB/s eta 0:00:00\n",
      "Downloading soupsieve-2.5-py3-none-any.whl (36 kB)\n",
      "Installing collected packages: soupsieve, beautifulsoup4, bs4\n",
      "Successfully installed beautifulsoup4-4.12.3 bs4-0.0.2 soupsieve-2.5\n"
     ]
    },
    {
     "name": "stderr",
     "output_type": "stream",
     "text": [
      "\n",
      "[notice] A new release of pip is available: 23.2 -> 24.0\n",
      "[notice] To update, run: python.exe -m pip install --upgrade pip\n"
     ]
    }
   ],
   "source": [
    "!pip install nltk\n",
    "!pip install contractions\n",
    "!pip install pandas\n",
    "!pip install requests\n",
    "!pip install html5lib\n",
    "!pip install bs4"
   ]
  },
  {
   "cell_type": "code",
   "execution_count": 22,
   "metadata": {},
   "outputs": [],
   "source": [
    "import nltk\n",
    "import contractions\n",
    "# import pandas as pd\n",
    "# import numpy as np\n",
    "# import matplotlib.pyplot as plt\n",
    "import requests\n",
    "from bs4 import BeautifulSoup \n",
    "import csv\n",
    "import re"
   ]
  },
  {
   "cell_type": "code",
   "execution_count": 7,
   "metadata": {},
   "outputs": [],
   "source": [
    "text = \"I am learning NLP. It is very interesting and exciting. It is also challenging. I don't know much about it now, so Dr. Stranglove is helping me. He is a very good teacher. I am enjoying his teaching.\""
   ]
  },
  {
   "cell_type": "code",
   "execution_count": 8,
   "metadata": {},
   "outputs": [
    {
     "name": "stderr",
     "output_type": "stream",
     "text": [
      "[nltk_data] Downloading package punkt to /home/student/nltk_data...\n",
      "[nltk_data]   Package punkt is already up-to-date!\n"
     ]
    },
    {
     "data": {
      "text/plain": [
       "['I',\n",
       " 'am',\n",
       " 'learning',\n",
       " 'NLP',\n",
       " '.',\n",
       " 'It',\n",
       " 'is',\n",
       " 'very',\n",
       " 'interesting',\n",
       " 'and',\n",
       " 'exciting',\n",
       " '.',\n",
       " 'It',\n",
       " 'is',\n",
       " 'also',\n",
       " 'challenging',\n",
       " '.',\n",
       " 'I',\n",
       " 'do',\n",
       " \"n't\",\n",
       " 'know',\n",
       " 'much',\n",
       " 'about',\n",
       " 'it',\n",
       " 'now',\n",
       " ',',\n",
       " 'so',\n",
       " 'Dr.',\n",
       " 'Stranglove',\n",
       " 'is',\n",
       " 'helping',\n",
       " 'me',\n",
       " '.',\n",
       " 'He',\n",
       " 'is',\n",
       " 'a',\n",
       " 'very',\n",
       " 'good',\n",
       " 'teacher',\n",
       " '.',\n",
       " 'I',\n",
       " 'am',\n",
       " 'enjoying',\n",
       " 'his',\n",
       " 'teaching',\n",
       " '.']"
      ]
     },
     "execution_count": 8,
     "metadata": {},
     "output_type": "execute_result"
    }
   ],
   "source": [
    "nltk.download('punkt')\n",
    "def word_Tokenizer(text):\n",
    "    return nltk.tokenize.word_tokenize(text)\n",
    "word_Tokenizer(text)"
   ]
  },
  {
   "cell_type": "code",
   "execution_count": 10,
   "metadata": {},
   "outputs": [
    {
     "data": {
      "text/plain": [
       "['I am learning NLP.',\n",
       " 'It is very interesting and exciting.',\n",
       " 'It is also challenging.',\n",
       " \"I don't know much about it now, so Dr. Stranglove is helping me.\",\n",
       " 'He is a very good teacher.',\n",
       " 'I am enjoying his teaching.']"
      ]
     },
     "execution_count": 10,
     "metadata": {},
     "output_type": "execute_result"
    }
   ],
   "source": [
    "def sentence_Tokenizer(text):\n",
    "    return nltk.tokenize.sent_tokenize(text)\n",
    "sentence_Tokenizer(text)"
   ]
  },
  {
   "cell_type": "code",
   "execution_count": 11,
   "metadata": {},
   "outputs": [
    {
     "name": "stderr",
     "output_type": "stream",
     "text": [
      "[nltk_data] Downloading package stopwords to\n",
      "[nltk_data]     /home/student/nltk_data...\n",
      "[nltk_data]   Package stopwords is already up-to-date!\n"
     ]
    },
    {
     "data": {
      "text/plain": [
       "'I learning NLP. It interesting exciting. It also challenging. I know much now, Dr. Stranglove helping me. He good teacher. I enjoying teaching.'"
      ]
     },
     "execution_count": 11,
     "metadata": {},
     "output_type": "execute_result"
    }
   ],
   "source": [
    "nltk.download('stopwords')\n",
    "from nltk.corpus import stopwords\n",
    "def remove_Stopwords(text):\n",
    "    stop_words = set(stopwords.words('english'))\n",
    "    new_text = \" \".join([word for word in text.split() if word not in stop_words])\n",
    "    return new_text\n",
    "remove_Stopwords(text)"
   ]
  },
  {
   "cell_type": "code",
   "execution_count": 99,
   "metadata": {},
   "outputs": [],
   "source": [
    "def upper_lower_case(text, case):\n",
    "    if case == 'upper':\n",
    "        return text.upper()\n",
    "    elif case == 'lower':\n",
    "        return text.lower()\n",
    "    else:\n",
    "        return text\n",
    "# upper_lower_case(text, 'upper')"
   ]
  },
  {
   "cell_type": "code",
   "execution_count": 34,
   "metadata": {},
   "outputs": [],
   "source": [
    "def stemming(words):\n",
    "    from nltk.stem import PorterStemmer\n",
    "    stemmer = PorterStemmer()\n",
    "    # words = word_Tokenizer(remove_Stopwords(upper_lower_case(text, 'lower')))\n",
    "    return [stemmer.stem(word) for word in words]"
   ]
  },
  {
   "cell_type": "code",
   "execution_count": 35,
   "metadata": {},
   "outputs": [
    {
     "name": "stderr",
     "output_type": "stream",
     "text": [
      "[nltk_data] Downloading package wordnet to /home/student/nltk_data...\n",
      "[nltk_data]   Package wordnet is already up-to-date!\n"
     ]
    }
   ],
   "source": [
    "nltk.download('wordnet')\n",
    "def lemmatization(words):\n",
    "    from nltk.stem import WordNetLemmatizer\n",
    "    lemmatizer = WordNetLemmatizer()\n",
    "    # words = word_Tokenizer(remove_Stopwords(upper_lower_case(text, 'lower')))\n",
    "    return [lemmatizer.lemmatize(word) for word in words]\n",
    "    "
   ]
  },
  {
   "cell_type": "code",
   "execution_count": 15,
   "metadata": {},
   "outputs": [
    {
     "data": {
      "text/plain": [
       "'I am learning NLP It is very interesting and exciting It is also challenging I dont know much about it now so Dr Stranglove is helping me He is a very good teacher I am enjoying his teaching'"
      ]
     },
     "execution_count": 15,
     "metadata": {},
     "output_type": "execute_result"
    }
   ],
   "source": [
    "def remove_punctuation_special_chars(text):\n",
    "    return re.sub(r'[^\\w\\s]', '', text)\n",
    "remove_punctuation_special_chars(text)\n",
    "    "
   ]
  },
  {
   "cell_type": "code",
   "execution_count": 53,
   "metadata": {},
   "outputs": [],
   "source": [
    "def remove_html_url_tags(text):\n",
    "    return re.sub(r'<.*?>|http[^\\s]+|www\\.\\S+', '', text)\n",
    "\n",
    "remove_html_url_tags(text)\n",
    "\n",
    "def extract_urls(text):\n",
    "    return re.findall(r'http[^\\s]+|www\\.\\S+', text)"
   ]
  },
  {
   "cell_type": "code",
   "execution_count": 17,
   "metadata": {},
   "outputs": [
    {
     "data": {
      "text/plain": [
       "'I am learning NLP. It is very interesting and exciting. It is also challenging. I do not know much about it now, so Dr. Stranglove is helping me. He is a very good teacher. I am enjoying his teaching.'"
      ]
     },
     "execution_count": 17,
     "metadata": {},
     "output_type": "execute_result"
    }
   ],
   "source": [
    "def replace_contractions(text):\n",
    "    return contractions.fix(text)\n",
    "replace_contractions(text)"
   ]
  },
  {
   "cell_type": "code",
   "execution_count": 18,
   "metadata": {},
   "outputs": [],
   "source": [
    "def date_format(text):\n",
    "    return re.sub(r'(\\d{2})-(\\d{2})-(\\d{4})', r'\\3-\\2-\\1', text)"
   ]
  },
  {
   "cell_type": "code",
   "execution_count": 42,
   "metadata": {},
   "outputs": [],
   "source": [
    "def format_currency(text):\n",
    "    currencies=[\"Rupee\",\"rupee\",\"Rs\",\"rs\"]\n",
    "    for c in currencies:\n",
    "        text=text.replace(c,\"Rs.\")\n",
    "    return text"
   ]
  },
  {
   "cell_type": "code",
   "execution_count": 92,
   "metadata": {},
   "outputs": [
    {
     "name": "stdout",
     "output_type": "stream",
     "text": [
      "Jamia Millia Islamia - Wikipedia Jump to content Main menu Main menu move to sidebar hide Navigation Main pageContentsCurrent eventsRandom articleAbout WikipediaContact usDonate Contribute HelpLearn to editCommunity portalRecent changesUpload file Languages Language links are at the top of the page. Search Search Create account Log in Personal tools Create account Log in Pages for logged out editors learn more ContributionsTalk Contents move to sidebar hide (Top) 1History Toggle History subsection 1.1Founders 2Campus Toggle Campus subsection 2.1Sports 2.2Library 3Organisation and administration Toggle Organisation and administration subsection 3.1Governance 3.2Faculties 3.2.1Faculty of Law 3.2.2Faculty of Engineering and Technology 3.2.3Faculty of Architecture and Ekistics 3.2.4Faculty of Humanities and Languages 3.2.5Faculty of Fine Arts 3.2.6Faculty of Social Sciences and Commerce & Business Management 3.2.7Faculty of Natural Sciences 3.2.8Faculty of Life Sciences 3.2.9Faculty of Education 3.2.10Faculty of Dentistry 3.2.11Faculty of Management Studies 3.3Centers 3.3.1AJK Mass Communication Research Center 3.3.2Centre for Physiotherapy and Rehabilitation Sciences 3.3.3Centre for Nanoscience and Nanotechnology 3.3.4Centre for European and Latin American Studies 3.3.5MMAJ Academy of International Studies 3.4Other centers 3.5Schools 4Mosques 5Rankings 6Alumni and faculties 7See also 8References 9External links Toggle the table of contents Jamia Millia Islamia 18 languages العربيةবাংলাDeutschفارسیहिन्दीBahasa Indonesiaಕನ್ನಡമലയാളംमराठीNederlandsनेपालीNorsk bokmålਪੰਜਾਬੀپنجابیSimple Englishதமிழ்Українськаاردو Edit links ArticleTalk English ReadEditView history Tools Tools move to sidebar hide Actions ReadEditView history General What links hereRelated changesUpload fileSpecial pagesPermanent linkPage informationCite this pageGet shortened URLDownload QR codeWikidata item Print/export Download as PDFPrintable version In other projects Wikimedia Commons Coordinates: 28°33′41.79″N 77°16′48.54″E﻿ / ﻿28.5616083°N 77.2801500°E﻿ / 28.5616083; 77.2801500 From Wikipedia, the free encyclopedia Central university in New Delhi, India Jamia Millia IslamiaOther nameJMIMottoʻallam al-insān-a mā lam yaʻlamMotto in EnglishTaught man what he knew not.[1]TypePublicEstablishedOctober 29, 1920; 103 years ago (1920-10-29)FoundersMahmud Hasan DeobandiMohammad Ali JauharHakim Ajmal KhanMukhtar Ahmed AnsariAbdul Majeed KhwajaAllama IqbalDr Zakir HussainMahatma GandhiMaulana Abul Kalam AzadChancellorMufaddal SaifuddinVice-ChancellorEqbal Hussain (Acting VC)[2]Students24,138[3]Undergraduates9,430[3]Postgraduates5,189[3]Doctoral students2,047[3]LocationSouth East Delhi, Delhi, IndiaCampusUrban, 254 acres (103 ha)AffiliationsUGC, NAAC, AIU, NBA, BCI, DCI, AICTE, DGCA, ACUWebsitejmi.ac.in Jamia Millia Islamia (Urdu: جامعہ ملّیہ اسلامیہ, abbreviated as JMI) is a central university located in New Delhi, India. Originally established at Aligarh, United Provinces (present-day Uttar Pradesh, India) during the British Empire in 1920, it moved to its current location in Okhla in 1935. It was given the deemed status by University Grants Commission in 1962. On 26 December 1988, it became a central university. The university was founded by Mahmud Hasan Deobandi, Mohammad Ali Jauhar, Hakim Ajmal Khan, Mukhtar Ahmed Ansari, Abdul Majeed Khwaja, Allama Iqbal, Dr Zakir Hussain, Mahatma Gandhi and Maulana Abul Kalam Azad. Its foundation stone was laid by Mahmud Hasan Deobandi, the leader of Silk Letter Movement and the first student of Darul Uloom Deoband. Muhammad Ali Jauhar served as its first vice-chancellor from 1920 to 1923, and Hakim Ajmal Khan served as the first chancellor from 1920 to 1927. On 26 May 2017, Najma Heptulla became 11th Chancellor of the university, and Najma Akhtar became the first woman to hold the post of Vice Chancellor in April 2019 and served their till 12 November 2023.[4] On 13th March 2023, Mufaddal Saifuddin was elected the 12th Chancellor of the university, replacing Najma Heptulla.[5] In 2020, Jamia Millia Islamia was ranked 1st among all central universities in the country in rankings released by Ministry of Education of India.[6] In December 2021, the university received an 'A++' ranking by National Assessment and Accreditation Council.[7] History[edit] A 1970 stamp of India dedicated to the 50 anniversary of Jamia Millia Islamia Dr. Zakir Hussain's mausoleum A mural depicting the historical landscape of Jamia Millia Islamia Jamia Millia Islamia was established in Aligarh on 29 October 1920 by Mohammad Ali Jauhar, Hakim Ajmal Khan, Mukhtar Ahmed Ansari, Abdul Majeed Khwaja, and Zakir Hussain under the presidency of Mahmud Hasan Deobandi.[8] It was established mainly in response to the demand of some students of the Aligarh Muslim University for a new National Muslim University which would be free from government influence as they felt that the administration of Aligarh Muslim University was of pro-British stance.[8][9][10] It was conceived as a national institution that would offer progressive education and an emphasis on Indian nationalism to students from all communities, particularly Muslims. Zakir Hussain described \"the movement of Jamia Millia Islamia as a struggle for education and cultural renaissance that aims to prepare a blueprint for Indian Muslims which may focus on Islam but simultaneously evolve a national culture for common Indian. It will lay the foundation of the thinking that true religious education will promote patriotism and national integration among Indian Muslims, who will be proud to take part in the future progress of India, which will play its part in the comity of nations for peace and development. The objective of establishment of Jamia Millia Islamia will be to lay down the common curriculum for Indian Muslims taking into account the future challenges and will prepare the children to be masters of future.\"[8] The emergence of Jamia was supported by Mahatma Gandhi,[11][12][13][14] who felt that Jamia Millia Islamia could shape lives of hundreds and thousands of students on the basis of a shared culture and worldview. And the Mahatma sent his youngest son Devdas Gandhi to teach Hindi here in Jamia.[15] In 1925, Jamia Millia Islamia moved from Aligarh to Karol Bagh, New Delhi.[16] On 1 March 1935, the foundation stone for a school building was laid at Okhla, then a nondescript village in the southern outskirts of Delhi. In 1936, all institutions of Jamia Millia Islamia except Jamia Press, the Maktaba, and the library moved to the new campus.[16] The University Grants Commission gave Jamia Millia Islamia the deemed status in 1962. Jamia Millia Islamia became a central university by an act of the Indian Parliament on 26 December 1988.[17] In 2006, King Abdullah of Saudi Arabia paid a visit to the university and donated USD 30 million for the construction of a library and a research center.[18] In 2019, the university emerged as a center of the Citizenship Amendment Act protests after the act was passed by the Parliament. On 13 December 2019, Delhi Police tried to forcefully dismiss the protest of students and threw tear gas inside the campus on students to control their agitation. On 15 December 2019, police entered the campus on the pretext of trying to catch the mob that destroyed public peace outside the university campus. Many students sustained injuries because of the police brutality and it sparked protests in several other universities.[19][20] Founders[edit] Jamia was founded by a group of scholars and activists including Muhammad Ali Jauhar, Hakim Ajmal Khan and Mukhtar Ahmed Ansari. The foundation stone was laid by Mahmud Hasan Deobandi, an Islamic scholar and an activist of the Indian independence movement. He was invited to preside the foundational ceremony of the university in Aligarh. His speech was prepared and read aloud by his student Shabbir Ahmad Usmani.[8][21] Its subsequent makers included Abdul Majeed Khwaja, Abid Hussain, Mohammad Mujeeb and Zakir Hussain.[8][16] Jamia's establishment was supported by politicians such as Maulana Azad and Mahatma Gandhi.[11] The foundation committee of the Jamia included Kifayatullah Dehlawi, Hussain Ahmad Madani, Syed Sulaiman Nadwi, Abdul Haq, Abdul Bari Firangi Mahali, Shabbir Ahmad Usmani, Sanaullah Amritsari, Muhammad Iqbal, Syed Mahmud and Saifuddin Kitchlew.[22][23] Campus[edit] The campus is distributed over a large area in the Okhla area of Delhi. Many of its buildings are under renovation. The university's scenic cricket ground, Nawab Mansoor Ali Khan Pataudi Sports Complex, has hosted many important tournaments and Indian women's cricket matches.[24] This ground also hosted the University Cricket Championship in 2013.[25] Besides its seven faculties, Jamia has centers of learning and research, including the Anwar Jamal Kidwai Mass Communication Research Centre (MCRC), Faculty of Engineering & Technology, Faculty of Fine Arts, Centre for Theoretical Physics, the Maulana Mohammad Ali Jauhar Academy of Third World Studies (ATWS) and a mosque. The Jamia offers undergraduate and postgraduate information and technology courses. Jamia Millia Islamia joined the green campaign and installed 2,250-kilowatt solar panels on the campus.[26] North Campus Jamia Centenary Gate at Night On 23 July 2023, Jamia Millia Islamia's Vice-Chancellor, Najma Akhtar, announced that the university has obtained approval from the Centre government to establish a medical college. Furthermore, she mentioned that they are currently working on setting up an international campus in Dubai International Academic City, West Asia. [27] Sports[edit] Nawab Mansur Ali Khan Pataudi Sports Complex, Jamia Millia Islamia Jamia has created and maintained sports facilities and infrastructure for holding cultural events and other co-curricular activities. Initially, the University got recognition in sports when Jamia won its first Gold and Silver Medal in Wrestling in 1977 at the All India Inter University Championship. Ranji Trophy and Vijaya Trophy matches are a regular event every year at the Jamia Cricket ground. In the past, Jamia has hosted Women's Cricket Test matches, Women’s World Cup matches and Blind’s Cricket World Cup matches. The facilities were used as practice ground for Commonwealth Games as well. The ground within its periphery also consists of a centrally air-conditioned indoor games stadium. The sports complex has facilities for: Cricket, Football, Lawn Tennis Court, Volleyball Court, Badminton, Basketball, Jogging Track, Athletics, Table Tennis, Yoga, Snooker Room and Hockey. The Complex is equipped with latest gymnasium and sports equipment. The admissions under sports category following games are Athletics, Boxing, Badminton, Basketball, Cricket, Football, Hockey, Shooting (Air Rifle, Air Pistol and Shot Gun), Table Tennis, Lawn Tennis, Volleyball and Wrestling. Basketball Court, Jamia Millia Islamia Sports Complex Library[edit] Dr Zakir Husain Library The University Library System, consisting of a centralized and departmental libraries and archives, has over 6.0 lakhs and approximately 1.43 lakhs subject-specific books, the best Urdu book collections; 5000 rare books; and 2230 rare manuscripts. Besides the print section, Library extensively subscribes to open access to videos; e-resources; eBooks; e-journals; other academic materials; databases for Sciences, Social Sciences, Arts-Humanities, Engineering, Law; few select databases are subscribed by University through e-Shodhganga; MOOCs courses; member of NAD. Provision of remote access to databases; and anti-plagiarism software. The Digital Resource Centre has 100 workstations as a gateway for online resources and 200 computers for students. The library is open to all bona fide students of Jamia Millia Islamia. Besides this, there are subject collection in libraries of some faculties and centres.[28] Organisation and administration[edit] Governance[edit] The governing officials of the university include the Amir-i-Jamia (chancellor), the Shaikh-ul-Jamia (vice-chancellor), the Naib Shaikh-ul-Jamia (Pro-Vice-Chancellor) and the Musajjil (Registrar). The President of India is the Visitor of the university. The Anjuman or University Court is the supreme authority of the university and has the power to review the acts of the Majlis-i-Muntazimah (Executive Council) the Majlis-i-Talimi (Academic Council) and the Majlis-i-Maliyat (Finance Committee). The Executive Council is the highest executive body of the university. The Academic Council is the highest academic body of the university and is responsible for the maintenance of standards of instruction, education and examination within the university.[29] In 2017 Najma Heptulla was appointed as the Chancellor of Jamia Millia Islamia.[30] In 2019 Najma Akhtar was appointed as the first woman vice-chancellor of Jamia Millia Islamia.[31] After which in 2023, Syedna Mufaddal Saifuddin succeeded her and was appointed as the Chancellor of Jamia Millia Islamia.[5][32] Faculties[edit] Jamia Millia Islamia has ten faculties under which it offers academic and extension programs. Faculty of Law[edit] Established in 1989, the Faculty of Law offered only the three-year LL.B.course until the early 2000s, but started additionally offering the integrated 5 Years B.A.LL.B(Hons.) course for UG students from the academic year 2002–2003. The faculty offers apart from a five-year integrated BA LLB (Honours) programme, a two-year post-graduate programme (LLM) in three specialised streams (personal law, corporate law and criminal law) and a Ph.D. programme. It also offers two-year Executive LL.M programme for working professionals.[33] The faculty secured the 9th rank among law schools in India as per NIRF LAW Ranking 2020.[34] The courses taught at the faculty include LL. M, Personal Law, Corporate Law, Criminal Law, B.A.LL.B (Hons), P.G. Diploma, Labour Law and Air and Space Law. Faculty of Engineering and Technology[edit] MiG-23, Fighter Jet of the Indian Air Force stands in front of the College of Engineering Main article: Faculty Of Engineering, Jamia Millia Islamia The Faculty of Engineering and Technology (FET) was established in 1985. Its has several departments offering programmes in PhD, M.Tech, M.Sc, B.Tech and B.Sc including Civil Engineering, Mechanical Engineering, Electrical Engineering, Electronics & Communication Engineering, Computer Engineering, Aeronautics, Applied Sciences & Humanities and Environmental Science. They also provide specialization courses for master's degrees such as Environmental Science and Engineering, Earthquake Engineering, Machine Design, Thermal Engineering, Production and Industrial Engineering, Electrical Power Management System, Control & Instrumental System, Electronics, Energy Science and Management, Energy Science and Technology. The faculty offers regular courses and continuing programmes. In the Times Higher Education Subject Ranking-2020, JMI ranked 401–500 in Engineering and Technology. Within India its rank is 11 among all higher education institutions while among universities it is 2nd position.[35] JMI was placed at 501–600 in computer science, while among Indian Institutions it has been ranked at 16th position and at 7th among Indian universities.[35] Faculty of Architecture and Ekistics[edit] Jamia Millia Islamia is the only Central university having the full-fledged Faculty of Architecture & Ekistics. The architecture program was started in the Year 2001–2002. This Faculty has the Department of Architecture which offers two-degree courses in Bachelor of Architecture, Nine Masters courses and PhD. The courses include undergraduate, postgraduate and doctoral studies in subjects such as Architecture, Architecture Pedagogy, Health Architecture, Building Services, Urban Regeneration, Ekistics, Master of Planning (M.Plan) and Master of Design (M.Des)[36][37] Faculty of Humanities and Languages[edit] A view of the Faculty of Humanities and Languages building This Faculty has ten departments offering programmes in PhD, M Phil (pre-PhD), Postgraduate, Undergraduate, Diploma and Certificate courses. Department of English, Jamia Millia Islamia Department of Islamic Studies and Dean office, Faculty of humanities and languages The faculty has departments include the departments for Arabic, English, Hindi, History and Culture, Islamic Studies, Persian, Iranology, Urdu, Sanskrit and Foreign Languages such as Korean, Turkish, French and Spanish. Also provide certificate programme like Chinese, Uzbek, Portuguese, Russian, Kazakh, Italian etc. Islamic studies has been a subject at Jamia Millia Islamia since its inception. It was instituted as a separate department in 1988. The department has been headed by scholars like Zayn al-Abidin Sajjad Meerthi.[38] The department publishes an annual magazine, Sada e Jauhar.[39] Faculty of Fine Arts[edit] This Faculty has six departments offering programmes in PhD, Master of Fine Arts (MFA), Bachelor of Fine Arts (BFA), diploma and certificate courses. The subjects taught include Painting, Sculpture, Applied Arts, Art Education, Graphic Art and Art History & Art Appreciation. The campus has an art gallery named after the Indian painter M. F. Hussain. Faculty of Social Sciences and Commerce & Business Management[edit] Gulistan-e-Ghalib, which features the statue of Mirza Ghalib This varsity's Faculty of Social Sciences and Commerce & Business Management consists of nine departments. These include the departments for Social Sciences, Psychology, Economics, Political Science, Sociology, Social Work, Commerce & Business Studies and the Library and Information Science. Department of Mathematics The College of Social Science is based around Gulistan-e-Ghalib and is commonly referred to as the Main Campus. Faculty of Natural Sciences[edit] The faculty of Natural Sciences consists of five departments i.e., Physics, Chemistry, Mathematics, Geography, Computer Science. In addition, there are four associated centres namely the Centre for Theoretical Physics, Centre for Interdisciplinary Research in Basic Sciences, Centre for Nanoscience and Nanotechnology and the Multidisciplinary Centre Advanced Research in Science. Faculty of Life Sciences[edit] The faculty of Life Sciences consists of two departments i.e., Biosciences and Biotechnology.[40] These departments are in Srinivasa Ramanujan Block in Mujeeb Bagh. Faculty of Education[edit] This Faculty specializes in quality training and education to budding teachers through two departments namely Educational Studies and Institute of Advanced Studies in Education, formerly known as the department of Teacher Training and Non-Formal Education. Faculty of Dentistry[edit] This faculty offering B. D. S. Programmes[41] Faculty of Management Studies[edit] The faculty consists of departments for Management Studies, Hospital Management & Hospice Studies, and Tourism & Hospitality Management. Centers[edit] AJK Mass Communication Research Center[edit] FTK communication centre in the campus Main article: AJK, Mass Communication Research Centre The Mass Communication Research Centre was established in 1982 by Anwar Jamal Kidwai, then vice-chancellor (later chancellor) of Jamia Millia Islamia.[citation needed] The centers offers postgraduate courses in Mass Communication. The FTK-Centre for Information Technology provides internet facility for the faculty members, staff, research scholars, and students.[42] The centre offers courses including Master of Arts(M.A.) courses in Mass Communication, Convergent Journalism, Development Communication, Visual Effect and Animation as well as postgraduate diplomas in, Still Photography and Visual Communication, Acting and Broadcast Technology.[43] Centre for Physiotherapy and Rehabilitation Sciences[edit] The centre offers courses including , (B.P.T) Bachelor of Physiotherapy , M.P.T. (Sports), M.P.T. (Orthopaedics), M.P.T. (Neurology), M.P.T. (Cardiopulmonary) and the doctorate in philosophy. Centre for Nanoscience and Nanotechnology[edit] The centre aims to promote forefront basic and applied research in the fields of nanoscience and nanotechnology, with potential applications towards fulfilling national strategic needs. The main research focus of the centre includes nano-fabrication and nano-device, nano-materials and nano-structures, nano-biotechnology and nano-medicine, nano-structure characterization and measurements. Its offers PhD and M.Tech (Nanotechnology) courses.[citation needed] Centre for European and Latin American Studies[edit] The centre offers part-time Certificate, Diploma and Advanced Diploma courses in five languages viz. French, Spanish, Italian, Portuguese and Russian. It also offers M.Phil/PhD in European Studies and Latin American Studies.[citation needed] MMAJ Academy of International Studies[edit] MMAJ Academy of International Studies, Jamia Millia Islamia Formerly Academy of Third World Studies, MMAJ Academy of International Studies was established in 1988 under the initiative of the then Prime Minister Rajiv Gandhi to conduct inter-disciplinary research on social, political and economic issues pertaining to the developing countries.[44] Subsequently, it was renamed after one of the co-founders of Jamia Millia Islamia, Maulana Mohamad Ali Jauhar.[44] The academy offers M.Phil. and Ph.D. programmes in International Studies, postgraduate courses (Politics: International and Area Studies) and language courses in Uzbek and Chinese.[44] It also has its own library and documentation centre, named after Dr. Abid Husain, another founder of Jamia Millia Islamia.[44] Other centers[edit] Jamia's other academic and non-academic centers include Dr. Zakir Husain Institute of Islamic Studies, FTK-Centre for Information Technology, Centre for Distance and Open Learning, Deen Dayal Upadhyaya Kaushal Kendra, Nelson Mandela Centre for Peace and Conflict Resolution, Centre for Jawaharlal Nehru Studies, Centre for Comparative Religions and Civilizations, Centre for West Asian Studies, Dr. K.R. Narayanan Centre for Dalit and Minorities Studies, Academy of Professional Development of Urdu Medium Teachers, Centre for North East Studies and Policy Research, Centre for Theoretical Physics, India – Arab Cultural Centre, Centre for Culture Media & Governance, Centre for Interdisciplinary Research in Basic Sciences, Centre for the Study of Social Exclusion and Inclusive Policy, UGC-Human Resource Development Centre, Centre for Coaching and Career Planning, Jamia's Premchand Archives & Literary Centre, Sarojini Naidu Centre for Women's Studies, University Counseling & Guidance Centre, Centre for Early Childhood Development and Research, Centre for Innovation and Entrepreneurship (CIE), and the Multidisciplinary Centre for Advanced Research and Studies.[45] Schools[edit] Jamia Millia Islamia also imparts education from nursery to senior secondary level. Its schools include: Balak Mata Centre Gerda Philipsborn Day Care Centre Mushir Fatma Jamia Nursery School Jamia Middle School Jamia Senior Secondary School Syed Abid Husain Senior Secondary School and Jamia Girls Senior Secondary School.[46] Mosques[edit] The varsity has got certain mosques in the campus including the Central Mosque. The central mosque is located opposite to the central library and has a capacity of over 1000 people.[47][48] This mosque is situated on Maulana Mohammad Ali Jauhar Marg Delhi.[49][50] Central Mosque, Jamia Millia Islamia Rankings[edit] University rankingsGeneral – internationalQS (World) (2023)[51]801–1000QS (Asia) (2023)[52]188Times (World) (2023)[53]501–600Times (Asia) (2022)[54]128Times (Emerging) (2022)[55]172General – IndiaNIRF (Overall) (2023)[56]12NIRF (Research) (2023)[57]20NIRF (Universities) (2023)[58]3Outlook India (Universities) (2020)[59]12Engineering – IndiaNIRF (2023)[60]26Law – IndiaNIRF (2023)[61]5Government colleges: Outlook India (2022)[62]6Business/Management – IndiaNIRF (2023)[63]25Architecture – IndiaNIRF (2023)[64]6Dental – IndiaNIRF (2023)[65]10 Internationally, Jamia Millia Islamia was ranked 801–1000 in the QS World University Rankings of 2023[51] and 188 in Asia.[52] It was ranked 501–600 in the world by the London based Times Higher Education World University Rankings of 2023,[53] 128 in Asia in 2023 and 172 among emerging economies.[55] Jamia Millia Islamia has been ranked 428 out of 1100 universities worldwide by Moscow based Round University Ranking 2023.[66] According to U.S. News & World Report, Jamia Millia Islamia is ranked #856 in Best Global Universities. Schools are ranked according to their performance across a set of widely accepted indicators of excellence. Jamia Millia Islamia (JMI) has secured the first position among all the central universities in the country in the ranking that was released by the Ministry of Education with a score of 90 per cent. It was ranked 12th in India overall by the National Institutional Ranking Framework (NIRF) in 2023,[56] 3rd among universities,[58] 5th in law ranking,[61] 6th in architecture ranking,[64] 10th in the dental ranking,[65] 26th in the engineering ranking,[60] 20th in Research institutes[67] and 25th in the management ranking.[63] The Faculty of Law was ranked 6 among government law schools in India by Outlook India in 2022.[62] Alumni and faculties[edit] Main articles: List of Jamia Millia Islamia people and List of Chancellors and Vice-Chancellors of Jamia Millia Islamia Since its inception, Jamia Millia Islamia has produced alumni across various disciplines, including Shah Rukh Khan, Mouni Roy, Arfa Khanum Sherwani, Barkha Dutt, Anjana Om Kashyap, Ampareen Lyngdoh, Kunwar Danish Ali, Virendar Sehwag, Imran Raza Ansari and Mohammad Najeeb Qasmi. See also[edit] List of Islamic educational institutions Jamia Hamdard Distance Education Council Education in Delhi Education in India List of universities in India Universities and colleges in India Mahmud Hasan Deobandi & Jamia Millia References[edit] ^ \"Surah Al-Alaq Verse 5 | 96:5 العلق – Quran O\". qurano.com. Retrieved 5 July 2021. ^ \"Najma Akhtar retires, Eqbal Hussain takes over as acting Vice Chancellor of Jamia Millia Islamia\". www.telegraphindia.com. Retrieved 17 November 2023. ^ a b c d \"Combined Prospectus Schools 2022\" (PDF). Jamia Millia Islamia. 2021. ^ \"Najma Heptulla appointed new Jamia Chancellor\". The Times of India. 29 May 2017. ISSN 0971-8257. Retrieved 13 March 2023. ^ a b \"Dr Syedna Mufaddal Saifuddin to be the new chancellor of Jamia Millia Islamia\". The Indian Express. 13 March 2023. Retrieved 13 March 2023. ^ Ibrar, Mohammad (13 August 2020). \"Jamia Millia Islamia tops central universities in government rankings\". The Times of India. Retrieved 9 October 2022. ^ \"What got Jamia Millia Islamia NAAC A++ grade?\". India Today. 16 December 2021. Retrieved 9 October 2022. ^ a b c d e Zafar Ahmad Nizami (2011). Memarān-e-Jamia (in Urdu). Maktaba Jamia Limited, Delhi. ISBN 978-81-7587-475-6. ^ Syed Muhammad Miyan Deobandi. Ulama-e-Haqq Ke Mujahidana Karname. Faisal International, New Delhi. ^ \"Shaikhul-Hind Mahmood Hasan: symbol of freedom struggle\". MilliGazette.com. 12 February 2016. Retrieved 9 April 2020. ^ a b Mahtab Alam (29 October 2019). \"Gandhi, a Lifelong Friend of Jamia Millia Islamia\". The Wire. Retrieved 18 January 2020. ^ India Today Web Desk (3 October 2019). \"Mahatma Gandhi's rare letters displayed by Jamia Millia Islamia\". India Today. Retrieved 18 January 2020. ^ Nishat Zaidi (23 December 2019). \"Jamia remains the cradle of Gandhi's ideals\". The Hindu. Retrieved 18 January 2020. ^ \"Gandhiji on the Indian Muslims and Jamia: Some Reflections\". Countercurrents. 12 October 2019. Retrieved 18 January 2020. ^ \"Jamia Millia and Mahatma Gandhi: A Walk into History Lanes\". 12 September 2021. Archived from the original on 12 September 2021. Retrieved 8 December 2023. ^ a b c \"Profile of Jamia Millia Islamia – History – Historical Note\". www.jmi.ac.in. Retrieved 12 August 2019. ^ Javed Akhatar. Jamia Millia Islamias contribution to Islamic studies since 1920 (PDF). pp. 26–41. Retrieved 9 April 2020. ^ \"Abdullah Donates $30m to Jamia Millia Islamia\". Arab News. 1 June 2006. Retrieved 15 November 2023. ^ \"Protest outside IIM-A in support of Jamia students; 50 held\". The Hindu. PTI. 16 December 2019. ISSN 0971-751X. Retrieved 18 December 2019.{{cite news}}: CS1 maint: others (link) ^ \"From Oxford to Harvard, universities abroad see protests against police crackdown in Jamia, AMU\". The Economic Times. 17 December 2019. Retrieved 18 December 2019. ^ Syed Muhammad Miyan Deobandi, Ulama-e-Haqq Aur Unke Mujahidana Karname, Vol. 1, Page 144. ^ \"History of Jamia Millia Islamia\". Jamia Millia Islamia. Archived from the original on 30 June 2007. Retrieved 24 April 2021. ^ Shamsur Rahman Mohsini. Qawmi Taleemi Tehreek [National Educational Movement] (2012 ed.). Delhi: Maktaba Jamia. p. 19. ISBN 978-81-7587-788-7. ^ \"Jamia Millia Islamia University Ground | India | Cricket Grounds | ESPNcricinfo.com\". Cricinfo. Retrieved 24 January 2019. ^ Jaleel, Khalid (17 February 2013). \"Jamia to Play in the Highly-Anticipated Toyota University Cricket Championship\". Jamia Journal. Retrieved 24 January 2019. ^ \"Eco revolution! Solar-powered Jamia Milia Islamia to get green buildings too\". www.timesnownews.com. 29 December 2018. Retrieved 24 January 2019. ^ Shreya Ghosh (24 July 2023). \"Jamia Millia Islamia gets central nod to set up medical college\". Times of India. Retrieved 25 July 2023. ^ Nigar. Collection and Development in the University Libraries of Jamia Millia Islamia and Jamia Hamdard (PDF). Aligarh Muslim University. pp. 36–46. Retrieved 8 April 2020. ^ \"The Jamia Millia Islamia Act, 1988\" (PDF). jmi.ac.in. ^ \"Najma Heptulla Appointed First Woman Chancellor Of Jamia Millia Islamia\". NDTV.com. Retrieved 23 December 2020. ^ \"Professor Najma Akhtar appointed Jamia Millia's first woman vice-chancellor\". Hindustan Times. 12 April 2019. Retrieved 23 December 2020. ^ \"Jamia gets new Chancellor – The Okhla Times\". 13 March 2023. Retrieved 13 March 2023. ^ \"Jamia – Faculties -Faculty of Law – Introduction\". www.jmi.ac.in. Retrieved 22 June 2021. ^ Nazmi, Shadab. \"India's best universities: Jamia Millia Islamia's law faculty is ready for judgment day\". India Today. Retrieved 22 June 2021. ^ a b \"Jamia Millia Islamia improves position in THE Subject Rankings for Engineering and Technology\". India Today. ^ \"Jamia – Faculties -Faculty of Architecture and Ekistics – Introduction\". www.jmi.ac.in. Retrieved 7 September 2020. ^ \"Jamia Prospectus 2022-23- List of Courses\" (PDF). ^ Syed Mehboob Rizwi. History of the Dar al-Ulum, Deoband (1st, 1981 ed.). Darul Uloom Deoband. pp. 114–116. ^ \"Department of Islamic Studies\". Jamia Millia Islamia. Retrieved 3 July 2017. ^ \"Latest - Jamia\". jmi.ac.in. Retrieved 14 January 2024. ^ \"Faculty of Dentistry\". Jamia Millia Islamia. Retrieved 3 July 2017. ^ http://jmi.ac.in/cit/cit.htm[bare URL] ^ \"Jamia – Centres -A.J.K. Mass Communication Research Centre – Programmes/Courses -\". www.jmi.ac.in. Retrieved 21 October 2020. ^ a b c d \"Jamia – Centres – MMAJ Academy of International Studies – Introduction\". www.jmi.ac.in. Retrieved 7 March 2022. ^ Full list of Faculties/Centres Archived 12 November 2006 at the Wayback Machine ^ \"About JAMIA\". ^ Halder, Ritam; Sharma, Vibha (29 February 2020). \"At Jama Masjid and Jamia Millia Islamia Central Mosque: Prayers for peace, amity\". The Times of India. Retrieved 14 January 2023. ^ Ramanathan, Usha (2006). \"Illegality and the Urban Poor\". Economic and Political Weekly. 41 (1). ^ Times, Isma (4 August 2022). \"अल्लाह का घर: सेंट्रल जामिया मस्जिद जामिया मिलिया इस्लामिया\". Isma Times (in Hindi). Retrieved 16 January 2023. ^ \"A stately mosque being built in Jamia Millia\". The Milli Gazette — Indian Muslims Leading News Source. Retrieved 16 January 2023. ^ a b \"QS World University Rankings 2023\". QS Quacquarelli Symonds Limited. 8 June 2022. ^ a b \"QS Asia University Rankings 2023\". QS Quacquarelli Symonds Limited. 8 November 2022. ^ a b \"World University Rankings 2023\". Times Higher Education. 2022. ^ \"Asia University Rankings 2022\". Times Higher Education. 2022. ^ a b \"Emerging Economies University Rankings 2022\". Times Higher Education. 2022. ^ a b \"National Institutional Ranking Framework 2023 (Overall)\". National Institutional Ranking Framework. Ministry of Education. 5 June 2023. ^ \"National Institutional Ranking Framework 2023 (Research)\". National Institutional Ranking Framework. Ministry of Education. 5 June 2023. ^ a b \"National Institutional Ranking Framework 2023 (Universities)\". National Institutional Ranking Framework. Ministry of Education. 5 June 2023. ^ \"Top 75 Universities In India In 2020\". Outlook India. 8 October 2020. Archived from the original on 15 September 2020. Retrieved 8 October 2020. ^ a b \"National Institutional Ranking Framework 2023 (Engineering)\". National Institutional Ranking Framework. Ministry of Education. 5 June 2023. ^ a b \"National Institutional Ranking Framework 2023 (Law)\". National Institutional Ranking Framework. Ministry of Education. 5 June 2023. ^ a b \"Outlook-ICARE Rankings 2022: Top 13 Government Law Institutes In India\". Outlook India. 8 July 2022. ^ a b \"National Institutional Ranking Framework 2023 (Management)\". National Institutional Ranking Framework. Ministry of Education. 5 June 2023. ^ a b \"National Institutional Ranking Framework 2023 (Architecture)\". National Institutional Ranking Framework. Ministry of Education. 5 June 2023. ^ a b \"National Institutional Ranking Framework 2023 (Dental)\". National Institutional Ranking Framework. Ministry of Education. 5 June 2023. ^ \"JMI SCALES HIGH IN MOSCOW BASED RUR WORLD UNIVERSITY RANKING 2021\". Retrieved 30 April 2020. ^ \"MoE, National Institute Ranking Framework (NIRF)\". www.nirfindia.org. Retrieved 10 August 2022. External links[edit] Media related to Jamia Millia Islamia at Wikimedia Commons Official website vteMahmud Hasan DeobandiPersonal Religion: Islam Sunni Jurisprudence: Hanafi Movement: Deobandi Notable works and ideas Silk Letter Movement Tarjuma Shaykh al-Hind Adilla-e-Kāmilah Īzah al-adillah Jamia Millia Islamia Disciples and influenced List of students of Mahmud Hasan Deobandi Legacy Shaikh-Ul-Hind Maulana Mahmood Hasan Medical College Category:Mahmud Hasan Deobandi vteUniversities and colleges in DelhiUniversitiesCentral universities Delhi University Jawaharlal Nehru University Jamia Millia Islamia University IGNOU State universities Delhi Technological University Dr. B. R. Ambedkar University Delhi Guru Gobind Singh Indraprastha University Indraprastha Institute of Information Technology, Delhi Netaji Subhas University of Technology Institutes of National Importance All India Institute of Medical Sciences (AIIMS) Delhi Indian Institute of Technology Delhi National Institute of Technology Delhi Deemed universities Jamia Hamdard University Indian Law Institute National School of Drama Indian Agricultural Research Institute Indian Institute of Foreign Trade National Museum Institute of History of Art TERI University Shri Lal Bahadur Shastri Rashtriya Sanskrit Vidyapeetha School of Planning and Architecture Rashtriya Sanskrit Sansthan CollegesGovernment aided School of Biotechnology School of Chemical Technology School of I.T. School of Law School of Management Studies Indira Gandhi Delhi Technical University for Women Govind Ballabh Pant Engineering College Autonomous Deendayal Upadhyaya Institute for the Physically Handicapped Delhi portal vte National Capital Territory of DelhiTopics Architecture Climate Economy Education Government History Sport Tourism Transport History Timeline Indraprastha Hastinapur Tomaras Chauhan Prithviraj Raso Muslim conquests in the Indian subcontinent Delhi Sultanate Mamluk dynasty Khalji dynasty Tughlaq dynasty Sayyid dynasty Lodi dynasty Sher Shah Suri Mughal Empire Old Delhi Maratha Empire British East India Company Bahadur Shah Zafar Indian Rebellion of 1857 British Raj Viceroy of India Indian independence movement Partition of India New Delhi Governmentand administration Legislatures Government of India Parliament of India Government of Delhi Delhi Legislative Assembly Delhi Cantonment Board New Delhi Municipal Council Municipal Corporation of Delhi Heads Prime Minister of India President of India Chief Minister of Delhi Lieutenant Governor of Delhi President of Delhi Cantonment Board Chairman of New Delhi Municipal Council Mayors of Municipal Corporations Appellate courts Supreme Court of India Delhi High Court GoI agencies Delhi Police Delhi Development Authority GNCTD agencies Delhi Commission for Women Delhi Jal Board Delhi Vidyut Board Delhi Fire Service Delhi Transport Corporation Delhi Directorate of Education DUSIB DTTDC Autonomous bodies Delhi State Election Commission Places of interestGovernment buildings Parliament House/Sansad Bhavan Old Parliament House, New Delhi New Parliament House, New Delhi Rashtrapati Bhavan Historic sites Agrasen Ki Baoli Ashokan Edicts Bara Gumbad Barakhamba Central Park (Sunder Nursery) Chausath Khamba Chor Minar Coronation Park Feroz Shah Kotla Gates of Delhi Hauz-i-Shamsi Hauz Khas Complex Hijron Ka Khanqah Humayun's Tomb Jahanpanah Jahaz Mahal Jamali Kamali Mosque and Tomb Jantar Mantar Khirki Mosque Lotus Temple Mehrauli complex Metcalfe House Moth ki Masjid Purana Qila Qila Rai Pithora Qutb Minar complex Red Fort Salimgarh Fort Shish Gumbad Siri Fort Sultan Ghari Teen Murti Bhavan Tomb of Isa Khan Tomb of Safdar Jang Tughlaqabad Fort Memorialsand museums India Gate National Police Memorial National War Memorial Raj Ghat Wall of Truth Indian Air Force Museum National Rail Museum Neighbourhoods Chanakyapuri Civil Lines Hauz Khas Karol Bagh Lajpat Nagar Religious sites Ahinsa Sthal Akshardham Chhatarpur Temple Fatehpuri Mosque Gurudwara Bangla Sahib Gurudwara Sis Ganj Sahib Hanuman Temple ISKCON Temple Jama Masjid Kalkaji Mandir Laxminarayan Temple Lotus Temple Nizamuddin Dargah Sacred Heart Cathedral Shri Atma Vallabh Jain Smarak Sri Digambar Jain Lal Mandir Viceroy Church Yogmaya Temple Streets and plazas Chandni Chowk Connaught Place Dilli Haat G. B. Road Janpath Khari Baoli Palika Bazaar Ramlila Maidan Rajpath Geographyand divisionsDistricts Central Delhi East Delhi New Delhi North Delhi North East Delhi North West Delhi Shahdara South Delhi South East Delhi South West Delhi West Delhi National Capital Region Faridabad Ghaziabad Greater Noida Gurgaon Noida Satellite cities Gurgaon Faridabad Jhajjar Bahadurgarh Noida Greater Noida Dadri Ghaziabad Baghpat TransportAirWithin Delhi Indira Gandhi International Airport Safdarjung Airport Outside Delhi Hindon Airport Noida International Airport (under construction) Rail Indian railway stations Anand Vihar Terminal Delhi Junction Sarai Rohilla Hazrat Nizamuddin New Delhi Urban and suburban rail Delhi Metro Delhi Suburban Railway Delhi Ring Railway Regional Rapid Transit System (RRTS) (under construction) RoadBus terminals Anand Vihar ISBT Kashmere Gate ISBT Sarai Kale Khan ISBT Highways / expressways Inner Ring Road Outer Ring Road DND Flyway Delhi–Gurgaon Expressway Delhi–Meerut Expressway Delhi–Faridabad Skyway SportsTeamsCurrent Delhi cricket team Delhi football team Delhi Capitals Delhi Waveriders Dabang Delhi Sudeva Delhi FC Delhi FC Defunct Delhi Capitals (basketball) Delhi Defenders Delhi Dynamos FC Delhi Giants Delhi Smashers Delhi United FC Delhi Wizards Garhwal FC Hindustan FC New Delhi Heroes FC Simla Youngs FC Stadiums Arun Jaitley Stadium Chhatrasal Stadium Delhi University Stadium Dr. Ambedkar Stadium Dr. Karni Singh Shooting Range Indira Gandhi Arena Jawaharlal Nehru Stadium Major Dhyan Chand National Stadium Siri Fort Sports Complex SPM Swimming Pool Complex Talkatora Stadium Thyagaraj Sports Complex Yamuna Sports Complex Games 1951 Asian Games 1982 Asian Games 1987 Cricket World Cup 1989 Asian Athletics Championships 1996 Cricket World Cup 2010 Commonwealth Games 2010 Men's Hockey World Cup 2011 Cricket World Cup 2017 FIFA U-17 World Cup Delhi Half Marathon Culture Independence Day Republic Day Cinema Shopping Delhi Pride Qutub Festival Punjabi cuisine Other templates Hindu temples Landmarks Museums Neighbourhoods Power plants Schools Universities and colleges Related Buildings and structures Neighbourhoods Tourist attractions Parks Notable people from Delhi List of cities in India by population India portal vteCentral universities of IndiaCentral universities Aligarh Muslim University Assam University Babasaheb Bhimrao Ambedkar University Banaras Hindu University Central Agricultural University Delhi University Dr. Hari Singh Gour University Dr. Rajendra Prasad Central Agriculture University English and Foreign Languages University Indian Maritime University Indira Gandhi National Open University Indira Gandhi National Tribal University Jamia Millia Islamia Jawaharlal Nehru University Mahatma Gandhi Antarrashtriya Hindi Vishwavidyalaya Manipur University Maulana Azad National Urdu University Mizoram University Nagaland University North-Eastern Hill University Pondicherry University Rajiv Gandhi University Sikkim University Tezpur University Tripura University University of Allahabad University of Hyderabad Visva-Bharati University New central universities† Central Sanskrit University Central Tribal University of Andhra Pradesh Central University of Andhra Pradesh Central University of South Bihar Central University of Gujarat Central University of Himachal Pradesh Central University of Haryana Central University of Jammu Central University of Jharkhand Central University of Karnataka Central University of Kashmir Central University of Kerala Central University of Odisha Central University of Punjab Central University of Rajasthan Central University of Tamil Nadu Guru Ghasidas Vishwavidyalaya Hemwati Nandan Bahuguna Garhwal University Mahatma Gandhi Central University Nalanda University National Sanskrit University Rajiv Gandhi National Aviation University Shri Lal Bahadur Shastri National Sanskrit University Sindhu Central University South Asian University † Established or granted central university status in 2009 or afterwards. vteUniversities in Delhi All India Institute of Medical Sciences, New Delhi Ambedkar University Delhi Delhi Pharmaceutical Science and Research University Delhi Technological University Indira Gandhi National Open University Indian Agricultural Research Institute Indian Institute of Technology Delhi Indian Law Institute Indian Statistical Institute campus Indira Gandhi Delhi Technical University for Women Indraprastha Institute of Information Technology Indraprastha University Jamia Hamdard Jamia Millia Islamia Jawaharlal Nehru University National Institute of Educational Planning and Administration National Institute of Technology Delhi National Law University, Delhi Netaji Subhas University of Technology School of Planning and Architecture, Delhi TERI School of Advanced Studies University of Delhi Authority control databases International ISNI VIAF National Israel United States Other IdRef İslâm Ansiklopedisi 28°33′41.79″N 77°16′48.54″E﻿ / ﻿28.5616083°N 77.2801500°E﻿ / 28.5616083; 77.2801500 Retrieved from \"https://en.wikipedia.org/w/index.php?title=Jamia_Millia_Islamia&oldid=1203708507\" Categories: Mahmud Hasan DeobandiJamia Millia IslamiaNew DelhiCentral universities in IndiaIslamic universities and colleges in IndiaEducational institutions established in 19201920 establishments in British IndiaMahatma GandhiHidden categories: CS1 Urdu-language sources (ur)CS1 maint: othersAll articles with bare URLs for citationsArticles with bare URLs for citations from August 2022Webarchive template wayback linksCS1 Hindi-language sources (hi)Articles with short descriptionShort description is different from WikidataUse Indian English from April 2017All Wikipedia articles written in Indian EnglishUse dmy dates from December 2018Articles using infobox universityPages using infobox university with the image name parameterPages using infobox university with the affiliations parameterAll articles with unsourced statementsArticles with unsourced statements from March 2021Articles with unsourced statements from November 2023Commons category link from WikidataArticles with ISNI identifiersArticles with VIAF identifiersArticles with J9U identifiersArticles with LCCN identifiersArticles with SUDOC identifiersArticles with TDVİA identifiersCoordinates on Wikidata This page was last edited on 5 February 2024, at 12:07 (UTC). Text is available under the Creative Commons Attribution-ShareAlike License 4.0; additional terms may apply. By using this site, you agree to the Terms of Use and Privacy Policy. Wikipedia® is a registered trademark of the Wikimedia Foundation, Inc., a non-profit organization. Privacy policy About Wikipedia Disclaimers Contact Wikipedia Code of Conduct Developers Statistics Cookie statement Mobile view Toggle limited content width\n"
     ]
    }
   ],
   "source": [
    "URL = \"https://en.wikipedia.org/wiki/Jamia_Millia_Islamia\" \n",
    "headers = {'User-Agent': \"Mozilla/5.0 (Windows NT 10.0; Win64; x64) AppleWebKit/537.36 (KHTML, like Gecko) Chrome/42.0.2311.135 Safari/537.36 Edge/12.246\"} \n",
    "# Here the user agent is for Edge browser on windows 10. You can find your browser user agent from the above given link. \n",
    "r = requests.get(url=URL, headers=headers) \n",
    "# print(r.content)\n",
    "# soup = BeautifulSoup(r.content, 'html5lib')\n",
    "# temp = '<p>how are you</p>'\n",
    "# paragraphs = re.findall(r'<p>(.*?)</p>', temp)\n",
    "# print(soup)\n",
    "# print(paragraphs)\n",
    "soup = BeautifulSoup(r.content, 'html.parser') # If this line causes an error, run 'pip install html5lib' or install html5lib \n",
    "text_content = \" \".join(soup.get_text().split())\n",
    "print(text_content)"
   ]
  },
  {
   "cell_type": "code",
   "execution_count": 103,
   "metadata": {},
   "outputs": [],
   "source": [
    "cleaned_text = upper_lower_case(text_content, 'lower')\n",
    "cleaned_text = remove_html_url_tags(cleaned_text)\n",
    "cleaned_text = replace_contractions(cleaned_text)\n",
    "# cleaned_text = remove_punctuation_special_chars(cleaned_text)\n",
    "cleaned_text = remove_Stopwords(cleaned_text)\n",
    "cleaned_text = date_format(cleaned_text)\n",
    "# cleaned_text = format_currency(cleaned_text)\n"
   ]
  },
  {
   "cell_type": "code",
   "execution_count": 105,
   "metadata": {},
   "outputs": [
    {
     "name": "stdout",
     "output_type": "stream",
     "text": [
      "['jamia', 'millia', 'islamia', 'wikipedia', 'jump', 'content', 'main', 'menu', 'main', 'menu', 'move', 'sidebar', 'hide', 'navigation', 'main', 'pagecontentscurrent', 'eventsrandom', 'articleabout', 'wikipediacontact', 'usdonate', 'contribute', 'helplearn', 'editcommunity', 'portalrecent', 'changesupload', 'file', 'languages', 'language', 'links', 'top', 'page', 'search', 'search', 'create', 'account', 'log', 'peRs.onal', 'tools', 'create', 'account', 'log', 'pages', 'logged', 'editoRs.', 'learn', 'contributionstalk', 'contents', 'move', 'sidebar', 'hide', 'top', '1history', 'toggle', 'history', 'subsection', '11foundeRs.', '2campus', 'toggle', 'campus', 'subsection', '21sports', '22library', '3organisation', 'administration', 'toggle', 'organisation', 'administration', 'subsection', '31governance', '32faculties', '321faculty', 'law', '322faculty', 'engineering', 'technology', '323faculty', 'architecture', 'ekistics', '324faculty', 'humanities', 'languages', '325faculty', 'fine', 'arts', '326faculty', 'social', 'sciences', 'commerce', 'business', 'management', '327faculty', 'natural', 'sciences', '328faculty', 'life', 'sciences', '329faculty', 'education', '3210faculty', 'dentistry', '3211faculty', 'management', 'studies', '33centeRs.', '331ajk', 'mass', 'communication', 'research', 'center', '332centre', 'physiotherapy', 'rehabilitation', 'sciences', '333centre', 'nanoscience', 'nanotechnology', '334centre', 'european', 'latin', 'american', 'studies', '335mmaj', 'academy', 'international', 'studies', '34other', 'centeRs.', '35schools', '4mosques', '5rankings', '6alumni', 'faculties', '7see', 'also', '8references', '9external', 'links', 'toggle', 'table', 'contents', 'jamia', 'millia', 'islamia', '18', 'languages', 'العربيةবলdeutschفارسیहनदbahasa', 'indonesiaಕನನಡമലയളमरठnederlandsनपलnoRs.k', 'bokmålਪਜਬپنجابیsimple', 'englishதமழукраїнськаاردو', 'edit', 'links', 'articletalk', 'english', 'readeditview', 'history', 'tools', 'tools', 'move', 'sidebar', 'hide', 'actions', 'readeditview', 'history', 'general', 'links', 'hererelated', 'changesupload', 'filespecial', 'pagespermanent', 'linkpage', 'informationcite', 'pageget', 'shortened', 'urldownload', 'qr', 'codewikidata', 'item', 'printexport', 'download', 'pdfprintable', 'veRs.ion', 'projects', 'wikimedia', 'commons', 'coordinates', '28334179n', '77164854e', '285616083n', '772801500e', '285616083', '772801500', 'wikipedia', 'free', 'encyclopedia', 'central', 'univeRs.ity', 'new', 'delhi', 'india', 'jamia', 'millia', 'islamiaother', 'namejmimottoʻallam', 'alinsāna', 'mā', 'lam', 'yaʻlammotto', 'englishtaught', 'man', 'knew', 'not1typepublicestablishedoctober', '29', '1920', '103', 'yeaRs.', 'ago', '19201029foundeRs.mahmud', 'hasan', 'deobandimohammad', 'ali', 'jauharhakim', 'ajmal', 'khanmukhtar', 'ahmed', 'ansariabdul', 'majeed', 'khwajaallama', 'iqbaldr', 'zakir', 'hussainmahatma', 'gandhimaulana', 'abul', 'kalam', 'azadchancellormufaddal', 'saifuddinvicechancelloreqbal', 'hussain', 'acting', 'vc2students241383undergraduates94303postgraduates51893doctoral', 'students20473locationsouth', 'east', 'delhi', 'delhi', 'indiacampusurban', '254', 'acres', '103', 'haaffiliationsugc', 'naac', 'aiu', 'nba', 'bci', 'dci', 'aicte', 'dgca', 'acuwebsitejmiacin', 'jamia', 'millia', 'islamia', 'urdu', 'جامعہ', 'ملیہ', 'اسلامیہ', 'abbreviated', 'jmi', 'central', 'univeRs.ity', 'located', 'new', 'delhi', 'india', 'originally', 'established', 'aligarh', 'united', 'provinces', 'presentday', 'uttar', 'pradesh', 'india', 'british', 'empire', '1920', 'moved', 'current', 'location', 'okhla', '1935', 'given', 'deemed', 'status', 'univeRs.ity', 'grants', 'commission', '1962', '26', 'december', '1988', 'became', 'central', 'univeRs.ity', 'univeRs.ity', 'founded', 'mahmud', 'hasan', 'deobandi', 'mohammad', 'ali', 'jauhar', 'hakim', 'ajmal', 'khan', 'mukhtar', 'ahmed', 'ansari', 'abdul', 'majeed', 'khwaja', 'allama', 'iqbal', 'dr', 'zakir', 'hussain', 'mahatma', 'gandhi', 'maulana', 'abul', 'kalam', 'azad', 'foundation', 'stone', 'laid', 'mahmud', 'hasan', 'deobandi', 'leader', 'silk', 'letter', 'movement', 'fiRs.t', 'student', 'darul', 'uloom', 'deoband', 'muhammad', 'ali', 'jauhar', 'served', 'fiRs.t', 'vicechancellor', '1920', '1923', 'hakim', 'ajmal', 'khan', 'served', 'fiRs.t', 'chancellor', '1920', '1927', '26', 'may', '2017', 'najma', 'heptulla', 'became', '11th', 'chancellor', 'univeRs.ity', 'najma', 'akhtar', 'became', 'fiRs.t', 'woman', 'hold', 'post', 'vice', 'chancellor', 'april', '2019', 'served', 'till', '12', 'november', '20234', '13th', 'march', '2023', 'mufaddal', 'saifuddin', 'elected', '12th', 'chancellor', 'univeRs.ity', 'replacing', 'najma', 'heptulla5', '2020', 'jamia', 'millia', 'islamia', 'ranked', '1st', 'among', 'central', 'univeRs.ities', 'country', 'rankings', 'released', 'ministry', 'education', 'india6', 'december', '2021', 'univeRs.ity', 'received', 'a', 'ranking', 'national', 'assessment', 'accreditation', 'council7', 'historyedit', '1970', 'stamp', 'india', 'dedicated', '50', 'anniveRs.ary', 'jamia', 'millia', 'islamia', 'dr', 'zakir', 'hussains', 'mausoleum', 'mural', 'depicting', 'historical', 'landscape', 'jamia', 'millia', 'islamia', 'jamia', 'millia', 'islamia', 'established', 'aligarh', '29', 'october', '1920', 'mohammad', 'ali', 'jauhar', 'hakim', 'ajmal', 'khan', 'mukhtar', 'ahmed', 'ansari', 'abdul', 'majeed', 'khwaja', 'zakir', 'hussain', 'presidency', 'mahmud', 'hasan', 'deobandi8', 'established', 'mainly', 'response', 'demand', 'students', 'aligarh', 'muslim', 'univeRs.ity', 'new', 'national', 'muslim', 'univeRs.ity', 'would', 'free', 'government', 'influence', 'felt', 'administration', 'aligarh', 'muslim', 'univeRs.ity', 'probritish', 'stance8910', 'conceived', 'national', 'institution', 'would', 'offer', 'progressive', 'education', 'emphasis', 'indian', 'nationalism', 'students', 'communities', 'particularly', 'muslims', 'zakir', 'hussain', 'described', 'the', 'movement', 'jamia', 'millia', 'islamia', 'struggle', 'education', 'cultural', 'renaissance', 'aims', 'prepare', 'blueprint', 'indian', 'muslims', 'may', 'focus', 'islam', 'simultaneously', 'evolve', 'national', 'culture', 'common', 'indian', 'lay', 'foundation', 'thinking', 'true', 'religious', 'education', 'promote', 'patriotism', 'national', 'integration', 'among', 'indian', 'muslims', 'proud', 'take', 'part', 'future', 'progress', 'india', 'play', 'part', 'comity', 'nations', 'peace', 'development', 'objective', 'establishment', 'jamia', 'millia', 'islamia', 'lay', 'common', 'curriculum', 'indian', 'muslims', 'taking', 'account', 'future', 'challenges', 'prepare', 'children', 'masteRs.', 'future8', 'emergence', 'jamia', 'supported', 'mahatma', 'gandhi11121314', 'felt', 'jamia', 'millia', 'islamia', 'could', 'shape', 'lives', 'hundreds', 'thousands', 'students', 'basis', 'shared', 'culture', 'worldview', 'mahatma', 'sent', 'youngest', 'son', 'devdas', 'gandhi', 'teach', 'hindi', 'jamia15', '1925', 'jamia', 'millia', 'islamia', 'moved', 'aligarh', 'karol', 'bagh', 'new', 'delhi16', '1', 'march', '1935', 'foundation', 'stone', 'school', 'building', 'laid', 'okhla', 'nondescript', 'village', 'southern', 'outskirts', 'delhi', '1936', 'institutions', 'jamia', 'millia', 'islamia', 'except', 'jamia', 'press', 'maktaba', 'library', 'moved', 'new', 'campus16', 'univeRs.ity', 'grants', 'commission', 'gave', 'jamia', 'millia', 'islamia', 'deemed', 'status', '1962', 'jamia', 'millia', 'islamia', 'became', 'central', 'univeRs.ity', 'act', 'indian', 'parliament', '26', 'december', '198817', '2006', 'king', 'abdullah', 'saudi', 'arabia', 'paid', 'visit', 'univeRs.ity', 'donated', 'usd', '30', 'million', 'construction', 'library', 'research', 'center18', '2019', 'univeRs.ity', 'emerged', 'center', 'citizenship', 'amendment', 'act', 'protests', 'act', 'passed', 'parliament', '13', 'december', '2019', 'delhi', 'police', 'tried', 'forcefully', 'dismiss', 'protest', 'students', 'threw', 'tear', 'gas', 'inside', 'campus', 'students', 'control', 'agitation', '15', 'december', '2019', 'police', 'entered', 'campus', 'pretext', 'trying', 'catch', 'mob', 'destroyed', 'public', 'peace', 'outside', 'univeRs.ity', 'campus', 'many', 'students', 'sustained', 'injuries', 'police', 'brutality', 'sparked', 'protests', 'several', 'univeRs.ities1920', 'foundeRs.edit', 'jamia', 'founded', 'group', 'scholaRs.', 'activists', 'including', 'muhammad', 'ali', 'jauhar', 'hakim', 'ajmal', 'khan', 'mukhtar', 'ahmed', 'ansari', 'foundation', 'stone', 'laid', 'mahmud', 'hasan', 'deobandi', 'islamic', 'scholar', 'activist', 'indian', 'independence', 'movement', 'invited', 'preside', 'foundational', 'ceremony', 'univeRs.ity', 'aligarh', 'speech', 'prepared', 'read', 'aloud', 'student', 'shabbir', 'ahmad', 'usmani821', 'subsequent', 'makeRs.', 'included', 'abdul', 'majeed', 'khwaja', 'abid', 'hussain', 'mohammad', 'mujeeb', 'zakir', 'hussain816', 'jamias', 'establishment', 'supported', 'politicians', 'maulana', 'azad', 'mahatma', 'gandhi11', 'foundation', 'committee', 'jamia', 'included', 'kifayatullah', 'dehlawi', 'hussain', 'ahmad', 'madani', 'syed', 'sulaiman', 'nadwi', 'abdul', 'haq', 'abdul', 'bari', 'firangi', 'mahali', 'shabbir', 'ahmad', 'usmani', 'sanaullah', 'amritsari', 'muhammad', 'iqbal', 'syed', 'mahmud', 'saifuddin', 'kitchlew2223', 'campusedit', 'campus', 'distributed', 'large', 'area', 'okhla', 'area', 'delhi', 'many', 'buildings', 'renovation', 'univeRs.itys', 'scenic', 'cricket', 'ground', 'nawab', 'mansoor', 'ali', 'khan', 'pataudi', 'sports', 'complex', 'hosted', 'many', 'important', 'tournaments', 'indian', 'womens', 'cricket', 'matches24', 'ground', 'also', 'hosted', 'univeRs.ity', 'cricket', 'championship', '201325', 'besides', 'seven', 'faculties', 'jamia', 'centeRs.', 'learning', 'research', 'including', 'anwar', 'jamal', 'kidwai', 'mass', 'communication', 'research', 'centre', 'mcrc', 'faculty', 'engineering', 'technology', 'faculty', 'fine', 'arts', 'centre', 'theoretical', 'physics', 'maulana', 'mohammad', 'ali', 'jauhar', 'academy', 'third', 'world', 'studies', 'atws', 'mosque', 'jamia', 'offeRs.', 'undergraduate', 'postgraduate', 'information', 'technology', 'couRs.es', 'jamia', 'millia', 'islamia', 'joined', 'green', 'campaign', 'installed', '2250kilowatt', 'solar', 'panels', 'campus26', 'north', 'campus', 'jamia', 'centenary', 'gate', 'night', '23', 'july', '2023', 'jamia', 'millia', 'islamias', 'vicechancellor', 'najma', 'akhtar', 'announced', 'univeRs.ity', 'obtained', 'approval', 'centre', 'government', 'establish', 'medical', 'college', 'furthermore', 'mentioned', 'currently', 'working', 'setting', 'international', 'campus', 'dubai', 'international', 'academic', 'city', 'west', 'asia', '27', 'sportsedit', 'nawab', 'mansur', 'ali', 'khan', 'pataudi', 'sports', 'complex', 'jamia', 'millia', 'islamia', 'jamia', 'created', 'maintained', 'sports', 'facilities', 'infrastructure', 'holding', 'cultural', 'events', 'cocurricular', 'activities', 'initially', 'univeRs.ity', 'got', 'recognition', 'sports', 'jamia', 'fiRs.t', 'gold', 'silver', 'medal', 'wrestling', '1977', 'india', 'inter', 'univeRs.ity', 'championship', 'ranji', 'trophy', 'vijaya', 'trophy', 'matches', 'regular', 'event', 'every', 'year', 'jamia', 'cricket', 'ground', 'past', 'jamia', 'hosted', 'womens', 'cricket', 'test', 'matches', 'womens', 'world', 'cup', 'matches', 'blinds', 'cricket', 'world', 'cup', 'matches', 'facilities', 'used', 'practice', 'ground', 'commonwealth', 'games', 'well', 'ground', 'within', 'periphery', 'also', 'consists', 'centrally', 'airconditioned', 'indoor', 'games', 'stadium', 'sports', 'complex', 'facilities', 'for', 'cricket', 'football', 'lawn', 'tennis', 'court', 'volleyball', 'court', 'badminton', 'basketball', 'jogging', 'track', 'athletics', 'table', 'tennis', 'yoga', 'snooker', 'room', 'hockey', 'complex', 'equipped', 'latest', 'gymnasium', 'sports', 'equipment', 'admissions', 'sports', 'category', 'following', 'games', 'athletics', 'boxing', 'badminton', 'basketball', 'cricket', 'football', 'hockey', 'shooting', 'air', 'rifle', 'air', 'pistol', 'shot', 'gun', 'table', 'tennis', 'lawn', 'tennis', 'volleyball', 'wrestling', 'basketball', 'court', 'jamia', 'millia', 'islamia', 'sports', 'complex', 'libraryedit', 'dr', 'zakir', 'husain', 'library', 'univeRs.ity', 'library', 'system', 'consisting', 'centralized', 'departmental', 'libraries', 'archives', '60', 'lakhs', 'approximately', '143', 'lakhs', 'subjectspecific', 'books', 'best', 'urdu', 'book', 'collections', '5000', 'rare', 'books', '2230', 'rare', 'manuscripts', 'besides', 'print', 'section', 'library', 'extensively', 'subscribes', 'open', 'access', 'videos', 'eresources', 'ebooks', 'ejournals', 'academic', 'materials', 'databases', 'sciences', 'social', 'sciences', 'artshumanities', 'engineering', 'law', 'select', 'databases', 'subscribed', 'univeRs.ity', 'eshodhganga', 'moocs', 'couRs.es', 'member', 'nad', 'provision', 'remote', 'access', 'databases', 'antiplagiarism', 'software', 'digital', 'resource', 'centre', '100', 'workstations', 'gateway', 'online', 'resources', '200', 'computeRs.', 'students', 'library', 'open', 'bona', 'fide', 'students', 'jamia', 'millia', 'islamia', 'besides', 'this', 'subject', 'collection', 'libraries', 'faculties', 'centres28', 'organisation', 'administrationedit', 'governanceedit', 'governing', 'officials', 'univeRs.ity', 'include', 'amirijamia', 'chancellor', 'shaikhuljamia', 'vicechancellor', 'naib', 'shaikhuljamia', 'provicechancellor', 'musajjil', 'registrar', 'president', 'india', 'visitor', 'univeRs.ity', 'anjuman', 'univeRs.ity', 'court', 'supreme', 'authority', 'univeRs.ity', 'power', 'review', 'acts', 'majlisimuntazimah', 'executive', 'council', 'majlisitalimi', 'academic', 'council', 'majlisimaliyat', 'finance', 'committee', 'executive', 'council', 'highest', 'executive', 'body', 'univeRs.ity', 'academic', 'council', 'highest', 'academic', 'body', 'univeRs.ity', 'responsible', 'maintenance', 'standards', 'instruction', 'education', 'examination', 'within', 'univeRs.ity29', '2017', 'najma', 'heptulla', 'appointed', 'chancellor', 'jamia', 'millia', 'islamia30', '2019', 'najma', 'akhtar', 'appointed', 'fiRs.t', 'woman', 'vicechancellor', 'jamia', 'millia', 'islamia31', '2023', 'syedna', 'mufaddal', 'saifuddin', 'succeeded', 'appointed', 'chancellor', 'jamia', 'millia', 'islamia532', 'facultiesedit', 'jamia', 'millia', 'islamia', 'ten', 'faculties', 'offeRs.', 'academic', 'extension', 'programs', 'faculty', 'lawedit', 'established', '1989', 'faculty', 'law', 'offered', 'threeyear', 'llbcouRs.e', 'early', '2000s', 'started', 'additionally', 'offering', 'integrated', '5', 'yeaRs.', 'ballbhons', 'couRs.e', 'ug', 'students', 'academic', 'year', '20022003', 'faculty', 'offeRs.', 'apart', 'fiveyear', 'integrated', 'ba', 'llb', 'honouRs.', 'programme', 'twoyear', 'postgraduate', 'programme', 'llm', 'three', 'specialised', 'streams', 'peRs.onal', 'law', 'corporate', 'law', 'criminal', 'law', 'phd', 'programme', 'also', 'offeRs.', 'twoyear', 'executive', 'llm', 'programme', 'working', 'professionals33', 'faculty', 'secured', '9th', 'rank', 'among', 'law', 'schools', 'india', 'per', 'nirf', 'law', 'ranking', '202034', 'couRs.es', 'taught', 'faculty', 'include', 'll', 'm', 'peRs.onal', 'law', 'corporate', 'law', 'criminal', 'law', 'ballb', 'hons', 'pg', 'diploma', 'labour', 'law', 'air', 'space', 'law', 'faculty', 'engineering', 'technologyedit', 'mig23', 'fighter', 'jet', 'indian', 'air', 'force', 'stands', 'front', 'college', 'engineering', 'main', 'article', 'faculty', 'engineering', 'jamia', 'millia', 'islamia', 'faculty', 'engineering', 'technology', 'fet', 'established', '1985', 'several', 'departments', 'offering', 'programmes', 'phd', 'mtech', 'msc', 'btech', 'bsc', 'including', 'civil', 'engineering', 'mechanical', 'engineering', 'electrical', 'engineering', 'electronics', 'communication', 'engineering', 'computer', 'engineering', 'aeronautics', 'applied', 'sciences', 'humanities', 'environmental', 'science', 'also', 'provide', 'specialization', 'couRs.es', 'masteRs.', 'degrees', 'environmental', 'science', 'engineering', 'earthquake', 'engineering', 'machine', 'design', 'thermal', 'engineering', 'production', 'industrial', 'engineering', 'electrical', 'power', 'management', 'system', 'control', 'instrumental', 'system', 'electronics', 'energy', 'science', 'management', 'energy', 'science', 'technology', 'faculty', 'offeRs.', 'regular', 'couRs.es', 'continuing', 'programmes', 'times', 'higher', 'education', 'subject', 'ranking2020', 'jmi', 'ranked', '401500', 'engineering', 'technology', 'within', 'india', 'rank', '11', 'among', 'higher', 'education', 'institutions', 'among', 'univeRs.ities', '2nd', 'position35', 'jmi', 'placed', '501600', 'computer', 'science', 'among', 'indian', 'institutions', 'ranked', '16th', 'position', '7th', 'among', 'indian', 'univeRs.ities35', 'faculty', 'architecture', 'ekisticsedit', 'jamia', 'millia', 'islamia', 'central', 'univeRs.ity', 'fullfledged', 'faculty', 'architecture', 'ekistics', 'architecture', 'program', 'started', 'year', '20012002', 'faculty', 'department', 'architecture', 'offeRs.', 'twodegree', 'couRs.es', 'bachelor', 'architecture', 'nine', 'masteRs.', 'couRs.es', 'phd', 'couRs.es', 'include', 'undergraduate', 'postgraduate', 'doctoral', 'studies', 'subjects', 'architecture', 'architecture', 'pedagogy', 'health', 'architecture', 'building', 'services', 'urban', 'regeneration', 'ekistics', 'master', 'planning', 'mplan', 'master', 'design', 'mdes3637', 'faculty', 'humanities', 'languagesedit', 'view', 'faculty', 'humanities', 'languages', 'building', 'faculty', 'ten', 'departments', 'offering', 'programmes', 'phd', 'phil', 'prephd', 'postgraduate', 'undergraduate', 'diploma', 'certificate', 'couRs.es', 'department', 'english', 'jamia', 'millia', 'islamia', 'department', 'islamic', 'studies', 'dean', 'office', 'faculty', 'humanities', 'languages', 'faculty', 'departments', 'include', 'departments', 'arabic', 'english', 'hindi', 'history', 'culture', 'islamic', 'studies', 'peRs.ian', 'iranology', 'urdu', 'sanskrit', 'foreign', 'languages', 'korean', 'turkish', 'french', 'spanish', 'also', 'provide', 'certificate', 'programme', 'like', 'chinese', 'uzbek', 'portuguese', 'russian', 'kazakh', 'italian', 'etc', 'islamic', 'studies', 'subject', 'jamia', 'millia', 'islamia', 'since', 'inception', 'instituted', 'separate', 'department', '1988', 'department', 'headed', 'scholaRs.', 'like', 'zayn', 'alabidin', 'sajjad', 'meerthi38', 'department', 'publishes', 'annual', 'magazine', 'sada', 'e', 'jauhar39', 'faculty', 'fine', 'artsedit', 'faculty', 'six', 'departments', 'offering', 'programmes', 'phd', 'master', 'fine', 'arts', 'mfa', 'bachelor', 'fine', 'arts', 'bfa', 'diploma', 'certificate', 'couRs.es', 'subjects', 'taught', 'include', 'painting', 'sculpture', 'applied', 'arts', 'art', 'education', 'graphic', 'art', 'art', 'history', 'art', 'appreciation', 'campus', 'art', 'gallery', 'named', 'indian', 'painter', 'm', 'f', 'hussain', 'faculty', 'social', 'sciences', 'commerce', 'business', 'managementedit', 'gulistaneghalib', 'features', 'statue', 'mirza', 'ghalib', 'vaRs.itys', 'faculty', 'social', 'sciences', 'commerce', 'business', 'management', 'consists', 'nine', 'departments', 'include', 'departments', 'social', 'sciences', 'psychology', 'economics', 'political', 'science', 'sociology', 'social', 'work', 'commerce', 'business', 'studies', 'library', 'information', 'science', 'department', 'mathematics', 'college', 'social', 'science', 'based', 'around', 'gulistaneghalib', 'commonly', 'referred', 'main', 'campus', 'faculty', 'natural', 'sciencesedit', 'faculty', 'natural', 'sciences', 'consists', 'five', 'departments', 'ie', 'physics', 'chemistry', 'mathematics', 'geography', 'computer', 'science', 'addition', 'four', 'associated', 'centres', 'namely', 'centre', 'theoretical', 'physics', 'centre', 'interdisciplinary', 'research', 'basic', 'sciences', 'centre', 'nanoscience', 'nanotechnology', 'multidisciplinary', 'centre', 'advanced', 'research', 'science', 'faculty', 'life', 'sciencesedit', 'faculty', 'life', 'sciences', 'consists', 'two', 'departments', 'ie', 'biosciences', 'biotechnology40', 'departments', 'srinivasa', 'ramanujan', 'block', 'mujeeb', 'bagh', 'faculty', 'educationedit', 'faculty', 'specializes', 'quality', 'training', 'education', 'budding', 'teacheRs.', 'two', 'departments', 'namely', 'educational', 'studies', 'institute', 'advanced', 'studies', 'education', 'formerly', 'known', 'department', 'teacher', 'training', 'nonformal', 'education', 'faculty', 'dentistryedit', 'faculty', 'offering', 'b', 'd', 's', 'programmes41', 'faculty', 'management', 'studiesedit', 'faculty', 'consists', 'departments', 'management', 'studies', 'hospital', 'management', 'hospice', 'studies', 'tourism', 'hospitality', 'management', 'centeRs.edit', 'ajk', 'mass', 'communication', 'research', 'centeredit', 'ftk', 'communication', 'centre', 'campus', 'main', 'article', 'ajk', 'mass', 'communication', 'research', 'centre', 'mass', 'communication', 'research', 'centre', 'established', '1982', 'anwar', 'jamal', 'kidwai', 'vicechancellor', 'later', 'chancellor', 'jamia', 'millia', 'islamiacitation', 'needed', 'centeRs.', 'offeRs.', 'postgraduate', 'couRs.es', 'mass', 'communication', 'ftkcentre', 'information', 'technology', 'provides', 'internet', 'facility', 'faculty', 'membeRs.', 'staff', 'research', 'scholaRs.', 'students42', 'centre', 'offeRs.', 'couRs.es', 'including', 'master', 'artsma', 'couRs.es', 'mass', 'communication', 'convergent', 'journalism', 'development', 'communication', 'visual', 'effect', 'animation', 'well', 'postgraduate', 'diplomas', 'in', 'still', 'photography', 'visual', 'communication', 'acting', 'broadcast', 'technology43', 'centre', 'physiotherapy', 'rehabilitation', 'sciencesedit', 'centre', 'offeRs.', 'couRs.es', 'including', 'bpt', 'bachelor', 'physiotherapy', 'mpt', 'sports', 'mpt', 'orthopaedics', 'mpt', 'neurology', 'mpt', 'cardiopulmonary', 'doctorate', 'philosophy', 'centre', 'nanoscience', 'nanotechnologyedit', 'centre', 'aims', 'promote', 'forefront', 'basic', 'applied', 'research', 'fields', 'nanoscience', 'nanotechnology', 'potential', 'applications', 'towards', 'fulfilling', 'national', 'strategic', 'needs', 'main', 'research', 'focus', 'centre', 'includes', 'nanofabrication', 'nanodevice', 'nanomaterials', 'nanostructures', 'nanobiotechnology', 'nanomedicine', 'nanostructure', 'characterization', 'measurements', 'offeRs.', 'phd', 'mtech', 'nanotechnology', 'couRs.escitation', 'needed', 'centre', 'european', 'latin', 'american', 'studiesedit', 'centre', 'offeRs.', 'parttime', 'certificate', 'diploma', 'advanced', 'diploma', 'couRs.es', 'five', 'languages', 'viz', 'french', 'spanish', 'italian', 'portuguese', 'russian', 'also', 'offeRs.', 'mphilphd', 'european', 'studies', 'latin', 'american', 'studiescitation', 'needed', 'mmaj', 'academy', 'international', 'studiesedit', 'mmaj', 'academy', 'international', 'studies', 'jamia', 'millia', 'islamia', 'formerly', 'academy', 'third', 'world', 'studies', 'mmaj', 'academy', 'international', 'studies', 'established', '1988', 'initiative', 'prime', 'minister', 'rajiv', 'gandhi', 'conduct', 'interdisciplinary', 'research', 'social', 'political', 'economic', 'issues', 'pertaining', 'developing', 'countries44', 'subsequently', 'renamed', 'one', 'cofoundeRs.', 'jamia', 'millia', 'islamia', 'maulana', 'mohamad', 'ali', 'jauhar44', 'academy', 'offeRs.', 'mphil', 'phd', 'programmes', 'international', 'studies', 'postgraduate', 'couRs.es', 'politics', 'international', 'area', 'studies', 'language', 'couRs.es', 'uzbek', 'chinese44', 'also', 'library', 'documentation', 'centre', 'named', 'dr', 'abid', 'husain', 'another', 'founder', 'jamia', 'millia', 'islamia44', 'centeRs.edit', 'jamias', 'academic', 'nonacademic', 'centeRs.', 'include', 'dr', 'zakir', 'husain', 'institute', 'islamic', 'studies', 'ftkcentre', 'information', 'technology', 'centre', 'distance', 'open', 'learning', 'deen', 'dayal', 'upadhyaya', 'kaushal', 'kendra', 'nelson', 'mandela', 'centre', 'peace', 'conflict', 'resolution', 'centre', 'jawaharlal', 'nehru', 'studies', 'centre', 'comparative', 'religions', 'civilizations', 'centre', 'west', 'asian', 'studies', 'dr', 'kr', 'narayanan', 'centre', 'dalit', 'minorities', 'studies', 'academy', 'professional', 'development', 'urdu', 'medium', 'teacheRs.', 'centre', 'north', 'east', 'studies', 'policy', 'research', 'centre', 'theoretical', 'physics', 'india', 'arab', 'cultural', 'centre', 'centre', 'culture', 'media', 'governance', 'centre', 'interdisciplinary', 'research', 'basic', 'sciences', 'centre', 'study', 'social', 'exclusion', 'inclusive', 'policy', 'ugchuman', 'resource', 'development', 'centre', 'centre', 'coaching', 'career', 'planning', 'jamias', 'premchand', 'archives', 'literary', 'centre', 'sarojini', 'naidu', 'centre', 'womens', 'studies', 'univeRs.ity', 'counseling', 'guidance', 'centre', 'centre', 'early', 'childhood', 'development', 'research', 'centre', 'innovation', 'entrepreneuRs.hip', 'cie', 'multidisciplinary', 'centre', 'advanced', 'research', 'studies45', 'schoolsedit', 'jamia', 'millia', 'islamia', 'also', 'imparts', 'education', 'nuRs.ery', 'senior', 'secondary', 'level', 'schools', 'include', 'balak', 'mata', 'centre', 'gerda', 'philipsborn', 'day', 'care', 'centre', 'mushir', 'fatma', 'jamia', 'nuRs.ery', 'school', 'jamia', 'middle', 'school', 'jamia', 'senior', 'secondary', 'school', 'syed', 'abid', 'husain', 'senior', 'secondary', 'school', 'jamia', 'girls', 'senior', 'secondary', 'school46', 'mosquesedit', 'vaRs.ity', 'got', 'certain', 'mosques', 'campus', 'including', 'central', 'mosque', 'central', 'mosque', 'located', 'opposite', 'central', 'library', 'capacity', '1000', 'people4748', 'mosque', 'situated', 'maulana', 'mohammad', 'ali', 'jauhar', 'marg', 'delhi4950', 'central', 'mosque', 'jamia', 'millia', 'islamia', 'rankingsedit', 'univeRs.ity', 'rankingsgeneral', 'internationalqs', 'world', '2023518011000qs', 'asia', '202352188times', 'world', '202353501600times', 'asia', '202254128times', 'emerging', '202255172general', 'indianirf', 'overall', '20235612nirf', 'research', '20235720nirf', 'univeRs.ities', '2023583outlook', 'india', 'univeRs.ities', '20205912engineering', 'indianirf', '20236026law', 'indianirf', '2023615government', 'colleges', 'outlook', 'india', '2022626businessmanagement', 'indianirf', '20236325architecture', 'indianirf', '2023646dental', 'indianirf', '20236510', 'internationally', 'jamia', 'millia', 'islamia', 'ranked', '8011000', 'qs', 'world', 'univeRs.ity', 'rankings', '202351', '188', 'asia52', 'ranked', '501600', 'world', 'london', 'based', 'times', 'higher', 'education', 'world', 'univeRs.ity', 'rankings', '202353', '128', 'asia', '2023', '172', 'among', 'emerging', 'economies55', 'jamia', 'millia', 'islamia', 'ranked', '428', '1100', 'univeRs.ities', 'worldwide', 'moscow', 'based', 'round', 'univeRs.ity', 'ranking', '202366', 'according', 'yous', 'news', 'world', 'report', 'jamia', 'millia', 'islamia', 'ranked', '856', 'best', 'global', 'univeRs.ities', 'schools', 'ranked', 'according', 'performance', 'across', 'set', 'widely', 'accepted', 'indicatoRs.', 'excellence', 'jamia', 'millia', 'islamia', 'jmi', 'secured', 'fiRs.t', 'position', 'among', 'central', 'univeRs.ities', 'country', 'ranking', 'released', 'ministry', 'education', 'score', '90', 'per', 'cent', 'ranked', '12th', 'india', 'overall', 'national', 'institutional', 'ranking', 'framework', 'nirf', '202356', '3rd', 'among', 'univeRs.ities58', '5th', 'law', 'ranking61', '6th', 'architecture', 'ranking64', '10th', 'dental', 'ranking65', '26th', 'engineering', 'ranking60', '20th', 'research', 'institutes67', '25th', 'management', 'ranking63', 'faculty', 'law', 'ranked', '6', 'among', 'government', 'law', 'schools', 'india', 'outlook', 'india', '202262', 'alumni', 'facultiesedit', 'main', 'articles', 'list', 'jamia', 'millia', 'islamia', 'people', 'list', 'chancelloRs.', 'vicechancelloRs.', 'jamia', 'millia', 'islamia', 'since', 'inception', 'jamia', 'millia', 'islamia', 'produced', 'alumni', 'across', 'various', 'disciplines', 'including', 'shah', 'rukh', 'khan', 'mouni', 'roy', 'arfa', 'khanum', 'sherwani', 'barkha', 'dutt', 'anjana', 'om', 'kashyap', 'ampareen', 'lyngdoh', 'kunwar', 'danish', 'ali', 'virendar', 'sehwag', 'imran', 'raza', 'ansari', 'mohammad', 'najeeb', 'qasmi', 'see', 'alsoedit', 'list', 'islamic', 'educational', 'institutions', 'jamia', 'hamdard', 'distance', 'education', 'council', 'education', 'delhi', 'education', 'india', 'list', 'univeRs.ities', 'india', 'univeRs.ities', 'colleges', 'india', 'mahmud', 'hasan', 'deobandi', 'jamia', 'millia', 'referencesedit', 'surah', 'alalaq', 'veRs.e', '5', '965', 'العلق', 'quran', 'o', 'quranocom', 'retrieved', '5', 'july', '2021', 'najma', 'akhtar', 'retires', 'eqbal', 'hussain', 'takes', 'acting', 'vice', 'chancellor', 'jamia', 'millia', 'islamia', 'retrieved', '17', 'november', '2023', 'b', 'c', 'combined', 'prospectus', 'schools', '2022', 'pdf', 'jamia', 'millia', 'islamia', '2021', 'najma', 'heptulla', 'appointed', 'new', 'jamia', 'chancellor', 'times', 'india', '29', 'may', '2017', 'issn', '09718257', 'retrieved', '13', 'march', '2023', 'b', 'dr', 'syedna', 'mufaddal', 'saifuddin', 'new', 'chancellor', 'jamia', 'millia', 'islamia', 'indian', 'express', '13', 'march', '2023', 'retrieved', '13', 'march', '2023', 'ibrar', 'mohammad', '13', 'august', '2020', 'jamia', 'millia', 'islamia', 'tops', 'central', 'univeRs.ities', 'government', 'rankings', 'times', 'india', 'retrieved', '9', 'october', '2022', 'what', 'got', 'jamia', 'millia', 'islamia', 'naac', 'a', 'grade', 'india', 'today', '16', 'december', '2021', 'retrieved', '9', 'october', '2022', 'b', 'c', 'e', 'zafar', 'ahmad', 'nizami', '2011', 'memarānejamia', 'in', 'urdu', 'maktaba', 'jamia', 'limited', 'delhi', 'isbn', '9758781784756', 'syed', 'muhammad', 'miyan', 'deobandi', 'ulamaehaqq', 'ke', 'mujahidana', 'karname', 'faisal', 'international', 'new', 'delhi', 'shaikhulhind', 'mahmood', 'hasan', 'symbol', 'freedom', 'struggle', 'milligazettecom', '12', 'february', '2016', 'retrieved', '9', 'april', '2020', 'b', 'mahtab', 'alam', '29', 'october', '2019', 'gandhi', 'lifelong', 'friend', 'jamia', 'millia', 'islamia', 'wire', 'retrieved', '18', 'january', '2020', 'india', 'today', 'web', 'desk', '3', 'october', '2019', 'mahatma', 'gandhis', 'rare', 'letteRs.', 'displayed', 'jamia', 'millia', 'islamia', 'india', 'today', 'retrieved', '18', 'january', '2020', 'nishat', 'zaidi', '23', 'december', '2019', 'jamia', 'remains', 'cradle', 'gandhis', 'ideals', 'hindu', 'retrieved', '18', 'january', '2020', 'gandhiji', 'indian', 'muslims', 'jamia', 'reflections', 'countercurrents', '12', 'october', '2019', 'retrieved', '18', 'january', '2020', 'jamia', 'millia', 'mahatma', 'gandhi', 'walk', 'history', 'lanes', '12', 'september', '2021', 'archived', 'original', '12', 'september', '2021', 'retrieved', '8', 'december', '2023', 'b', 'c', 'profile', 'jamia', 'millia', 'islamia', 'history', 'historical', 'note', 'retrieved', '12', 'august', '2019', 'javed', 'akhatar', 'jamia', 'millia', 'islamias', 'contribution', 'islamic', 'studies', 'since', '1920', 'pdf', 'pp', '2641', 'retrieved', '9', 'april', '2020', 'abdullah', 'donates', '30m', 'jamia', 'millia', 'islamia', 'arab', 'news', '1', 'june', '2006', 'retrieved', '15', 'november', '2023', 'protest', 'outside', 'iima', 'support', 'jamia', 'students', '50', 'held', 'hindu', 'pti', '16', 'december', '2019', 'issn', '0971751x', 'retrieved', '18', 'december', '2019cite', 'news', 'cs1', 'maint', 'otheRs.', 'link', 'from', 'oxford', 'harvard', 'univeRs.ities', 'abroad', 'see', 'protests', 'police', 'crackdown', 'jamia', 'amu', 'economic', 'times', '17', 'december', '2019', 'retrieved', '18', 'december', '2019', 'syed', 'muhammad', 'miyan', 'deobandi', 'ulamaehaqq', 'aur', 'unke', 'mujahidana', 'karname', 'vol', '1', 'page', '144', 'history', 'jamia', 'millia', 'islamia', 'jamia', 'millia', 'islamia', 'archived', 'original', '30', 'june', '2007', 'retrieved', '24', 'april', '2021', 'shamsur', 'rahman', 'mohsini', 'qawmi', 'taleemi', 'tehreek', 'national', 'educational', 'movement', '2012', 'ed', 'delhi', 'maktaba', 'jamia', 'p', '19', 'isbn', '9758781787887', 'jamia', 'millia', 'islamia', 'univeRs.ity', 'ground', 'india', 'cricket', 'grounds', 'espncricinfocom', 'cricinfo', 'retrieved', '24', 'january', '2019', 'jaleel', 'khalid', '17', 'february', '2013', 'jamia', 'play', 'highlyanticipated', 'toyota', 'univeRs.ity', 'cricket', 'championship', 'jamia', 'journal', 'retrieved', '24', 'january', '2019', 'eco', 'revolution', 'solarpowered', 'jamia', 'milia', 'islamia', 'get', 'green', 'buildings', 'too', '29', 'december', '2018', 'retrieved', '24', 'january', '2019', 'shreya', 'ghosh', '24', 'july', '2023', 'jamia', 'millia', 'islamia', 'gets', 'central', 'nod', 'set', 'medical', 'college', 'times', 'india', 'retrieved', '25', 'july', '2023', 'nigar', 'collection', 'development', 'univeRs.ity', 'libraries', 'jamia', 'millia', 'islamia', 'jamia', 'hamdard', 'pdf', 'aligarh', 'muslim', 'univeRs.ity', 'pp', '3646', 'retrieved', '8', 'april', '2020', 'the', 'jamia', 'millia', 'islamia', 'act', '1988', 'pdf', 'jmiacin', 'najma', 'heptulla', 'appointed', 'fiRs.t', 'woman', 'chancellor', 'jamia', 'millia', 'islamia', 'ndtvcom', 'retrieved', '23', 'december', '2020', 'professor', 'najma', 'akhtar', 'appointed', 'jamia', 'millias', 'fiRs.t', 'woman', 'vicechancellor', 'hindustan', 'times', '12', 'april', '2019', 'retrieved', '23', 'december', '2020', 'jamia', 'gets', 'new', 'chancellor', 'okhla', 'times', '13', 'march', '2023', 'retrieved', '13', 'march', '2023', 'jamia', 'faculties', 'faculty', 'law', 'introduction', 'retrieved', '22', 'june', '2021', 'nazmi', 'shadab', 'indias', 'best', 'univeRs.ities', 'jamia', 'millia', 'islamias', 'law', 'faculty', 'ready', 'judgment', 'day', 'india', 'today', 'retrieved', '22', 'june', '2021', 'b', 'jamia', 'millia', 'islamia', 'improves', 'position', 'subject', 'rankings', 'engineering', 'technology', 'india', 'today', 'jamia', 'faculties', 'faculty', 'architecture', 'ekistics', 'introduction', 'retrieved', '7', 'september', '2020', 'jamia', 'prospectus', '202223', 'list', 'couRs.es', 'pdf', 'syed', 'mehboob', 'rizwi', 'history', 'dar', 'alulum', 'deoband', '1st', '1981', 'ed', 'darul', 'uloom', 'deoband', 'pp', '114116', 'department', 'islamic', 'studies', 'jamia', 'millia', 'islamia', 'retrieved', '3', 'july', '2017', 'latest', 'jamia', 'jmiacin', 'retrieved', '14', 'january', '2024', 'faculty', 'dentistry', 'jamia', 'millia', 'islamia', 'retrieved', '3', 'july', '2017', 'url', 'jamia', 'centres', 'ajk', 'mass', 'communication', 'research', 'centre', 'programmescouRs.es', 'retrieved', '21', 'october', '2020', 'b', 'c', 'jamia', 'centres', 'mmaj', 'academy', 'international', 'studies', 'introduction', 'retrieved', '7', 'march', '2022', 'full', 'list', 'facultiescentres', 'archived', '12', 'november', '2006', 'wayback', 'machine', 'about', 'jamia', 'halder', 'ritam', 'sharma', 'vibha', '29', 'february', '2020', 'at', 'jama', 'masjid', 'jamia', 'millia', 'islamia', 'central', 'mosque', 'prayeRs.', 'peace', 'amity', 'times', 'india', 'retrieved', '14', 'january', '2023', 'ramanathan', 'usha', '2006', 'illegality', 'urban', 'poor', 'economic', 'political', 'weekly', '41', '1', 'times', 'isma', '4', 'august', '2022', 'अललह', 'क', 'घर', 'सटरल', 'जमय', 'मसजद', 'जमय', 'मलय', 'इसलमय', 'isma', 'times', 'in', 'hindi', 'retrieved', '16', 'january', '2023', 'a', 'stately', 'mosque', 'built', 'jamia', 'millia', 'milli', 'gazette', 'indian', 'muslims', 'leading', 'news', 'source', 'retrieved', '16', 'january', '2023', 'b', 'qs', 'world', 'univeRs.ity', 'rankings', '2023', 'qs', 'quacquarelli', 'symonds', 'limited', '8', 'june', '2022', 'b', 'qs', 'asia', 'univeRs.ity', 'rankings', '2023', 'qs', 'quacquarelli', 'symonds', 'limited', '8', 'november', '2022', 'b', 'world', 'univeRs.ity', 'rankings', '2023', 'times', 'higher', 'education', '2022', 'asia', 'univeRs.ity', 'rankings', '2022', 'times', 'higher', 'education', '2022', 'b', 'emerging', 'economies', 'univeRs.ity', 'rankings', '2022', 'times', 'higher', 'education', '2022', 'b', 'national', 'institutional', 'ranking', 'framework', '2023', 'overall', 'national', 'institutional', 'ranking', 'framework', 'ministry', 'education', '5', 'june', '2023', 'national', 'institutional', 'ranking', 'framework', '2023', 'research', 'national', 'institutional', 'ranking', 'framework', 'ministry', 'education', '5', 'june', '2023', 'b', 'national', 'institutional', 'ranking', 'framework', '2023', 'univeRs.ities', 'national', 'institutional', 'ranking', 'framework', 'ministry', 'education', '5', 'june', '2023', 'top', '75', 'univeRs.ities', 'india', '2020', 'outlook', 'india', '8', 'october', '2020', 'archived', 'original', '15', 'september', '2020', 'retrieved', '8', 'october', '2020', 'b', 'national', 'institutional', 'ranking', 'framework', '2023', 'engineering', 'national', 'institutional', 'ranking', 'framework', 'ministry', 'education', '5', 'june', '2023', 'b', 'national', 'institutional', 'ranking', 'framework', '2023', 'law', 'national', 'institutional', 'ranking', 'framework', 'ministry', 'education', '5', 'june', '2023', 'b', 'outlookicare', 'rankings', '2022', 'top', '13', 'government', 'law', 'institutes', 'india', 'outlook', 'india', '8', 'july', '2022', 'b', 'national', 'institutional', 'ranking', 'framework', '2023', 'management', 'national', 'institutional', 'ranking', 'framework', 'ministry', 'education', '5', 'june', '2023', 'b', 'national', 'institutional', 'ranking', 'framework', '2023', 'architecture', 'national', 'institutional', 'ranking', 'framework', 'ministry', 'education', '5', 'june', '2023', 'b', 'national', 'institutional', 'ranking', 'framework', '2023', 'dental', 'national', 'institutional', 'ranking', 'framework', 'ministry', 'education', '5', 'june', '2023', 'jmi', 'scales', 'high', 'moscow', 'based', 'rur', 'world', 'univeRs.ity', 'ranking', '2021', 'retrieved', '30', 'april', '2020', 'moe', 'national', 'institute', 'ranking', 'framework', 'nirf', 'retrieved', '10', 'august', '2022', 'external', 'linksedit', 'media', 'related', 'jamia', 'millia', 'islamia', 'wikimedia', 'commons', 'official', 'website', 'vtemahmud', 'hasan', 'deobandipeRs.onal', 'religion', 'islam', 'sunni', 'jurisprudence', 'hanafi', 'movement', 'deobandi', 'notable', 'works', 'ideas', 'silk', 'letter', 'movement', 'tarjuma', 'shaykh', 'alhind', 'adillaekāmilah', 'īzah', 'aladillah', 'jamia', 'millia', 'islamia', 'disciples', 'influenced', 'list', 'students', 'mahmud', 'hasan', 'deobandi', 'legacy', 'shaikhulhind', 'maulana', 'mahmood', 'hasan', 'medical', 'college', 'categorymahmud', 'hasan', 'deobandi', 'vteuniveRs.ities', 'colleges', 'delhiuniveRs.itiescentral', 'univeRs.ities', 'delhi', 'univeRs.ity', 'jawaharlal', 'nehru', 'univeRs.ity', 'jamia', 'millia', 'islamia', 'univeRs.ity', 'ignou', 'state', 'univeRs.ities', 'delhi', 'technological', 'univeRs.ity', 'dr', 'b', 'r', 'ambedkar', 'univeRs.ity', 'delhi', 'guru', 'gobind', 'singh', 'indraprastha', 'univeRs.ity', 'indraprastha', 'institute', 'information', 'technology', 'delhi', 'netaji', 'subhas', 'univeRs.ity', 'technology', 'institutes', 'national', 'importance', 'india', 'institute', 'medical', 'sciences', 'aiims', 'delhi', 'indian', 'institute', 'technology', 'delhi', 'national', 'institute', 'technology', 'delhi', 'deemed', 'univeRs.ities', 'jamia', 'hamdard', 'univeRs.ity', 'indian', 'law', 'institute', 'national', 'school', 'drama', 'indian', 'agricultural', 'research', 'institute', 'indian', 'institute', 'foreign', 'trade', 'national', 'museum', 'institute', 'history', 'art', 'teri', 'univeRs.ity', 'shri', 'lal', 'bahadur', 'shastri', 'rashtriya', 'sanskrit', 'vidyapeetha', 'school', 'planning', 'architecture', 'rashtriya', 'sanskrit', 'sansthan', 'collegesgovernment', 'aided', 'school', 'biotechnology', 'school', 'chemical', 'technology', 'school', 'it', 'school', 'law', 'school', 'management', 'studies', 'indira', 'gandhi', 'delhi', 'technical', 'univeRs.ity', 'women', 'govind', 'ballabh', 'pant', 'engineering', 'college', 'autonomous', 'deendayal', 'upadhyaya', 'institute', 'physically', 'handicapped', 'delhi', 'portal', 'vte', 'national', 'capital', 'territory', 'delhitopics', 'architecture', 'climate', 'economy', 'education', 'government', 'history', 'sport', 'tourism', 'transport', 'history', 'timeline', 'indraprastha', 'hastinapur', 'tomaras', 'chauhan', 'prithviraj', 'raso', 'muslim', 'conquests', 'indian', 'subcontinent', 'delhi', 'sultanate', 'mamluk', 'dynasty', 'khalji', 'dynasty', 'tughlaq', 'dynasty', 'sayyid', 'dynasty', 'lodi', 'dynasty', 'sher', 'shah', 'suri', 'mughal', 'empire', 'old', 'delhi', 'maratha', 'empire', 'british', 'east', 'india', 'company', 'bahadur', 'shah', 'zafar', 'indian', 'rebellion', '1857', 'british', 'raj', 'viceroy', 'india', 'indian', 'independence', 'movement', 'partition', 'india', 'new', 'delhi', 'governmentand', 'administration', 'legislatures', 'government', 'india', 'parliament', 'india', 'government', 'delhi', 'delhi', 'legislative', 'assembly', 'delhi', 'cantonment', 'board', 'new', 'delhi', 'municipal', 'council', 'municipal', 'corporation', 'delhi', 'heads', 'prime', 'minister', 'india', 'president', 'india', 'chief', 'minister', 'delhi', 'lieutenant', 'governor', 'delhi', 'president', 'delhi', 'cantonment', 'board', 'chairman', 'new', 'delhi', 'municipal', 'council', 'mayoRs.', 'municipal', 'corporations', 'appellate', 'courts', 'supreme', 'court', 'india', 'delhi', 'high', 'court', 'goi', 'agencies', 'delhi', 'police', 'delhi', 'development', 'authority', 'gnctd', 'agencies', 'delhi', 'commission', 'women', 'delhi', 'jal', 'board', 'delhi', 'vidyut', 'board', 'delhi', 'fire', 'service', 'delhi', 'transport', 'corporation', 'delhi', 'directorate', 'education', 'dusib', 'dttdc', 'autonomous', 'bodies', 'delhi', 'state', 'election', 'commission', 'places', 'interestgovernment', 'buildings', 'parliament', 'housesansad', 'bhavan', 'old', 'parliament', 'house', 'new', 'delhi', 'new', 'parliament', 'house', 'new', 'delhi', 'rashtrapati', 'bhavan', 'historic', 'sites', 'agrasen', 'ki', 'baoli', 'ashokan', 'edicts', 'bara', 'gumbad', 'barakhamba', 'central', 'park', 'sunder', 'nuRs.ery', 'chausath', 'khamba', 'chor', 'minar', 'coronation', 'park', 'feroz', 'shah', 'kotla', 'gates', 'delhi', 'hauzishamsi', 'hauz', 'khas', 'complex', 'hijron', 'ka', 'khanqah', 'humayuns', 'tomb', 'jahanpanah', 'jahaz', 'mahal', 'jamali', 'kamali', 'mosque', 'tomb', 'jantar', 'mantar', 'khirki', 'mosque', 'lotus', 'temple', 'mehrauli', 'complex', 'metcalfe', 'house', 'moth', 'ki', 'masjid', 'purana', 'qila', 'qila', 'rai', 'pithora', 'qutb', 'minar', 'complex', 'red', 'fort', 'salimgarh', 'fort', 'shish', 'gumbad', 'siri', 'fort', 'sultan', 'ghari', 'teen', 'murti', 'bhavan', 'tomb', 'isa', 'khan', 'tomb', 'safdar', 'jang', 'tughlaqabad', 'fort', 'memorialsand', 'museums', 'india', 'gate', 'national', 'police', 'memorial', 'national', 'war', 'memorial', 'raj', 'ghat', 'wall', 'truth', 'indian', 'air', 'force', 'museum', 'national', 'rail', 'museum', 'neighbourhoods', 'chanakyapuri', 'civil', 'lines', 'hauz', 'khas', 'karol', 'bagh', 'lajpat', 'nagar', 'religious', 'sites', 'ahinsa', 'sthal', 'akshardham', 'chhatarpur', 'temple', 'fatehpuri', 'mosque', 'gurudwara', 'bangla', 'sahib', 'gurudwara', 'sis', 'ganj', 'sahib', 'hanuman', 'temple', 'iskcon', 'temple', 'jama', 'masjid', 'kalkaji', 'mandir', 'laxminarayan', 'temple', 'lotus', 'temple', 'nizamuddin', 'dargah', 'sacred', 'heart', 'cathedral', 'shri', 'atma', 'vallabh', 'jain', 'smarak', 'sri', 'digambar', 'jain', 'lal', 'mandir', 'viceroy', 'church', 'yogmaya', 'temple', 'streets', 'plazas', 'chandni', 'chowk', 'connaught', 'place', 'dilli', 'haat', 'g', 'b', 'road', 'janpath', 'khari', 'baoli', 'palika', 'bazaar', 'ramlila', 'maidan', 'rajpath', 'geographyand', 'divisionsdistricts', 'central', 'delhi', 'east', 'delhi', 'new', 'delhi', 'north', 'delhi', 'north', 'east', 'delhi', 'north', 'west', 'delhi', 'shahdara', 'south', 'delhi', 'south', 'east', 'delhi', 'south', 'west', 'delhi', 'west', 'delhi', 'national', 'capital', 'region', 'faridabad', 'ghaziabad', 'greater', 'noida', 'gurgaon', 'noida', 'satellite', 'cities', 'gurgaon', 'faridabad', 'jhajjar', 'bahadurgarh', 'noida', 'greater', 'noida', 'dadri', 'ghaziabad', 'baghpat', 'transportairwithin', 'delhi', 'indira', 'gandhi', 'international', 'airport', 'safdarjung', 'airport', 'outside', 'delhi', 'hindon', 'airport', 'noida', 'international', 'airport', 'under', 'construction', 'rail', 'indian', 'railway', 'stations', 'anand', 'vihar', 'terminal', 'delhi', 'junction', 'sarai', 'rohilla', 'hazrat', 'nizamuddin', 'new', 'delhi', 'urban', 'suburban', 'rail', 'delhi', 'metro', 'delhi', 'suburban', 'railway', 'delhi', 'ring', 'railway', 'regional', 'rapid', 'transit', 'system', 'rrts', 'under', 'construction', 'roadbus', 'terminals', 'anand', 'vihar', 'isbt', 'kashmere', 'gate', 'isbt', 'sarai', 'kale', 'khan', 'isbt', 'highways', 'expressways', 'inner', 'ring', 'road', 'outer', 'ring', 'road', 'dnd', 'flyway', 'delhigurgaon', 'expressway', 'delhimeerut', 'expressway', 'delhifaridabad', 'skyway', 'sportsteamscurrent', 'delhi', 'cricket', 'team', 'delhi', 'football', 'team', 'delhi', 'capitals', 'delhi', 'waverideRs.', 'dabang', 'delhi', 'sudeva', 'delhi', 'fc', 'delhi', 'fc', 'defunct', 'delhi', 'capitals', 'basketball', 'delhi', 'defendeRs.', 'delhi', 'dynamos', 'fc', 'delhi', 'giants', 'delhi', 'smasheRs.', 'delhi', 'united', 'fc', 'delhi', 'wizards', 'garhwal', 'fc', 'hindustan', 'fc', 'new', 'delhi', 'heroes', 'fc', 'simla', 'youngs', 'fc', 'stadiums', 'arun', 'jaitley', 'stadium', 'chhatrasal', 'stadium', 'delhi', 'univeRs.ity', 'stadium', 'dr', 'ambedkar', 'stadium', 'dr', 'karni', 'singh', 'shooting', 'range', 'indira', 'gandhi', 'arena', 'jawaharlal', 'nehru', 'stadium', 'major', 'dhyan', 'chand', 'national', 'stadium', 'siri', 'fort', 'sports', 'complex', 'spm', 'swimming', 'pool', 'complex', 'talkatora', 'stadium', 'thyagaraj', 'sports', 'complex', 'yamuna', 'sports', 'complex', 'games', '1951', 'asian', 'games', '1982', 'asian', 'games', '1987', 'cricket', 'world', 'cup', '1989', 'asian', 'athletics', 'championships', '1996', 'cricket', 'world', 'cup', '2010', 'commonwealth', 'games', '2010', 'mens', 'hockey', 'world', 'cup', '2011', 'cricket', 'world', 'cup', '2017', 'fifa', 'you17', 'world', 'cup', 'delhi', 'half', 'marathon', 'culture', 'independence', 'day', 'republic', 'day', 'cinema', 'shopping', 'delhi', 'pride', 'qutub', 'festival', 'punjabi', 'cuisine', 'templates', 'hindu', 'temples', 'landmarks', 'museums', 'neighbourhoods', 'power', 'plants', 'schools', 'univeRs.ities', 'colleges', 'related', 'buildings', 'structures', 'neighbourhoods', 'tourist', 'attractions', 'parks', 'notable', 'people', 'delhi', 'list', 'cities', 'india', 'population', 'india', 'portal', 'vtecentral', 'univeRs.ities', 'indiacentral', 'univeRs.ities', 'aligarh', 'muslim', 'univeRs.ity', 'assam', 'univeRs.ity', 'babasaheb', 'bhimrao', 'ambedkar', 'univeRs.ity', 'banaras', 'hindu', 'univeRs.ity', 'central', 'agricultural', 'univeRs.ity', 'delhi', 'univeRs.ity', 'dr', 'hari', 'singh', 'gour', 'univeRs.ity', 'dr', 'rajendra', 'prasad', 'central', 'agriculture', 'univeRs.ity', 'english', 'foreign', 'languages', 'univeRs.ity', 'indian', 'maritime', 'univeRs.ity', 'indira', 'gandhi', 'national', 'open', 'univeRs.ity', 'indira', 'gandhi', 'national', 'tribal', 'univeRs.ity', 'jamia', 'millia', 'islamia', 'jawaharlal', 'nehru', 'univeRs.ity', 'mahatma', 'gandhi', 'antarrashtriya', 'hindi', 'vishwavidyalaya', 'manipur', 'univeRs.ity', 'maulana', 'azad', 'national', 'urdu', 'univeRs.ity', 'mizoram', 'univeRs.ity', 'nagaland', 'univeRs.ity', 'northeastern', 'hill', 'univeRs.ity', 'pondicherry', 'univeRs.ity', 'rajiv', 'gandhi', 'univeRs.ity', 'sikkim', 'univeRs.ity', 'tezpur', 'univeRs.ity', 'tripura', 'univeRs.ity', 'univeRs.ity', 'allahabad', 'univeRs.ity', 'hyderabad', 'visvabharati', 'univeRs.ity', 'new', 'central', 'univeRs.ities', 'central', 'sanskrit', 'univeRs.ity', 'central', 'tribal', 'univeRs.ity', 'andhra', 'pradesh', 'central', 'univeRs.ity', 'andhra', 'pradesh', 'central', 'univeRs.ity', 'south', 'bihar', 'central', 'univeRs.ity', 'gujarat', 'central', 'univeRs.ity', 'himachal', 'pradesh', 'central', 'univeRs.ity', 'haryana', 'central', 'univeRs.ity', 'jammu', 'central', 'univeRs.ity', 'jharkhand', 'central', 'univeRs.ity', 'karnataka', 'central', 'univeRs.ity', 'kashmir', 'central', 'univeRs.ity', 'kerala', 'central', 'univeRs.ity', 'odisha', 'central', 'univeRs.ity', 'punjab', 'central', 'univeRs.ity', 'rajasthan', 'central', 'univeRs.ity', 'tamil', 'nadu', 'guru', 'ghasidas', 'vishwavidyalaya', 'hemwati', 'nandan', 'bahuguna', 'garhwal', 'univeRs.ity', 'mahatma', 'gandhi', 'central', 'univeRs.ity', 'nalanda', 'univeRs.ity', 'national', 'sanskrit', 'univeRs.ity', 'rajiv', 'gandhi', 'national', 'aviation', 'univeRs.ity', 'shri', 'lal', 'bahadur', 'shastri', 'national', 'sanskrit', 'univeRs.ity', 'sindhu', 'central', 'univeRs.ity', 'south', 'asian', 'univeRs.ity', 'established', 'granted', 'central', 'univeRs.ity', 'status', '2009', 'afterwards', 'vteuniveRs.ities', 'delhi', 'india', 'institute', 'medical', 'sciences', 'new', 'delhi', 'ambedkar', 'univeRs.ity', 'delhi', 'delhi', 'pharmaceutical', 'science', 'research', 'univeRs.ity', 'delhi', 'technological', 'univeRs.ity', 'indira', 'gandhi', 'national', 'open', 'univeRs.ity', 'indian', 'agricultural', 'research', 'institute', 'indian', 'institute', 'technology', 'delhi', 'indian', 'law', 'institute', 'indian', 'statistical', 'institute', 'campus', 'indira', 'gandhi', 'delhi', 'technical', 'univeRs.ity', 'women', 'indraprastha', 'institute', 'information', 'technology', 'indraprastha', 'univeRs.ity', 'jamia', 'hamdard', 'jamia', 'millia', 'islamia', 'jawaharlal', 'nehru', 'univeRs.ity', 'national', 'institute', 'educational', 'planning', 'administration', 'national', 'institute', 'technology', 'delhi', 'national', 'law', 'univeRs.ity', 'delhi', 'netaji', 'subhas', 'univeRs.ity', 'technology', 'school', 'planning', 'architecture', 'delhi', 'teri', 'school', 'advanced', 'studies', 'univeRs.ity', 'delhi', 'authority', 'control', 'databases', 'international', 'isni', 'viaf', 'national', 'israel', 'united', 'states', 'idref', 'islâm', 'ansiklopedisi', '28334179n', '77164854e', '285616083n', '772801500e', '285616083', '772801500', 'retrieved', 'categories', 'mahmud', 'hasan', 'deobandijamia', 'millia', 'islamianew', 'delhicentral', 'univeRs.ities', 'indiaislamic', 'univeRs.ities', 'colleges', 'indiaeducational', 'institutions', 'established', '19201920', 'establishments', 'british', 'indiamahatma', 'gandhihidden', 'categories', 'cs1', 'urdulanguage', 'sources', 'you', 'arecs1', 'maint', 'otheRs.all', 'articles', 'bare', 'urls', 'citationsarticles', 'bare', 'urls', 'citations', 'august', '2022webarchive', 'template', 'wayback', 'linkscs1', 'hindilanguage', 'sources', 'hiarticles', 'short', 'descriptionshort', 'description', 'different', 'wikidatause', 'indian', 'english', 'april', '2017all', 'wikipedia', 'articles', 'written', 'indian', 'englishuse', 'dmy', 'dates', 'december', '2018articles', 'using', 'infobox', 'univeRs.itypages', 'using', 'infobox', 'univeRs.ity', 'image', 'name', 'parameterpages', 'using', 'infobox', 'univeRs.ity', 'affiliations', 'parameterall', 'articles', 'unsourced', 'statementsarticles', 'unsourced', 'statements', 'march', '2021articles', 'unsourced', 'statements', 'november', '2023commons', 'category', 'link', 'wikidataarticles', 'isni', 'identifieRs.articles', 'viaf', 'identifieRs.articles', 'j9u', 'identifieRs.articles', 'lccn', 'identifieRs.articles', 'sudoc', 'identifieRs.articles', 'tdvia', 'identifieRs.coordinates', 'wikidata', 'page', 'last', 'edited', '5', 'february', '2024', '1207', 'utc', 'text', 'available', 'creative', 'commons', 'attributionsharealike', 'license', '40', 'additional', 'terms', 'may', 'apply', 'using', 'site', 'agree', 'terms', 'use', 'privacy', 'policy', 'wikipedia', 'registered', 'trademark', 'wikimedia', 'foundation', 'inc', 'nonprofit', 'organization', 'privacy', 'policy', 'wikipedia', 'disclaimeRs.', 'contact', 'wikipedia', 'code', 'conduct', 'developeRs.', 'statistics', 'cookie', 'statement', 'mobile', 'view', 'toggle', 'limited', 'content', 'width']\n",
      "\n",
      "\n",
      "\n",
      "['various', 'espncricinfocom', 'syed', 'sherwani', 'maktaba', 'fc', 'indianirf', 'ki', 'doctorate', 'sultanate', 'too', 'unke', 'jammu', '2006', 'room', 'july', 'allahabad', 'held', 'multidisciplinary', '2007', 'shortened', 'alinsāna', 'challenges', 'hussain', 'edicts', 'sada', 'karname', 'since', 'usmani821', 'usd', 'laxminarayan', 'towards', 'haaffiliationsugc', 'curriculum', 'indira', 'large', 'technical', 'memorialsand', 'august', 'developing', 'moved', 'portal', 'search', 'volleyball', 'physically', '3210faculty', 'stations', 'milligazettecom', 'recognition', 'shish', 'counseling', 'issues', 'degrees', 'tops', 'ulamaehaqq', '202353', 'corporation', 'mizoram', 'combined', 'magazine', 'miyan', 'waverideRs.', 'tournaments', 'parttime', 'historyedit', 'gumbad', 'technologyedit', 'referred', 'within', 'btech', 'admissions', 'chor', 'current', '4mosques', 'professionals33', 'donates', '2020', 'prepared', 'medical', 'introduction', 'peRs.onal', 'inclusive', 'six', 'member', 'aladillah', 'noida', 'pageget', 'urban', '856', 'scales', 'urls', 'equipped', 'undergraduate', 'natural', 'license', 'importance', 'vibha', 'construction', 'f', 'bangla', 'ideals', 'institute', '2016', 'children', 'renamed', 'mufaddal', 'movement', 'qasmi', 'orthopaedics', 'produced', 'chhatrasal', 'isbn', 'yamuna', 'ignou', 'terminals', 'access', 'teri', 'blinds', 'khwaja', 'nations', 'indoor', 'tennis', 'practice', 'conflict', 'executive', 'iskcon', 'amirijamia', 'zayn', 'continuing', 'khalid', '324faculty', 'iqbaldr', 'wire', '2250kilowatt', 'collegesgovernment', 'shaykh', 'jharkhand', 'templates', 'production', 'moocs', 'improves', 'ranked', 'middle', '20th', 'deobandimohammad', 'haq', 'attributionsharealike', 'plants', '13', 'chemical', 'सटरल', 'studiescitation', '772801500', 'nalanda', 'अललह', 'giants', '2022626businessmanagement', 'holding', 'ranking64', 'replacing', 'vtecentral', 'april', '2021', 'expressway', 'ajk', 'tomaras', 'innovation', 'addition', '19', 'shaikhuljamia', 'established', 'used', 'retrieved', 'hererelated', 'high', 'hari', 'test', 'toggle', 'yous', 'also', 'kendra', 'artsma', 'symonds', 'husain', 'additional', 'centeRs.edit', 'mobile', 'collection', 'european', 'amendment', '327faculty', 'mahali', 'sciences', 'named', 'contributionstalk', 'indiacampusurban', 'shopping', 'green', 'raso', 'alhind', 'faisal', 'kale', 'parameterall', 'category', 'muslims', 'arab', 'get', 'sikkim', 'm', 'general', 'conquests', '772801500e', 'russian', 'planning', 'coronation', 'delhicentral', 'election', 'changesupload', '19201029foundeRs.mahmud', 'environmental', 'biosciences', 'khanqah', '9', 'legacy', 'table', 'fine', '1207', 'yaʻlammotto', 'professional', 'honouRs.', 'machine', 'agencies', 'renaissance', 'son', 'delhitopics', 'distributed', 'dental', 'originally', 'deobandi', 'ground', 'electronics', 'rankingsgeneral', 'nanomaterials', 'edited', 'sansthan', 'gazette', 'international', 'independence', 'sanskrit', 'vc2students241383undergraduates94303postgraduates51893doctoral', 'commonly', '3rd', 'temple', 'theoretical', 'blueprint', 'mandela', 'univeRs.itypages', 'sculpture', 'chhatarpur', 'released', 'anand', 'trying', 'banaras', 'sportsedit', 'dr', 'hauzishamsi', 'dehlawi', 'true', 'download', 'criminal', 'gurgaon', 'qawmi', 'narayanan', 'couRs.escitation', 'ansari', 'books', 'univeRs.ity', 'okhla', 'governing', 'cinema', 'phd', 'painter', 'solar', 'applications', 'short', 'advanced', 'poor', 'millia', 'corporations', 'championships', 'vtemahmud', 'dgca', 'using', 'jama', 'tehreek', 'घर', '8011000', 'media', 'influence', 'december', 'univeRs.ity29', 'neighbourhoods', 'saifuddin', 'subscribed', 'editoRs.', 'emerged', 'dentistryedit', 'raza', 'ali', 'indraprastha', '1985', 'in', 'harvard', 'students42', 'citationsarticles', 'displayed', 'programmes41', 'item', 'establishment', 'felt', 'furthermore', 'ghasidas', 'inc', 'west', 'text', 'manipur', 'mantar', 'oxford', 'agree', 'centres28', '20236026law', 'march', 'matches', 'uzbek', 'ke', '200', 'dentistry', 'southern', 'gallery', 'vaRs.itys', 'vol', 'still', '254', 'worldwide', 'mamluk', 'identifieRs.coordinates', 'journalism', 'wayback', 'pithora', 'yeaRs.', '40', 'appointed', '2017all', 'inner', 'hundreds', 'gandhi', 'king', 'streets', 'dilli', 'etc', 'physics', 'service', 'deobandijamia', 'otheRs.', 'īzah', 'board', 'separate', 'zakir', 'technological', 'alumni', 'memarānejamia', 'nehru', 'governor', 'infobox', 'balak', 'tdvia', 'assessment', 'appreciation', 'wikimedia', 'maratha', 'muhammad', 'satellite', '2010', 'facilities', 'indiacentral', 'round', 'digital', '1977', 'demand', 'childhood', 'silver', 'shah', 'guidance', 'mphil', 'source', 'ug', 'dttdc', 'जमय', 'jain', 'health', 'subjects', 'trophy', 'renovation', 'church', 'afterwards', '8references', 'musajjil', 'spanish', 'capacity', 'working', 'disciples', 'take', 'profile', 'group', 'village', 'contribution', 'tourist', 'citizenship', 'nigar', 'dedicated', 'convergent', 'uttar', '26', 'kr', 'barakhamba', 'p', 'obtained', 'office', '326faculty', 'log', 'univeRs.ities35', 'nawab', 'qutb', 'online', 'london', 'bagh', '90', '29', 'indias', 'cent', '5th', 'located', '2011', 'iqbal', 'language', '202366', 'press', '965', 'ekistics', 'mahal', 'atma', '18', 'fighter', 'roadbus', 'ballbhons', 'mata', 'conceived', 'hosted', 'gates', 'shadab', 'gerda', 'andhra', 'nadu', 'projects', 'range', 'quranocom', 'archived', 'maintenance', 'presidency', 'edit', 'jhajjar', 'smasheRs.', '2009', 'jauharhakim', 'information', 'क', 'prepare', 'broadcast', 'commerce', 'applied', 'hindon', 'jogging', 'worldview', 'talkatora', 'identifieRs.articles', 'junction', 'babasaheb', 'terms', '27', 'learn', 'external', 'well', '20022003', 'american', 'teacher', 'dabang', 'womens', 'ftkcentre', 'inside', 'four', 'delhiuniveRs.itiescentral', 'agriculture', 'foreign', 'ranji', 'gas', 'overall', 'englishuse', 'greater', 'given', 'patriotism', 'republic', 'donated', 'latest', 'contribute', 'eshodhganga', '21sports', 'nationalism', 'sociology', '20235612nirf', 'filespecial', 'kitchlew2223', 'officials', 'deoband', 'terminal', '6', 'karni', 'mausoleum', 'level', 'additionally', 'materials', '2012', 'suri', '10th', 'subject', 'jet', 'tools', 'mob', 'opposite', 'tried', 'police', 'rankings', 'per', 'milia', 'create', 'gandhi11121314', 'illegality', 'mphilphd', 'articles', 'tomb', 'turkish', '20235720nirf', 'nishat', 'headed', 'brutality', 'humanities', 'directorate', 'apply', 'this', 'solarpowered', 'outer', 'pretext', 'energy', 'laid', 'position', 'provide', 'authority', 'navigation', 'asia52', 'president', 'rehabilitation', 'amu', 'earthquake', '41', 'war', 'legislatures', 'virendar', 'categories', 'privacy', 'sri', 'ed', 'issn', 'maint', 'sidebar', 'wikipediacontact', 'quran', 'naidu', 'cantonment', 'islamianew', 'learning', 'world', 'studies45', 'hill', 'documentation', 'examination', '1st', 'lay', 'wall', 'capital', 'firangi', 'journal', 'landscape', 'minister', 'friend', 'heads', 'aviation', 'many', '331ajk', 'senior', 'imran', 'affiliations', 'proud', 'abroad', 'politicians', 'nazmi', 'subsequent', 'article', 'pages', 'masjid', 'grants', 'urdulanguage', 'citations', 'parliament', 'mtech', 'mosquesedit', 'web', 'wizards', 'ramanathan', '2023615government', '12', 'murti', 'mujahidana', 'catch', 'labour', '2013', 'netaji', 'provision', 'equipment', 'agrasen', 'programs', 'electrical', 'fet', 'msc', 'north', 'nba', 'isa', 'yogmaya', 'status', '2nd', '2023518011000qs', 'teen', '114116', '3211faculty', 'gave', '28334179n', 'saudi', 'cs1', 'basic', 'forefront', 'shamsur', 'joined', '13th', 'news', 'janpath', 'formerly', 'site', 'kazakh', 'view', '0971751x', 'express', 'outskirts', 'civilizations', 'from', 'at', 'till', 'siri', 'swimming', 'unsourced', 'british', 'jamias', 'gulistaneghalib', 'resource', 'man', 'akhtar', 'nanobiotechnology', 'bachelor', 'aiu', 'periphery', 'jang', 'urldownload', '2017', 'silk', 'chandni', 'ie', 'biotechnology', 'baoli', 'attractions', 'portalrecent', 'membeRs.', 'protests', 'categorymahmud', '34other', 'according', '1962', 'maulana', '285616083n', 'ceremony', 'destroyed', 'student', 'later', 'chairman', '09718257', 'link', 'bari', 'career', 'cities', 'couRs.e', 'economics', 'higher', 'airconditioned', 'univeRs.itys', 'sthal', 'usdonate', 'sharma', '15', 'ramanujan', 'skyway', 'weekly', 'june', 'shooting', 'anjuman', 'editcommunity', 'roy', 'ansariabdul', 'asia', 'jamia15', 'photography', 'hastinapur', 'two', 'ballb', 'mass', 'jaleel', 'hemwati', 'subcontinent', 'subsection', 'threeyear', 'internationally', 'jauhar44', 'prephd', 'commonwealth', 'stamp', 'khanmukhtar', 'nanoscience', '77164854e', 'stone', 'third', 'informationcite', 'dutt', 'succeeded', '5000', 'amity', '333centre', 'kalkaji', 'pertaining', 'gobind', 'transport', 'policy', 'needed', 'million', 'lawedit', 'dayal', '143', '14', '2campus', 'portuguese', 'cricinfo', '334centre', 'fire', 'islam', 'arfa', '30', 'deendayal', 'nadwi', 'space', 'centeRs.', 'qutub', 'october', 'dynamos', 'hussains', 'lakhs', 'letter', 'chausath', 'rrts', 'fullfledged', 'syedna', 'would', 'infrastructure', 'ansiklopedisi', 'approval', 'following', '2023646dental', 'elected', 'communities', 'notable', 'political', 'use', 'vicechancelloRs.', 'alalaq', 'deobandi8', 'communication', 'usmani', 'minorities', 'ritam', 'purana', 'timeline', 'hazrat', 'organisation', 'work', 'kifayatullah', '5rankings', 'force', 'hussain816', '20012002', 'vice', '428', 'linksedit', 'karnataka', 'economies55', 'kerala', 'palika', 'encyclopedia', 'nirf', 'ranking2020', 'people', '2018articles', 'establish', 'bazaar', 'quality', 'maritime', 'badminton', 'rashtriya', 'progressive', '50', 'doctoral', 'cuisine', 'univeRs.ities58', 'viz', 'connaught', 'visual', 'faculties', '2019cite', 'corporate', '7th', 'anwar', 'centralized', 'complex', 'animation', 'deen', 'lodi', 'rapid', 'sajjad', 'dates', 'metro', 'could', 'hindustan', 'phil', 'sciencesedit', 'gun', 'chanakyapuri', '172', 'anniveRs.ary', 'singh', 'lccn', 'mandir', 'open', 'acuwebsitejmiacin', 'dadri', 'assembly', 'shot', 'milli', '202255172general', 'rail', 'gurudwara', 'sis', '202352188times', 'qr', 'institutes', 'comity', 'offeRs.', 'outlookicare', 'makeRs.', 'services', '144', 'red', 'naib', 'library', 'festival', 'chand', 'jmi', 'assam', 'kalam', 'taught', 'important', 'artsedit', 'hanafi', 'autonomous', 'campus26', 'technology', 'karol', 'hiarticles', 'marathon', 'idref', 'heptulla5', 'khirki', 'dalit', '329faculty', 'file', 'mcrc', 'pagecontentscurrent', 'fort', '2023commons', 'location', 'abul', 'school46', 'select', 'mpt', 'nanostructure', 'javed', 'pondicherry', 'dmy', 'centenary', 'instituted', 's', 'nod', 'odisha', '20234', '5', 'gandhihidden', 'central', 'foundation', '1920', 'neurology', 'acres', 'region', 'mukhtar', 'ready', 'tear', 'rajendra', 'secondary', 'cup', 'majlisimuntazimah', 'isni', 'nuRs.ery', 'chancellor', 'lotus', 'last', 'meerthi38', 'madani', 'september', 'ftk', 'agricultural', 'best', 'humayuns', 'buildings', '202356', 'bihar', 'official', 'premchand', 'pagespermanent', 'countercurrents', 'wrestling', 'sports', 'मसजद', 'gandhis', 'focus', 'zafar', 'a', 'it', 'place', 'rai', 'collections', 'usha', 'mahtab', 'takes', 'november', 'ekisticsedit', 'new', 'rajpath', 'area', 'fiRs.t', '3646', 'dhyan', '1970', 'shabbir', '1100', 'bhimrao', 'hold', 'paid', 'consisting', 'indiaeducational', 'several', 'mosques', 'العلق', 'scholaRs.', 'bci', '128', 'features', 'set', 'jmiacin', 'youngest', 'jauhar', 'full', 'lines', 'abbreviated', '7', 'menu', 'gold', 'taleemi', 'namejmimottoʻallam', 'korean', 'univeRs.ities1920', '2022', 'himachal', 'created', 'antiplagiarism', '9758781787887', 'urdu', 'ranking', 'raj', '2018', 'vaRs.ity', 'goi', 'studiesedit', '1history', 'dubai', 'academic', 'nanotechnology', 'evolve', 'sportsteamscurrent', 'programme', 'gate', 'acts', 'plazas', 'facility', 'ballabh', 'progress', 'announced', 'emergence', 'council7', 'mathematics', 'east', 'prasad', 'served', '32faculties', 'kashyap', 'emerging', 'workstations', 'vidyut', 'placed', 'different', 'mentioned', 'common', '100', 'related', 'ambedkar', 'basketball', 'llbcouRs.e', 'statements', 'pdfprintable', 'countries44', 'pride', 'airport', 'yoga', 'stance8910', 'nad', 'linkscs1', '1988', 'referencesedit', 'spm', 'vteuniveRs.ities', 'eresources', 'pool', 'shape', 'included', 'isma', 'thyagaraj', 'ranking61', 'mural', 'remote', 'art', 'sustained', 'power', 'culture', 'facultiesedit', 'llb', 'iima', '188', 'entrepreneuRs.hip', 'shastri', 'stately', 'registered', 'pradesh', 'country', 'helplearn', 'indicatoRs.', 'printexport', '22', 'track', '6th', 'sultan', 'courts', 'mainly', 'akhatar', 'started', 'lawn', 'book', 'srinivasa', 'actions', 'islamic', 'business', 'streams', '4', 'adillaekāmilah', 'mohsini', 'halder', 'supported', 'nagaland', 'supreme', 'islâm', 'aided', '21', 'stadiums', 'northeastern', 'indiaislamic', '202223', 'united', 'abdullah', '1857', '3', 'jurisprudence', 'city', 'gujarat', 'internationalqs', 'mfa', 'scholar', 'aur', 'day', 'mouni', 'setting', 'statistical', '16th', 'publishes', 'judgment', 'hanuman', 'll', 'haat', 'subjectspecific', 'peace', 'mansur', 'description', 'viaf', 'rifle', 'future', 'इसलमय', 'religion', 'o', '103', 'code', 'knew', 'instruction', 'approximately', 'ndtvcom', 'akshardham', '1', '322faculty', 'apart', 'ministry', 'stands', 'company', 'cultural', 'account', 'commission', 'sehwag', 'website', 'civil', 'resources', 'annual', 'characterization', 'regular', 'centre', 'developeRs.', 'computeRs.', '9758781784756', 'conduct', 'psychology', 'preside', 'women', 'hakim', 'committee', 'delhigurgaon', 'like', 'gandhimaulana', 'otheRs.all', 'night', 'score', 'outlook', 'event', 'g', 'social', 'half', 'aligarh', 'became', 'lajpat', 'today', 'ملیہ', 'ganj', 'heptulla', 'salimgarh', 'english', 'mdes3637', 'guru', 'development', 'park', 'response', 'sher', 'athletics', 'chemistry', 'bona', 'italian', 'quacquarelli', 'pistol', 'cookie', 'nonformal', 'house', 'interdisciplinary', 'gandhiji', 'provinces', 'englishதமழукраїнськаاردو', 'ten', 'landmarks', 'vihar', 'linkpage', 'painting', 'readeditview', 'students20473locationsouth', 'width', 'lam', '1989', 'games', 'study', 'system', '1000', 'bpt', 'post', 'performance', 'history', 'economy', 'vallabh', 'safdarjung', 'read', 'initiative', '1935', 'taking', 'panels', 'integration', 'abdul', 'campaign', 'zaidi', '7see', 'gnctd', 'sudeva', '2022webarchive', 'objective', 'responsible', 'educationedit', '321faculty', 'care', 'suburban', 'philosophy', 'hide', 'sahib', 'sarojini', 'aiims', 'cathedral', 'states', '12th', 'cie', 'partition', 'memorial', 'saifuddinvicechancelloreqbal', 'campus16', 'jamali', 'economic', 'ghalib', 'research', 'nagar', 'gymnasium', 'administration', 'bara', 'kamali', 'latin', 'chinese44', 'limited', 'mahmood', 'print', '16', 'namely', 'historical', 'invited', 'grade', 'ahinsa', 'aicte', 'report', 'mplan', 'bodies', 'bahuguna', 'mehrauli', 'mujeeb', 'hindilanguage', 'simla', 'thinking', 'early', 'every', 'arabic', 'population', 'qs', 'currently', 'outside', '2000s', 'dynasty', 'mahmud', 'islamias', 'computer', 'veRs.e', 'nanomedicine', 'ajmal', 'dismiss', 'ibrar', 'accepted', 'teach', 'hauz', 'azadchancellormufaddal', 'جامعہ', 'gateway', 'provicechancellor', 'inter', 'governance', 'specialised', '30m', 'empire', 'shahdara', 'youngs', 'ago', 'najeeb', 'eco', 'politics', 'creative', 'standards', 'delhimeerut', 'minar', 'rank', 'rebellion', '1927', 'mughal', 'kotla', 'indian', 'mirza', 'nanodevice', 'ideas', 'maintained', 'stadium', 'municipal', 'majlisimaliyat', 'e', 'offering', 'page', '201325', 'events', 'najma', 'lives', 'pant', 'particularly', 'handicapped', 'acting', 'instrumental', 'founded', 'inception', 'jahanpanah', 'descriptionshort', 'works', 'governmentand', 'amritsari', 'software', 'india6', 'imparts', 'statement', 'jamal', 'ba', 'entered', 'anjana', 'extension', 'rizwi', 'smarak', 'fiveyear', 'national', 'provides', 'vidyapeetha', 'nelson', 'bfa', 'ahmed', 'dnd', 'life', 'geographyand', 'lanes', 'prime', 'colleges', 'logged', 'muslim', 'truth', 'hospital', 'mohammad', 'twodegree', 'visvabharati', 'faridabad', 'campusedit', 'vijaya', 'kaushal', 'needs', 'khan', 'rohilla', 'name', 'cocurricular', 'commons', '328faculty', 'industrial', 'people4748', 'the', 'rashtrapati', 'coordinates', 'wikidatause', 'museum', '35schools', 'isbt', 'trademark', 'facultiescentres', 'cricket', 'framework', 'front', 'naac', 'ghat', 'nizami', 'dean', 'physiotherapy', 'about', 'subscribes', '8', 'staff', 'pg', 'basis', 'ghosh', 'bare', 'academy', 'chauhan', 'center18', 'cradle', 'gets', 'freedom', 'january', 'bokmålਪਜਬپنجابیsimple', 'punjab', 'ejournals', 'protest', 'contact', 'diploma', 'support', 'activities', 'khas', 'sent', '202351', 'veRs.ion', 'influenced', 'ghari', 'delhi4950', 'religious', 'islamia44', 'pharmaceutical', 'c', 'trade', 'leading', 'territory', 'probritish', 'team', 'deemed', 'visit', 'subhas', '20205912engineering', '11foundeRs.', 'specializes', 'across', 'articleabout', '25th', 'tamil', 'ka', 'codewikidata', 'kunwar', 'shared', 'languagesedit', 'note', 'center', 'situated', 'available', 'institution', 'geography', 'sulaiman', 'dci', 'matches24', 'defendeRs.', 'delhifaridabad', 'shreya', 'promote', 'walk', 'climate', 'centeredit', 'aims', 'certificate', 'hamdard', 'bahadur', 'injuries', 'defunct', '20236325architecture', 'abid', 'govind', 'control', '1936', 'statementsarticles', 'secured', 'url', 'besides', 'medium', 'alam', 'nondescript', 'surah', 'eqbal', 'education', '3organisation', 'jamia', 'rare', 'peRs.ian', 'baghpat', 'original', 'mig23', 'islamia532', 'leader', 'master', 'ebooks', 'graphic', 'programmescouRs.es', 'mayoRs.', 'section', 'see', 'mushir', 'maidan', 'nonprofit', '17', 'mechanical', '1987', 'certain', 'jaitley', '332centre', 'ramlila', 'retires', 'azad', 'jawaharlal', 'fatma', 'received', 'arts', 'nine', 'initially', 'woman', 'chief', 'road', 'scenic', 'institutions', 'jantar', 'effect', 'hijron', 'flyway', '401500', 'pti', 'housesansad', 'threw', 'state', 'majlisitalimi', 'sunni', 'tourism', 'cofoundeRs.', '33centeRs.', 'training', 'reflections', 'railway', 'dargah', 'simultaneously', 'revolution', 'artshumanities', '1923', 'centres', 'nanotechnologyedit', 'metcalfe', 'public', '11th', 'links', 'tribal', 'one', 'template', 'hussainmahatma', 'jauhar39', 'distance', 'ashokan', 'three', 'tughlaq', 'اسلامیہ', '1925', 'championship', 'integrated', 'budding', 'garhwal', 'measurements', 'rankingsedit', 'alabidin', 'prospectus', 'crackdown', 'indiamahatma', 'libraries', 'kidwai', 'not1typepublicestablishedoctober', 'shri', 'accreditation', 'girls', 'foundational', '22library', 'sunder', 'among', 'transit', '1981', 'articletalk', 'feroz', 'statue', 'desk', 'rahman', 'studies', 'for', 'except', 'lal', 'sources', 'heart', '285616083', 'arun', 'you', 'videos', 'old', 'hyderabad', 'economies', 'rajasthan', 'what', 'content', 'highways', 'speech', 'technology43', 'hospice', 'fields', 'mehboob', 'educational', 'school', 'air', 'मलय', 'bhavan', 'haryana', 'databases', 'dusib', 'seven', 'englishtaught', 'digambar', 'act', 'offer', 'aeronautics', '60', 'nizamuddin', '9external', 'wikidata', 'sayyid', 'installed', 'statistics', 'mansoor', 'd', 'sanaullah', 'organization', 'government', 'islamiacitation', 'sites', 'b', 'pdf', 'transportairwithin', 'wikidataarticles', 'thermal', 'islamia', 'council', 'shaikhulhind', 'coaching', 'antarrashtriya', 'mens', 'bahadurgarh', 'khalji', 'forcefully', 'pp', 'written', 'manuscripts', 'struggle', 'faculty', 'sindhu', 'barkha', 'depicting', 'rajiv', 'regeneration', 'historic', 'legislative', 'hons', 'mosque', 'programmes', 'museums', 'mā', 'founder', 'february', 'teacheRs.', 'arabia', 'managementedit', 'got', '2641', 'department', 'marg', '1951', 'include', '202034', 'sport', 'jal', 'couRs.es', '11', 'schoolsedit', '26th', 'south', 'temples', '1996', 'masteRs.', 'ugchuman', 'jahaz', 'under', 'registrar', 'nandan', 'architecture', 'including', 'emphasis', 'potential', 'upadhyaya', 'contents', 'literary', 'move', 'hindi', 'schools', 'letteRs.', '19201920', 'drama', 'rukh', 'building', 'prayeRs.', 'uloom', 'highlyanticipated', 'play', 'tezpur', 'devdas', 'deobandipeRs.onal', '1982', 'tughlaqabad', 'j9u', 'year', 'lyngdoh', 'العربيةবলdeutschفارسیहनदbahasa', 'sacred', 'islamia31', '6alumni', 'gour', 'toyota', 'court', 'nanostructures', 'past', '2230', 'nanofabrication', 'professor', 'disciplines', 'exclusion', 'pataudi', 'college', 'medal', 'includes', 'kashmere', 'review', 'structures', '198817', 'body', 'moe', 'viceroy', 'governanceedit', '2021articles', '23', 'institutional', 'hasan', 'wikipedia', 'israel', 'excellence', 'institutes67', 'departments', 'major', 'asian', 'design', '501600', 'fulfilling', 'prithviraj', 'position35', 'majeed', 'india', 'associated', 'grounds', 'times', '202353501600times', 'islamiaother', 'disclaimeRs.', 'parks', 'khwajaallama', 'students', 'lieutenant', 'thousands', 'departmental', 'ahmad', 'subsequently', 'khamba', 'list', 'qila', 'foundeRs.edit', 'administrationedit', 'lifelong', 'establishments', 'ghaziabad', 'science', 'free', 'millias', 'indonesiaಕನನಡമലയളमरठnederlandsनपलnoRs.k', 'you17', 'activists', 'jump', 'finance', 'r', 'widely', 'om', '20236510', 'ring', 'religions', 'appellate', 'tripura', 'sparked', 'archives', 'utc', 'chowk', 'snooker', '323faculty', 'hockey', 'bsc', 'chancelloRs.', 'rur', 'mmaj', 'khanum', 'visitor', 'twoyear', 'another', 'pedagogy', 'based', 'delhi', 'law', 'five', 'capitals', 'resolution', '202254128times', 'biotechnology40', 'football', 'granted', '2019', 'atws', 'expressways', 'passed', '2023', 'boxing', 'built', 'gandhi11', 'highest', 'llm', '202262', 'campus', '2024', 'main', 'may', 'top', 'part', 'vte', 'internet', 'engineering', 'known', 'sudoc', 'mahatma', 'philipsborn', '2023583outlook', 'management', 'presentday', 'hospitality', 'delhi16', '9th', 'symbol', 'chinese', '10', 'global', 'allama', 'consists', 'iranology', '25', 'aloud', 'dar', 'libraryedit', 'islamia30', 'tarjuma', 'eventsrandom', 'heroes', 'comparative', 'ranking63', 'ranking65', 'activist', 'around', 'block', 'image', 'safdar', 'punjabi', 'postgraduate', 'fide', 'danish', 'remains', 'vicechancellor', 'khari', 'future8', 'extensively', 'regional', 'arena', '75', 'centrally', 'french', 'fatehpuri', 'interestgovernment', 'agitation', 'diplomas', '335mmaj', 'moth', 'specialization', '31governance', 'cardiopulmonary', 'sarai', '325faculty', 'languages', 'strategic', 'alulum', 'vishwavidyalaya', 'hindu', 'described', 'nonacademic', '24', 'univeRs.ities', 'fifa', 'kashmir', 'mohamad', 'ampareen', 'places', 'offered', 'ranking60', 'divisionsdistricts', 'alsoedit', 'arecs1', 'parameterpages', 'darul', 'program', 'moscow']\n"
     ]
    }
   ],
   "source": [
    "word_tokens = word_Tokenizer(remove_punctuation_special_chars(cleaned_text))\n",
    "# word_tokens = stemming(word_tokens)\n",
    "# word_tokens = lemmatization(word_tokens)\n",
    "words = []\n",
    "for word in word_tokens:\n",
    "    words.append(format_currency(word))\n",
    "unique_words = list(set(words))\n",
    "final_text = \" \".join(words)\n",
    "text_file = open(\"./final_text.txt\", \"w\")\n",
    "text_file.write(final_text)\n",
    "text_file.close()\n",
    "print(words, end = \"\\n\\n\\n\\n\")\n",
    "print(unique_words)"
   ]
  },
  {
   "cell_type": "code",
   "execution_count": 45,
   "metadata": {},
   "outputs": [
    {
     "data": {
      "text/plain": [
       "['jamia millia islamia  wikipedia jump content main menu main menu move sidebar hide navigation main pagecontentscurrent eventsrandom articleabout wikipediacontact usdonate contribute helplearn editcommunity portalrecent changesupload file languages language links top page',\n",
       " 'search search create account log peRsonal tools create account log pages logged editoRs',\n",
       " 'learn contributionstalk contents move sidebar hide top 1history toggle history subsection 11foundeRs',\n",
       " '2campus toggle campus subsection 21sports 22library 3organisation administration toggle organisation administration subsection 31governance 32faculties 321faculty law 322faculty engineering technology 323faculty architecture ekistics 324faculty humanities languages 325faculty fine arts 326faculty social sciences commerce  business management 327faculty natural sciences 328faculty life sciences 329faculty education 3210faculty dentistry 3211faculty management studies 33centeRs',\n",
       " '331ajk mass communication research center 332centre physiotherapy rehabilitation sciences 333centre nanoscience nanotechnology 334centre european latin american studies 335mmaj academy international studies 34other centeRs',\n",
       " '35schools 4mosques 5rankings 6alumni faculties 7see also 8references 9external links toggle table contents jamia millia islamia 18 languages العربيةবলdeutschفارسیहनदbahasa indonesiaಕನನಡമലയളमरठnederlandsनपलnoRsk bokmålਪਜਬپنجابیsimple englishதமழукраїнськаاردو edit links articletalk english readeditview history tools tools move sidebar hide actions readeditview history general links hererelated changesupload filespecial pagespermanent linkpage informationcite pageget shortened urldownload qr codewikidata item printexport download pdfprintable veRsion projects wikimedia commons coordinates 28334179n 77164854e  285616083n 772801500e  285616083 772801500 wikipedia free encyclopedia central univeRsity new delhi india jamia millia islamiaother namejmimottoʻallam alinsāna mā lam yaʻlammotto englishtaught man knew not',\n",
       " '1typepublicestablishedoctober 29 1920 103 yeaRs',\n",
       " 'ago 19201029foundeRsmahmud hasan deobandimohammad ali jauharhakim ajmal khanmukhtar ahmed ansariabdul majeed khwajaallama iqbaldr zakir hussainmahatma gandhimaulana abul kalam azadchancellormufaddal saifuddinvicechancelloreqbal hussain acting vc2students241383undergraduates94303postgraduates51893doctoral students20473locationsouth east delhi delhi indiacampusurban 254 acres 103 haaffiliationsugc naac aiu nba bci dci aicte dgca acuwebsitejmiacin jamia millia islamia urdu جامعہ ملیہ اسلامیہ abbreviated jmi central univeRsity located new delhi india',\n",
       " 'originally established aligarh united provinces presentday uttar pradesh india british empire 1920 moved current location okhla 1935 given deemed status univeRsity grants commission 1962',\n",
       " '26 december 1988 became central univeRsity',\n",
       " 'univeRsity founded mahmud hasan deobandi mohammad ali jauhar hakim ajmal khan mukhtar ahmed ansari abdul majeed khwaja allama iqbal dr zakir hussain mahatma gandhi maulana abul kalam azad',\n",
       " 'foundation stone laid mahmud hasan deobandi leader silk letter movement fiRst student darul uloom deoband',\n",
       " 'muhammad ali jauhar served fiRst vicechancellor 1920 1923 hakim ajmal khan served fiRst chancellor 1920 1927',\n",
       " '26 may 2017 najma heptulla became 11th chancellor univeRsity najma akhtar became fiRst woman hold post vice chancellor april 2019 served till 12 november 2023',\n",
       " '4 13th march 2023 mufaddal saifuddin elected 12th chancellor univeRsity replacing najma heptulla',\n",
       " '5 2020 jamia millia islamia ranked 1st among central univeRsities country rankings released ministry education india',\n",
       " '6 december 2021 univeRsity received a ranking national assessment accreditation council',\n",
       " '7 historyedit 1970 stamp india dedicated 50 anniveRsary jamia millia islamia dr zakir hussains mausoleum mural depicting historical landscape jamia millia islamia jamia millia islamia established aligarh 29 october 1920 mohammad ali jauhar hakim ajmal khan mukhtar ahmed ansari abdul majeed khwaja zakir hussain presidency mahmud hasan deobandi',\n",
       " '8 established mainly response demand students aligarh muslim univeRsity new national muslim univeRsity would free government influence felt administration aligarh muslim univeRsity probritish stance',\n",
       " '8910 conceived national institution would offer progressive education emphasis indian nationalism students communities particularly muslims',\n",
       " 'zakir hussain described the movement jamia millia islamia struggle education cultural renaissance aims prepare blueprint indian muslims may focus islam simultaneously evolve national culture common indian',\n",
       " 'lay foundation thinking true religious education promote patriotism national integration among indian muslims proud take part future progress india play part comity nations peace development',\n",
       " 'objective establishment jamia millia islamia lay common curriculum indian muslims taking account future challenges prepare children masteRs',\n",
       " 'future',\n",
       " '8 emergence jamia supported mahatma gandhi11121314 felt jamia millia islamia could shape lives hundreds thousands students basis shared culture worldview',\n",
       " 'mahatma sent youngest son devdas gandhi teach hindi jamia',\n",
       " '15 1925 jamia millia islamia moved aligarh karol bagh new delhi',\n",
       " '16 1 march 1935 foundation stone school building laid okhla nondescript village southern outskirts delhi',\n",
       " '1936 institutions jamia millia islamia except jamia press maktaba library moved new campus',\n",
       " '16 univeRsity grants commission gave jamia millia islamia deemed status 1962 jamia millia islamia became central univeRsity act indian parliament 26 december 1988',\n",
       " '17 2006 king abdullah saudi arabia paid visit univeRsity donated usd 30 million construction library research center',\n",
       " '18 2019 univeRsity emerged center citizenship amendment act protests act passed parliament',\n",
       " '13 december 2019 delhi police tried forcefully dismiss protest students threw tear gas inside campus students control agitation',\n",
       " '15 december 2019 police entered campus pretext trying catch mob destroyed public peace outside univeRsity campus',\n",
       " 'many students sustained injuries police brutality sparked protests several univeRsities',\n",
       " '1920 foundeRs',\n",
       " 'edit jamia founded group scholaRs',\n",
       " 'activists including muhammad ali jauhar hakim ajmal khan mukhtar ahmed ansari',\n",
       " 'foundation stone laid mahmud hasan deobandi islamic scholar activist indian independence movement',\n",
       " 'invited preside foundational ceremony univeRsity aligarh',\n",
       " 'speech prepared read aloud student shabbir ahmad usmani',\n",
       " '821 subsequent makeRs',\n",
       " 'included abdul majeed khwaja abid hussain mohammad mujeeb zakir hussain',\n",
       " '816 jamias establishment supported politicians maulana azad mahatma gandhi',\n",
       " '11 foundation committee jamia included kifayatullah dehlawi hussain ahmad madani syed sulaiman nadwi abdul haq abdul bari firangi mahali shabbir ahmad usmani sanaullah amritsari muhammad iqbal syed mahmud saifuddin kitchlew',\n",
       " '2223 campusedit campus distributed large area okhla area delhi',\n",
       " 'many buildings renovation',\n",
       " 'univeRsitys scenic cricket ground nawab mansoor ali khan pataudi sports complex hosted many important tournaments indian womens cricket matches',\n",
       " '24 ground also hosted univeRsity cricket championship 2013',\n",
       " '25 besides seven faculties jamia centeRs',\n",
       " 'learning research including anwar jamal kidwai mass communication research centre mcrc faculty engineering  technology faculty fine arts centre theoretical physics maulana mohammad ali jauhar academy third world studies atws mosque',\n",
       " 'jamia offeRs',\n",
       " 'undergraduate postgraduate information technology couRses',\n",
       " 'jamia millia islamia joined green campaign installed 2250kilowatt solar panels campus',\n",
       " '26 north campus jamia centenary gate night 23 july 2023 jamia millia islamias vicechancellor najma akhtar announced univeRsity obtained approval centre government establish medical college',\n",
       " 'furthermore mentioned currently working setting international campus dubai international academic city west asia',\n",
       " '27 sportsedit nawab mansur ali khan pataudi sports complex jamia millia islamia jamia created maintained sports facilities infrastructure holding cultural events cocurricular activities',\n",
       " 'initially univeRsity got recognition sports jamia fiRst gold silver medal wrestling 1977 india inter univeRsity championship',\n",
       " 'ranji trophy vijaya trophy matches regular event every year jamia cricket ground',\n",
       " 'past jamia hosted womens cricket test matches womens world cup matches blinds cricket world cup matches',\n",
       " 'facilities used practice ground commonwealth games well',\n",
       " 'ground within periphery also consists centrally airconditioned indoor games stadium',\n",
       " 'sports complex facilities for cricket football lawn tennis court volleyball court badminton basketball jogging track athletics table tennis yoga snooker room hockey',\n",
       " 'complex equipped latest gymnasium sports equipment',\n",
       " 'admissions sports category following games athletics boxing badminton basketball cricket football hockey shooting air rifle air pistol shot gun table tennis lawn tennis volleyball wrestling',\n",
       " 'basketball court jamia millia islamia sports complex libraryedit dr zakir husain library univeRsity library system consisting centralized departmental libraries archives 60 lakhs approximately 143 lakhs subjectspecific books best urdu book collections 5000 rare books 2230 rare manuscripts',\n",
       " 'besides print section library extensively subscribes open access videos eresources ebooks ejournals academic materials databases sciences social sciences artshumanities engineering law select databases subscribed univeRsity eshodhganga moocs couRses member nad',\n",
       " 'provision remote access databases antiplagiarism software',\n",
       " 'digital resource centre 100 workstations gateway online resources 200 computeRs',\n",
       " 'students',\n",
       " 'library open bona fide students jamia millia islamia',\n",
       " 'besides this subject collection libraries faculties centres',\n",
       " '28 organisation administrationedit governanceedit governing officials univeRsity include amirijamia chancellor shaikhuljamia vicechancellor naib shaikhuljamia provicechancellor musajjil registrar',\n",
       " 'president india visitor univeRsity',\n",
       " 'anjuman univeRsity court supreme authority univeRsity power review acts majlisimuntazimah executive council majlisitalimi academic council majlisimaliyat finance committee',\n",
       " 'executive council highest executive body univeRsity',\n",
       " 'academic council highest academic body univeRsity responsible maintenance standards instruction education examination within univeRsity',\n",
       " '29 2017 najma heptulla appointed chancellor jamia millia islamia',\n",
       " '30 2019 najma akhtar appointed fiRst woman vicechancellor jamia millia islamia',\n",
       " '31 2023 syedna mufaddal saifuddin succeeded appointed chancellor jamia millia islamia',\n",
       " '532 facultiesedit jamia millia islamia ten faculties offeRs',\n",
       " 'academic extension programs',\n",
       " 'faculty lawedit established 1989 faculty law offered threeyear llbcouRse early 2000s started additionally offering integrated 5 yeaRs',\n",
       " 'ballbhons',\n",
       " 'couRse ug students academic year 20022003',\n",
       " 'faculty offeRs',\n",
       " 'apart fiveyear integrated ba llb honouRs',\n",
       " 'programme twoyear postgraduate programme llm three specialised streams peRsonal law corporate law criminal law phd programme',\n",
       " 'also offeRs',\n",
       " 'twoyear executive llm programme working professionals',\n",
       " '33 faculty secured 9th rank among law schools india per nirf law ranking 2020',\n",
       " '34 couRses taught faculty include ll',\n",
       " 'm peRsonal law corporate law criminal law ballb hons pg',\n",
       " 'diploma labour law air space law',\n",
       " 'faculty engineering technologyedit mig23 fighter jet indian air force stands front college engineering main article faculty engineering jamia millia islamia faculty engineering technology fet established 1985 several departments offering programmes phd mtech msc btech bsc including civil engineering mechanical engineering electrical engineering electronics  communication engineering computer engineering aeronautics applied sciences  humanities environmental science',\n",
       " 'also provide specialization couRses masters degrees environmental science engineering earthquake engineering machine design thermal engineering production industrial engineering electrical power management system control  instrumental system electronics energy science management energy science technology',\n",
       " 'faculty offeRs',\n",
       " 'regular couRses continuing programmes',\n",
       " 'times higher education subject ranking2020 jmi ranked 401500 engineering technology',\n",
       " 'within india rank 11 among higher education institutions among univeRsities 2nd position',\n",
       " '35 jmi placed 501600 computer science among indian institutions ranked 16th position 7th among indian univeRsities',\n",
       " '35 faculty architecture ekisticsedit jamia millia islamia central univeRsity fullfledged faculty architecture  ekistics',\n",
       " 'architecture program started year 20012002',\n",
       " 'faculty department architecture offeRs',\n",
       " 'twodegree couRses bachelor architecture nine masteRs',\n",
       " 'couRses phd',\n",
       " 'couRses include undergraduate postgraduate doctoral studies subjects architecture architecture pedagogy health architecture building services urban regeneration ekistics master planning mplan master design mdes3637 faculty humanities languagesedit view faculty humanities languages building faculty ten departments offering programmes phd phil prephd postgraduate undergraduate diploma certificate couRses',\n",
       " 'department english jamia millia islamia department islamic studies dean office faculty humanities languages faculty departments include departments arabic english hindi history culture islamic studies peRsian iranology urdu sanskrit foreign languages korean turkish french spanish',\n",
       " 'also provide certificate programme like chinese uzbek portuguese russian kazakh italian etc',\n",
       " 'islamic studies subject jamia millia islamia since inception',\n",
       " 'instituted separate department 1988 department headed scholaRs',\n",
       " 'like zayn alabidin sajjad meerthi',\n",
       " '38 department publishes annual magazine sada e jauhar',\n",
       " '39 faculty fine artsedit faculty six departments offering programmes phd master fine arts mfa bachelor fine arts bfa diploma certificate couRses',\n",
       " 'subjects taught include painting sculpture applied arts art education graphic art art history  art appreciation',\n",
       " 'campus art gallery named indian painter m f hussain',\n",
       " 'faculty social sciences commerce  business managementedit gulistaneghalib features statue mirza ghalib vaRsitys faculty social sciences commerce  business management consists nine departments',\n",
       " 'include departments social sciences psychology economics political science sociology social work commerce  business studies library information science',\n",
       " 'department mathematics college social science based around gulistaneghalib commonly referred main campus',\n",
       " 'faculty natural sciencesedit faculty natural sciences consists five departments ie physics chemistry mathematics geography computer science',\n",
       " 'addition four associated centres namely centre theoretical physics centre interdisciplinary research basic sciences centre nanoscience nanotechnology multidisciplinary centre advanced research science',\n",
       " 'faculty life sciencesedit faculty life sciences consists two departments ie biosciences biotechnology',\n",
       " '40 departments srinivasa ramanujan block mujeeb bagh',\n",
       " 'faculty educationedit faculty specializes quality training education budding teacheRs',\n",
       " 'two departments namely educational studies institute advanced studies education formerly known department teacher training nonformal education',\n",
       " 'faculty dentistryedit faculty offering b d s programmes41 faculty management studiesedit faculty consists departments management studies hospital management  hospice studies tourism  hospitality management',\n",
       " 'centeRs',\n",
       " 'edit ajk mass communication research centeredit ftk communication centre campus main article ajk mass communication research centre mass communication research centre established 1982 anwar jamal kidwai vicechancellor later chancellor jamia millia islamia',\n",
       " 'citation needed centeRs',\n",
       " 'offeRs',\n",
       " 'postgraduate couRses mass communication',\n",
       " 'ftkcentre information technology provides internet facility faculty membeRs staff research scholaRs students',\n",
       " '42 centre offeRs',\n",
       " 'couRses including master artsma',\n",
       " 'couRses mass communication convergent journalism development communication visual effect animation well postgraduate diplomas in still photography visual communication acting broadcast technology',\n",
       " '43 centre physiotherapy rehabilitation sciencesedit centre offeRs',\n",
       " 'couRses including  bpt bachelor physiotherapy  mpt',\n",
       " 'sports mpt',\n",
       " 'orthopaedics mpt',\n",
       " 'neurology mpt',\n",
       " 'cardiopulmonary doctorate philosophy',\n",
       " 'centre nanoscience nanotechnologyedit centre aims promote forefront basic applied research fields nanoscience nanotechnology potential applications towards fulfilling national strategic needs',\n",
       " 'main research focus centre includes nanofabrication nanodevice nanomaterials nanostructures nanobiotechnology nanomedicine nanostructure characterization measurements',\n",
       " 'offeRs',\n",
       " 'phd mtech nanotechnology couRses',\n",
       " 'citation needed centre european latin american studiesedit centre offeRs',\n",
       " 'parttime certificate diploma advanced diploma couRses five languages viz',\n",
       " 'french spanish italian portuguese russian',\n",
       " 'also offeRs',\n",
       " 'mphilphd european studies latin american studies',\n",
       " 'citation needed mmaj academy international studiesedit mmaj academy international studies jamia millia islamia formerly academy third world studies mmaj academy international studies established 1988 initiative prime minister rajiv gandhi conduct interdisciplinary research social political economic issues pertaining developing countries',\n",
       " '44 subsequently renamed one cofoundeRs',\n",
       " 'jamia millia islamia maulana mohamad ali jauhar',\n",
       " '44 academy offeRs',\n",
       " 'mphil',\n",
       " 'phd programmes international studies postgraduate couRses politics international area studies language couRses uzbek chinese',\n",
       " '44 also library documentation centre named dr abid husain another founder jamia millia islamia',\n",
       " '44 centeRs',\n",
       " 'edit jamias academic nonacademic centeRs',\n",
       " 'include dr zakir husain institute islamic studies ftkcentre information technology centre distance open learning deen dayal upadhyaya kaushal kendra nelson mandela centre peace conflict resolution centre jawaharlal nehru studies centre comparative religions civilizations centre west asian studies dr kr',\n",
       " 'narayanan centre dalit minorities studies academy professional development urdu medium teacheRs centre north east studies policy research centre theoretical physics india  arab cultural centre centre culture media  governance centre interdisciplinary research basic sciences centre study social exclusion inclusive policy ugchuman resource development centre centre coaching career planning jamias premchand archives  literary centre sarojini naidu centre womens studies univeRsity counseling  guidance centre centre early childhood development research centre innovation entrepreneuRship cie multidisciplinary centre advanced research studies',\n",
       " '45 schoolsedit jamia millia islamia also imparts education nuRsery senior secondary level',\n",
       " 'schools include balak mata centre gerda philipsborn day care centre mushir fatma jamia nuRsery school jamia middle school jamia senior secondary school syed abid husain senior secondary school jamia girls senior secondary school',\n",
       " '46 mosquesedit vaRsity got certain mosques campus including central mosque',\n",
       " 'central mosque located opposite central library capacity 1000 people',\n",
       " '4748 mosque situated maulana mohammad ali jauhar marg delhi',\n",
       " '4950 central mosque jamia millia islamia rankingsedit univeRsity rankingsgeneral  internationalqs world 2023518011000qs asia 202352188times world 202353501600times asia 202254128times emerging 202255172general  indianirf overall 20235612nirf research 20235720nirf univeRsities 2023583outlook india univeRsities 20205912engineering  indianirf 20236026law  indianirf 2023615government colleges outlook india 2022626businessmanagement  indianirf 20236325architecture  indianirf 2023646dental  indianirf 20236510 internationally jamia millia islamia ranked 8011000 qs world univeRsity rankings 202351 188 asia',\n",
       " '52 ranked 501600 world london based times higher education world univeRsity rankings 202353 128 asia 2023 172 among emerging economies',\n",
       " '55 jamia millia islamia ranked 428 1100 univeRsities worldwide moscow based round univeRsity ranking 2023',\n",
       " '66 according yous',\n",
       " 'news  world report jamia millia islamia ranked 856 best global univeRsities',\n",
       " 'schools ranked according performance across set widely accepted indicatoRs',\n",
       " 'excellence',\n",
       " 'jamia millia islamia jmi secured fiRst position among central univeRsities country ranking released ministry education score 90 per cent',\n",
       " 'ranked 12th india overall national institutional ranking framework nirf 202356 3rd among univeRsities58 5th law ranking61 6th architecture ranking64 10th dental ranking65 26th engineering ranking60 20th research institutes67 25th management ranking',\n",
       " '63 faculty law ranked 6 among government law schools india outlook india 2022',\n",
       " '62 alumni facultiesedit main articles list jamia millia islamia people list chancelloRs',\n",
       " 'vicechancelloRs',\n",
       " 'jamia millia islamia since inception jamia millia islamia produced alumni across various disciplines including shah rukh khan mouni roy arfa khanum sherwani barkha dutt anjana om kashyap ampareen lyngdoh kunwar danish ali virendar sehwag imran raza ansari mohammad najeeb qasmi',\n",
       " 'see alsoedit list islamic educational institutions jamia hamdard distance education council education delhi education india list univeRsities india univeRsities colleges india mahmud hasan deobandi  jamia millia referencesedit  surah alalaq veRse 5  965 العلق  quran o',\n",
       " 'quranocom',\n",
       " 'retrieved 5 july 2021',\n",
       " ' najma akhtar retires eqbal hussain takes acting vice chancellor jamia millia islamia',\n",
       " 'retrieved 17 november 2023',\n",
       " ' b c combined prospectus schools 2022 pdf',\n",
       " 'jamia millia islamia',\n",
       " '2021',\n",
       " ' najma heptulla appointed new jamia chancellor',\n",
       " 'times india',\n",
       " '29 may 2017 issn 09718257 retrieved 13 march 2023',\n",
       " ' b dr syedna mufaddal saifuddin new chancellor jamia millia islamia',\n",
       " 'indian express',\n",
       " '13 march 2023 retrieved 13 march 2023',\n",
       " ' ibrar mohammad 13 august 2020',\n",
       " 'jamia millia islamia tops central univeRsities government rankings',\n",
       " 'times india',\n",
       " 'retrieved 9 october 2022',\n",
       " ' what got jamia millia islamia naac a grade',\n",
       " 'india today',\n",
       " '16 december 2021 retrieved 9 october 2022',\n",
       " ' b c e zafar ahmad nizami 2011',\n",
       " 'memarānejamia in urdu',\n",
       " 'maktaba jamia limited delhi',\n",
       " 'isbn 9758781784756',\n",
       " ' syed muhammad miyan deobandi',\n",
       " 'ulamaehaqq ke mujahidana karname',\n",
       " 'faisal international new delhi',\n",
       " ' shaikhulhind mahmood hasan symbol freedom struggle',\n",
       " 'milligazettecom',\n",
       " '12 february 2016 retrieved 9 april 2020',\n",
       " ' b mahtab alam 29 october 2019',\n",
       " 'gandhi lifelong friend jamia millia islamia',\n",
       " 'wire',\n",
       " 'retrieved 18 january 2020',\n",
       " ' india today web desk 3 october 2019',\n",
       " 'mahatma gandhis rare letteRs',\n",
       " 'displayed jamia millia islamia',\n",
       " 'india today',\n",
       " 'retrieved 18 january 2020',\n",
       " ' nishat zaidi 23 december 2019',\n",
       " 'jamia remains cradle gandhis ideals',\n",
       " 'hindu',\n",
       " 'retrieved 18 january 2020',\n",
       " ' gandhiji indian muslims jamia reflections',\n",
       " 'countercurrents',\n",
       " '12 october 2019 retrieved 18 january 2020',\n",
       " ' jamia millia mahatma gandhi walk history lanes',\n",
       " '12 september 2021 archived original 12 september 2021 retrieved 8 december 2023',\n",
       " ' b c profile jamia millia islamia  history  historical note',\n",
       " 'retrieved 12 august 2019',\n",
       " ' javed akhatar',\n",
       " 'jamia millia islamias contribution islamic studies since 1920 pdf',\n",
       " 'pp',\n",
       " '2641',\n",
       " 'retrieved 9 april 2020',\n",
       " ' abdullah donates 30m jamia millia islamia',\n",
       " 'arab news',\n",
       " '1 june 2006 retrieved 15 november 2023',\n",
       " ' protest outside iima support jamia students 50 held',\n",
       " 'hindu',\n",
       " 'pti',\n",
       " '16 december 2019 issn 0971751x',\n",
       " 'retrieved 18 december 2019',\n",
       " 'cite news cs1 maint otheRs',\n",
       " 'link  from oxford harvard univeRsities abroad see protests police crackdown jamia amu',\n",
       " 'economic times',\n",
       " '17 december 2019 retrieved 18 december 2019',\n",
       " ' syed muhammad miyan deobandi ulamaehaqq aur unke mujahidana karname vol',\n",
       " '1 page 144',\n",
       " ' history jamia millia islamia',\n",
       " 'jamia millia islamia',\n",
       " 'archived original 30 june 2007 retrieved 24 april 2021',\n",
       " ' shamsur rahman mohsini',\n",
       " 'qawmi taleemi tehreek national educational movement 2012 ed',\n",
       " 'delhi maktaba jamia',\n",
       " 'p 19 isbn 9758781787887',\n",
       " ' jamia millia islamia univeRsity ground  india  cricket grounds  espncricinfocom',\n",
       " 'cricinfo',\n",
       " 'retrieved 24 january 2019',\n",
       " ' jaleel khalid 17 february 2013',\n",
       " 'jamia play highlyanticipated toyota univeRsity cricket championship',\n",
       " 'jamia journal',\n",
       " 'retrieved 24 january 2019',\n",
       " ' eco revolution',\n",
       " 'solarpowered jamia milia islamia get green buildings too',\n",
       " '29 december 2018 retrieved 24 january 2019',\n",
       " ' shreya ghosh 24 july 2023',\n",
       " 'jamia millia islamia gets central nod set medical college',\n",
       " 'times india',\n",
       " 'retrieved 25 july 2023',\n",
       " ' nigar',\n",
       " 'collection development univeRsity libraries jamia millia islamia jamia hamdard pdf',\n",
       " 'aligarh muslim univeRsity',\n",
       " 'pp',\n",
       " '3646',\n",
       " 'retrieved 8 april 2020',\n",
       " ' the jamia millia islamia act 1988 pdf',\n",
       " 'jmiacin',\n",
       " ' najma heptulla appointed fiRst woman chancellor jamia millia islamia',\n",
       " 'ndtvcom',\n",
       " 'retrieved 23 december 2020',\n",
       " ' professor najma akhtar appointed jamia millias fiRst woman vicechancellor',\n",
       " 'hindustan times',\n",
       " '12 april 2019 retrieved 23 december 2020',\n",
       " ' jamia gets new chancellor  okhla times',\n",
       " '13 march 2023 retrieved 13 march 2023',\n",
       " ' jamia  faculties faculty law  introduction',\n",
       " 'retrieved 22 june 2021',\n",
       " ' nazmi shadab',\n",
       " 'indias best univeRsities jamia millia islamias law faculty ready judgment day',\n",
       " 'india today',\n",
       " 'retrieved 22 june 2021',\n",
       " ' b jamia millia islamia improves position subject rankings engineering technology',\n",
       " 'india today',\n",
       " ' jamia  faculties faculty architecture ekistics  introduction',\n",
       " 'retrieved 7 september 2020',\n",
       " ' jamia prospectus 202223 list couRses pdf',\n",
       " ' syed mehboob rizwi',\n",
       " 'history dar alulum deoband 1st 1981 ed',\n",
       " 'darul uloom deoband',\n",
       " 'pp',\n",
       " '114116',\n",
       " ' department islamic studies',\n",
       " 'jamia millia islamia',\n",
       " 'retrieved 3 july 2017',\n",
       " ' latest  jamia',\n",
       " 'jmiacin',\n",
       " 'retrieved 14 january 2024',\n",
       " ' faculty dentistry',\n",
       " 'jamia millia islamia',\n",
       " 'retrieved 3 july 2017',\n",
       " ' url  jamia  centres ajk',\n",
       " 'mass communication research centre  programmescouRses ',\n",
       " 'retrieved 21 october 2020',\n",
       " ' b c jamia  centres  mmaj academy international studies  introduction',\n",
       " 'retrieved 7 march 2022',\n",
       " ' full list facultiescentres archived 12 november 2006 wayback machine  about jamia',\n",
       " ' halder ritam sharma vibha 29 february 2020',\n",
       " 'at jama masjid jamia millia islamia central mosque prayeRs',\n",
       " 'peace amity',\n",
       " 'times india',\n",
       " 'retrieved 14 january 2023',\n",
       " ' ramanathan usha 2006',\n",
       " 'illegality urban poor',\n",
       " 'economic political weekly',\n",
       " '41 1',\n",
       " ' times isma 4 august 2022',\n",
       " 'अललह क घर सटरल जमय मसजद जमय मलय इसलमय',\n",
       " 'isma times in hindi',\n",
       " 'retrieved 16 january 2023',\n",
       " ' a stately mosque built jamia millia',\n",
       " 'milli gazette  indian muslims leading news source',\n",
       " 'retrieved 16 january 2023',\n",
       " ' b qs world univeRsity rankings 2023',\n",
       " 'qs quacquarelli symonds limited',\n",
       " '8 june 2022',\n",
       " ' b qs asia univeRsity rankings 2023',\n",
       " 'qs quacquarelli symonds limited',\n",
       " '8 november 2022',\n",
       " ' b world univeRsity rankings 2023',\n",
       " 'times higher education',\n",
       " '2022',\n",
       " ' asia univeRsity rankings 2022',\n",
       " 'times higher education',\n",
       " '2022',\n",
       " ' b emerging economies univeRsity rankings 2022',\n",
       " 'times higher education',\n",
       " '2022',\n",
       " ' b national institutional ranking framework 2023 overall',\n",
       " 'national institutional ranking framework',\n",
       " 'ministry education',\n",
       " '5 june 2023',\n",
       " ' national institutional ranking framework 2023 research',\n",
       " 'national institutional ranking framework',\n",
       " 'ministry education',\n",
       " '5 june 2023',\n",
       " ' b national institutional ranking framework 2023 univeRsities',\n",
       " 'national institutional ranking framework',\n",
       " 'ministry education',\n",
       " '5 june 2023',\n",
       " ' top 75 univeRsities india 2020',\n",
       " 'outlook india',\n",
       " '8 october 2020 archived original 15 september 2020 retrieved 8 october 2020',\n",
       " ' b national institutional ranking framework 2023 engineering',\n",
       " 'national institutional ranking framework',\n",
       " 'ministry education',\n",
       " '5 june 2023',\n",
       " ' b national institutional ranking framework 2023 law',\n",
       " 'national institutional ranking framework',\n",
       " 'ministry education',\n",
       " '5 june 2023',\n",
       " ' b outlookicare rankings 2022 top 13 government law institutes india',\n",
       " 'outlook india',\n",
       " '8 july 2022',\n",
       " ' b national institutional ranking framework 2023 management',\n",
       " 'national institutional ranking framework',\n",
       " 'ministry education',\n",
       " '5 june 2023',\n",
       " ' b national institutional ranking framework 2023 architecture',\n",
       " 'national institutional ranking framework',\n",
       " 'ministry education',\n",
       " '5 june 2023',\n",
       " ' b national institutional ranking framework 2023 dental',\n",
       " 'national institutional ranking framework',\n",
       " 'ministry education',\n",
       " '5 june 2023',\n",
       " ' jmi scales high moscow based rur world univeRsity ranking 2021',\n",
       " 'retrieved 30 april 2020',\n",
       " ' moe national institute ranking framework nirf',\n",
       " 'retrieved 10 august 2022 external linksedit media related jamia millia islamia wikimedia commons official website vtemahmud hasan deobandipeRsonal religion islam sunni jurisprudence hanafi movement deobandi notable works ideas silk letter movement tarjuma shaykh alhind adillaekāmilah īzah aladillah jamia millia islamia disciples influenced list students mahmud hasan deobandi legacy shaikhulhind maulana mahmood hasan medical college categorymahmud hasan deobandi vteuniveRsities colleges delhiuniveRsitiescentral univeRsities delhi univeRsity jawaharlal nehru univeRsity jamia millia islamia univeRsity ignou state univeRsities delhi technological univeRsity dr b r ambedkar univeRsity delhi guru gobind singh indraprastha univeRsity indraprastha institute information technology delhi netaji subhas univeRsity technology institutes national importance india institute medical sciences aiims delhi indian institute technology delhi national institute technology delhi deemed univeRsities jamia hamdard univeRsity indian law institute national school drama indian agricultural research institute indian institute foreign trade national museum institute history art teri univeRsity shri lal bahadur shastri rashtriya sanskrit vidyapeetha school planning architecture rashtriya sanskrit sansthan collegesgovernment aided school biotechnology school chemical technology school it',\n",
       " 'school law school management studies indira gandhi delhi technical univeRsity women govind ballabh pant engineering college autonomous deendayal upadhyaya institute physically handicapped delhi portal vte national capital territory delhitopics architecture climate economy education government history sport tourism transport history timeline indraprastha hastinapur tomaras chauhan prithviraj raso muslim conquests indian subcontinent delhi sultanate mamluk dynasty khalji dynasty tughlaq dynasty sayyid dynasty lodi dynasty sher shah suri mughal empire old delhi maratha empire british east india company bahadur shah zafar indian rebellion 1857 british raj viceroy india indian independence movement partition india new delhi governmentand administration legislatures government india parliament india government delhi delhi legislative assembly delhi cantonment board new delhi municipal council municipal corporation delhi heads prime minister india president india chief minister delhi lieutenant governor delhi president delhi cantonment board chairman new delhi municipal council mayoRs',\n",
       " 'municipal corporations appellate courts supreme court india delhi high court goi agencies delhi police delhi development authority gnctd agencies delhi commission women delhi jal board delhi vidyut board delhi fire service delhi transport corporation delhi directorate education dusib dttdc autonomous bodies delhi state election commission places interestgovernment buildings parliament housesansad bhavan old parliament house new delhi new parliament house new delhi rashtrapati bhavan historic sites agrasen ki baoli ashokan edicts bara gumbad barakhamba central park sunder nuRsery chausath khamba chor minar coronation park feroz shah kotla gates delhi hauzishamsi hauz khas complex hijron ka khanqah humayuns tomb jahanpanah jahaz mahal jamali kamali mosque tomb jantar mantar khirki mosque lotus temple mehrauli complex metcalfe house moth ki masjid purana qila qila rai pithora qutb minar complex red fort salimgarh fort shish gumbad siri fort sultan ghari teen murti bhavan tomb isa khan tomb safdar jang tughlaqabad fort memorialsand museums india gate national police memorial national war memorial raj ghat wall truth indian air force museum national rail museum neighbourhoods chanakyapuri civil lines hauz khas karol bagh lajpat nagar religious sites ahinsa sthal akshardham chhatarpur temple fatehpuri mosque gurudwara bangla sahib gurudwara sis ganj sahib hanuman temple iskcon temple jama masjid kalkaji mandir laxminarayan temple lotus temple nizamuddin dargah sacred heart cathedral shri atma vallabh jain smarak sri digambar jain lal mandir viceroy church yogmaya temple streets plazas chandni chowk connaught place dilli haat g b road janpath khari baoli palika bazaar ramlila maidan rajpath geographyand divisionsdistricts central delhi east delhi new delhi north delhi north east delhi north west delhi shahdara south delhi south east delhi south west delhi west delhi national capital region faridabad ghaziabad greater noida gurgaon noida satellite cities gurgaon faridabad jhajjar bahadurgarh noida greater noida dadri ghaziabad baghpat transportairwithin delhi indira gandhi international airport safdarjung airport outside delhi hindon airport noida international airport under construction rail indian railway stations anand vihar terminal delhi junction sarai rohilla hazrat nizamuddin new delhi urban suburban rail delhi metro delhi suburban railway delhi ring railway regional rapid transit system rrts under construction roadbus terminals anand vihar isbt kashmere gate isbt sarai kale khan isbt highways  expressways inner ring road outer ring road dnd flyway delhigurgaon expressway delhimeerut expressway delhifaridabad skyway sportsteamscurrent delhi cricket team delhi football team delhi capitals delhi waverideRs',\n",
       " 'dabang delhi sudeva delhi fc delhi fc defunct delhi capitals basketball delhi defendeRs',\n",
       " 'delhi dynamos fc delhi giants delhi smasheRs',\n",
       " 'delhi united fc delhi wizards garhwal fc hindustan fc new delhi heroes fc simla youngs fc stadiums arun jaitley stadium chhatrasal stadium delhi univeRsity stadium dr ambedkar stadium dr karni singh shooting range indira gandhi arena jawaharlal nehru stadium major dhyan chand national stadium siri fort sports complex spm swimming pool complex talkatora stadium thyagaraj sports complex yamuna sports complex games 1951 asian games 1982 asian games 1987 cricket world cup 1989 asian athletics championships 1996 cricket world cup 2010 commonwealth games 2010 mens hockey world cup 2011 cricket world cup 2017 fifa you17 world cup delhi half marathon culture independence day republic day cinema shopping delhi pride qutub festival punjabi cuisine templates hindu temples landmarks museums neighbourhoods power plants schools univeRsities colleges related buildings structures neighbourhoods tourist attractions parks notable people delhi list cities india population india portal vtecentral univeRsities indiacentral univeRsities aligarh muslim univeRsity assam univeRsity babasaheb bhimrao ambedkar univeRsity banaras hindu univeRsity central agricultural univeRsity delhi univeRsity dr hari singh gour univeRsity dr rajendra prasad central agriculture univeRsity english foreign languages univeRsity indian maritime univeRsity indira gandhi national open univeRsity indira gandhi national tribal univeRsity jamia millia islamia jawaharlal nehru univeRsity mahatma gandhi antarrashtriya hindi vishwavidyalaya manipur univeRsity maulana azad national urdu univeRsity mizoram univeRsity nagaland univeRsity northeastern hill univeRsity pondicherry univeRsity rajiv gandhi univeRsity sikkim univeRsity tezpur univeRsity tripura univeRsity univeRsity allahabad univeRsity hyderabad visvabharati univeRsity new central univeRsities central sanskrit univeRsity central tribal univeRsity andhra pradesh central univeRsity andhra pradesh central univeRsity south bihar central univeRsity gujarat central univeRsity himachal pradesh central univeRsity haryana central univeRsity jammu central univeRsity jharkhand central univeRsity karnataka central univeRsity kashmir central univeRsity kerala central univeRsity odisha central univeRsity punjab central univeRsity rajasthan central univeRsity tamil nadu guru ghasidas vishwavidyalaya hemwati nandan bahuguna garhwal univeRsity mahatma gandhi central univeRsity nalanda univeRsity national sanskrit univeRsity rajiv gandhi national aviation univeRsity shri lal bahadur shastri national sanskrit univeRsity sindhu central univeRsity south asian univeRsity  established granted central univeRsity status 2009 afterwards',\n",
       " 'vteuniveRsities delhi india institute medical sciences new delhi ambedkar univeRsity delhi delhi pharmaceutical science research univeRsity delhi technological univeRsity indira gandhi national open univeRsity indian agricultural research institute indian institute technology delhi indian law institute indian statistical institute campus indira gandhi delhi technical univeRsity women indraprastha institute information technology indraprastha univeRsity jamia hamdard jamia millia islamia jawaharlal nehru univeRsity national institute educational planning administration national institute technology delhi national law univeRsity delhi netaji subhas univeRsity technology school planning architecture delhi teri school advanced studies univeRsity delhi authority control databases international isni viaf national israel united states idref islâm ansiklopedisi 28334179n 77164854e  285616083n 772801500e  285616083 772801500 retrieved  categories mahmud hasan deobandijamia millia islamianew delhicentral univeRsities indiaislamic univeRsities colleges indiaeducational institutions established 19201920 establishments british indiamahatma gandhihidden categories cs1 urdulanguage sources you arecs1 maint otheRsall articles bare urls citationsarticles bare urls citations august 2022webarchive template wayback linkscs1 hindilanguage sources hiarticles short descriptionshort description different wikidatause indian english april 2017all wikipedia articles written indian englishuse dmy dates december 2018articles using infobox univeRsitypages using infobox univeRsity image name parameterpages using infobox univeRsity affiliations parameterall articles unsourced statementsarticles unsourced statements march 2021articles unsourced statements november 2023commons category link wikidataarticles isni identifieRsarticles viaf identifieRsarticles j9u identifieRsarticles lccn identifieRsarticles sudoc identifieRsarticles tdvia identifieRscoordinates wikidata page last edited 5 february 2024 1207 utc',\n",
       " 'text available creative commons attributionsharealike license 40 additional terms may apply',\n",
       " 'using site agree terms use privacy policy',\n",
       " 'wikipedia registered trademark wikimedia foundation inc nonprofit organization',\n",
       " 'privacy policy wikipedia disclaimeRs',\n",
       " 'contact wikipedia code conduct developeRs',\n",
       " 'statistics cookie statement mobile view toggle limited content width']"
      ]
     },
     "execution_count": 45,
     "metadata": {},
     "output_type": "execute_result"
    }
   ],
   "source": [
    "sentences = sentence_Tokenizer(cleaned_text)\n",
    "cleaned_sentences = []\n",
    "for sent in sentences:\n",
    "    cleaned_sentences.append(remove_punctuation_special_chars(sent))\n",
    "cleaned_sentences"
   ]
  },
  {
   "cell_type": "code",
   "execution_count": 54,
   "metadata": {},
   "outputs": [
    {
     "name": "stdout",
     "output_type": "stream",
     "text": [
      "['www.telegraphindia.com.', 'www.jmi.ac.in.', 'www.timesnownews.com.', 'www.jmi.ac.in.', 'www.jmi.ac.in.', 'http://jmi.ac.in/cit/cit.htm[bare', 'www.jmi.ac.in.', 'www.jmi.ac.in.', 'www.nirfindia.org.', 'https://en.wikipedia.org/w/index.php?title=Jamia_Millia_Islamia&oldid=1203708507\"']\n"
     ]
    }
   ],
   "source": [
    "links = extract_urls(text_content)"
   ]
  },
  {
   "cell_type": "code",
   "execution_count": null,
   "metadata": {},
   "outputs": [],
   "source": [
    "#generate unigram count matrix using the list of words as argument to function\n",
    "def unigram_count(words):\n",
    "    unigram_count = {}\n",
    "    for word in words:\n",
    "        if word in unigram_count:\n",
    "            unigram_count[word] += 1\n",
    "        else:\n",
    "            unigram_count[word] = 1\n",
    "    return unigram_count\n"
   ]
  },
  {
   "cell_type": "code",
   "execution_count": null,
   "metadata": {},
   "outputs": [],
   "source": [
    "def generate_ngrams(tokens,k):\n",
    "    l=[]\n",
    "    i=0\n",
    "    while(i<len(tokens)):\n",
    "        l.append(tokens[i:i+k])\n",
    "        i=i+1\n",
    "    l=l[:-1]\n",
    "    return l\n",
    "bigram = generate_ngrams(word_tokens,2)\n",
    "print(\"N-grams generated (Here n is 2) = \")\n",
    "for i in bigram:\n",
    "    print(i)\n"
   ]
  }
 ],
 "metadata": {
  "kernelspec": {
   "display_name": "Python 3 (ipykernel)",
   "language": "python",
   "name": "python3"
  },
  "language_info": {
   "codemirror_mode": {
    "name": "ipython",
    "version": 3
   },
   "file_extension": ".py",
   "mimetype": "text/x-python",
   "name": "python",
   "nbconvert_exporter": "python",
   "pygments_lexer": "ipython3",
   "version": "3.11.4"
  }
 },
 "nbformat": 4,
 "nbformat_minor": 4
}
