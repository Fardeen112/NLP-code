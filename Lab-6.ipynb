{
 "cells": [
  {
   "cell_type": "code",
   "execution_count": 52,
   "metadata": {},
   "outputs": [
    {
     "name": "stdout",
     "output_type": "stream",
     "text": [
      "{'n e w </w>': 2, 'w i d e r </w>': 3, 'n e w e r </w>': 6, 'l o w e s t </w>': 2, 'l o w </w>': 5}\n"
     ]
    }
   ],
   "source": [
    "#random text\n",
    "import re \n",
    "\n",
    "\n",
    "text = \"new new wider wider wider newer newer newer newer newer newer lowest lowest low low low low low\"\n",
    "#remove punctuations\n",
    "text = re.sub(r'[^\\w\\s]','',text)\n",
    "vocab = {}\n",
    "for word in text.split():\n",
    "    new_word = ' '.join(list(word))+ ' </w>'\n",
    "    if new_word in vocab:\n",
    "        vocab[new_word] += 1\n",
    "    else:\n",
    "        vocab[new_word] = 1\n",
    "print(vocab)"
   ]
  },
  {
   "cell_type": "code",
   "execution_count": 53,
   "metadata": {},
   "outputs": [],
   "source": [
    "def find_pairs(vocab):\n",
    "    pairs = {}\n",
    "    for word, freq in vocab.items():\n",
    "        elems = word.split()\n",
    "        for i in range(len(elems) - 1):\n",
    "            if (elems[i], elems[i + 1]) in pairs:\n",
    "                pairs[(elems[i], elems[i + 1])] += freq\n",
    "            else:\n",
    "                pairs[(elems[i], elems[i + 1])] = freq\n",
    "    return pairs\n"
   ]
  },
  {
   "cell_type": "code",
   "execution_count": 54,
   "metadata": {},
   "outputs": [],
   "source": [
    "def find_best_pair(pairs):\n",
    "    for pair, freq in pairs.items():\n",
    "        if freq == max(pairs.values()):\n",
    "            return list(pair)"
   ]
  },
  {
   "cell_type": "code",
   "execution_count": 55,
   "metadata": {},
   "outputs": [],
   "source": [
    "def merge(vocab, merge_pair):\n",
    "    new_vocab = {}\n",
    "    pat = ' '.join(list(merge_pair))\n",
    "    regex = re.compile(r'(?<!\\S)' + pat + r'(?!\\S)')\n",
    "    for word in vocab:\n",
    "        new_word = regex.sub(''.join(merge_pair), word)\n",
    "        new_vocab[new_word] = vocab[word]\n",
    "    return new_vocab\n",
    "    "
   ]
  },
  {
   "cell_type": "code",
   "execution_count": 56,
   "metadata": {},
   "outputs": [
    {
     "name": "stdout",
     "output_type": "stream",
     "text": [
      "Rule : e r Epoch 1: {'n e w </w>': 2, 'w i d er </w>': 3, 'n e w er </w>': 6, 'l o w e s t </w>': 2, 'l o w </w>': 5}\n",
      "Rule : er </w> Epoch 2: {'n e w </w>': 2, 'w i d er</w>': 3, 'n e w er</w>': 6, 'l o w e s t </w>': 2, 'l o w </w>': 5}\n",
      "Rule : n e Epoch 3: {'ne w </w>': 2, 'w i d er</w>': 3, 'ne w er</w>': 6, 'l o w e s t </w>': 2, 'l o w </w>': 5}\n",
      "Rule : ne w Epoch 4: {'new </w>': 2, 'w i d er</w>': 3, 'new er</w>': 6, 'l o w e s t </w>': 2, 'l o w </w>': 5}\n",
      "Rule : l o Epoch 5: {'new </w>': 2, 'w i d er</w>': 3, 'new er</w>': 6, 'lo w e s t </w>': 2, 'lo w </w>': 5}\n",
      "Rule : lo w Epoch 6: {'new </w>': 2, 'w i d er</w>': 3, 'new er</w>': 6, 'low e s t </w>': 2, 'low </w>': 5}\n",
      "Rule : new er</w> Epoch 7: {'new </w>': 2, 'w i d er</w>': 3, 'newer</w>': 6, 'low e s t </w>': 2, 'low </w>': 5}\n",
      "Rule : low </w> Epoch 8: {'new </w>': 2, 'w i d er</w>': 3, 'newer</w>': 6, 'low e s t </w>': 2, 'low</w>': 5}\n",
      "Rule : w i Epoch 9: {'new </w>': 2, 'wi d er</w>': 3, 'newer</w>': 6, 'low e s t </w>': 2, 'low</w>': 5}\n",
      "Rule : wi d Epoch 10: {'new </w>': 2, 'wid er</w>': 3, 'newer</w>': 6, 'low e s t </w>': 2, 'low</w>': 5}\n",
      "Rule : wid er</w> Epoch 11: {'new </w>': 2, 'wider</w>': 3, 'newer</w>': 6, 'low e s t </w>': 2, 'low</w>': 5}\n",
      "Rule : new </w> Epoch 12: {'new</w>': 2, 'wider</w>': 3, 'newer</w>': 6, 'low e s t </w>': 2, 'low</w>': 5}\n",
      "Rule : low e Epoch 13: {'new</w>': 2, 'wider</w>': 3, 'newer</w>': 6, 'lowe s t </w>': 2, 'low</w>': 5}\n",
      "Rule : lowe s Epoch 14: {'new</w>': 2, 'wider</w>': 3, 'newer</w>': 6, 'lowes t </w>': 2, 'low</w>': 5}\n",
      "Rule : lowes t Epoch 15: {'new</w>': 2, 'wider</w>': 3, 'newer</w>': 6, 'lowest </w>': 2, 'low</w>': 5}\n",
      "Rule : lowest </w> Epoch 16: {'new</w>': 2, 'wider</w>': 3, 'newer</w>': 6, 'lowest</w>': 2, 'low</w>': 5}\n"
     ]
    }
   ],
   "source": [
    "epochs = 20\n",
    "test_text = \"new newer lowest wider wider\"\n",
    "test_text = re.sub(r'[^\\w\\s]','',test_text)\n",
    "test_vocab = {}\n",
    "for word in test_text.split():\n",
    "    new_word = ' '.join(list(word))+ ' </w>'\n",
    "    if new_word in test_vocab:\n",
    "        test_vocab[new_word] += 1\n",
    "    else:\n",
    "        test_vocab[new_word] = 1\n",
    "\n",
    "list_rules = []\n",
    "for epoch in range(epochs):\n",
    "    pairs = find_pairs(vocab)\n",
    "    if(len(pairs) == 0):\n",
    "        break\n",
    "    best_pair = find_best_pair(pairs)\n",
    "    list_rules.append(best_pair)\n",
    "    rule = ' '.join(list(best_pair))\n",
    "    print(f'Rule : {rule}', end = \" \")\n",
    "    vocab = merge(vocab, best_pair)\n",
    "    print(f'Epoch {epoch + 1}: {vocab}')\n"
   ]
  },
  {
   "cell_type": "code",
   "execution_count": 57,
   "metadata": {},
   "outputs": [
    {
     "name": "stdout",
     "output_type": "stream",
     "text": [
      "Rule : e r {'n e w </w>': 1, 'n e w er </w>': 1, 'l o w e s t </w>': 1, 'w i d er </w>': 2}\n",
      "Rule : er </w> {'n e w </w>': 1, 'n e w er</w>': 1, 'l o w e s t </w>': 1, 'w i d er</w>': 2}\n",
      "Rule : n e {'ne w </w>': 1, 'ne w er</w>': 1, 'l o w e s t </w>': 1, 'w i d er</w>': 2}\n",
      "Rule : ne w {'new </w>': 1, 'new er</w>': 1, 'l o w e s t </w>': 1, 'w i d er</w>': 2}\n",
      "Rule : l o {'new </w>': 1, 'new er</w>': 1, 'lo w e s t </w>': 1, 'w i d er</w>': 2}\n",
      "Rule : lo w {'new </w>': 1, 'new er</w>': 1, 'low e s t </w>': 1, 'w i d er</w>': 2}\n",
      "Rule : new er</w> {'new </w>': 1, 'newer</w>': 1, 'low e s t </w>': 1, 'w i d er</w>': 2}\n",
      "Rule : low </w> {'new </w>': 1, 'newer</w>': 1, 'low e s t </w>': 1, 'w i d er</w>': 2}\n",
      "Rule : w i {'new </w>': 1, 'newer</w>': 1, 'low e s t </w>': 1, 'wi d er</w>': 2}\n",
      "Rule : wi d {'new </w>': 1, 'newer</w>': 1, 'low e s t </w>': 1, 'wid er</w>': 2}\n",
      "Rule : wid er</w> {'new </w>': 1, 'newer</w>': 1, 'low e s t </w>': 1, 'wider</w>': 2}\n",
      "Rule : new </w> {'new</w>': 1, 'newer</w>': 1, 'low e s t </w>': 1, 'wider</w>': 2}\n",
      "Rule : low e {'new</w>': 1, 'newer</w>': 1, 'lowe s t </w>': 1, 'wider</w>': 2}\n",
      "Rule : lowe s {'new</w>': 1, 'newer</w>': 1, 'lowes t </w>': 1, 'wider</w>': 2}\n",
      "Rule : lowes t {'new</w>': 1, 'newer</w>': 1, 'lowest </w>': 1, 'wider</w>': 2}\n",
      "Rule : lowest </w> {'new</w>': 1, 'newer</w>': 1, 'lowest</w>': 1, 'wider</w>': 2}\n"
     ]
    }
   ],
   "source": [
    "for rule in list_rules:\n",
    "    # pairs = find_pairs(test_vocab)\n",
    "    curr_rule = ' '.join(list(rule))\n",
    "    print(f'Rule : {curr_rule}', end = \" \")\n",
    "    test_vocab = merge(test_vocab, rule)\n",
    "    print(f'{test_vocab}')"
   ]
  }
 ],
 "metadata": {
  "kernelspec": {
   "display_name": "Python 3",
   "language": "python",
   "name": "python3"
  },
  "language_info": {
   "codemirror_mode": {
    "name": "ipython",
    "version": 3
   },
   "file_extension": ".py",
   "mimetype": "text/x-python",
   "name": "python",
   "nbconvert_exporter": "python",
   "pygments_lexer": "ipython3",
   "version": "3.11.4"
  },
  "orig_nbformat": 4
 },
 "nbformat": 4,
 "nbformat_minor": 2
}
