{
 "cells": [
  {
   "cell_type": "code",
   "execution_count": 23,
   "metadata": {},
   "outputs": [
    {
     "name": "stdout",
     "output_type": "stream",
     "text": [
      "Collecting contractions\n",
      "  Downloading contractions-0.1.73-py2.py3-none-any.whl (8.7 kB)\n",
      "Collecting textsearch>=0.0.21 (from contractions)\n",
      "  Downloading textsearch-0.0.24-py2.py3-none-any.whl (7.6 kB)\n",
      "Collecting anyascii (from textsearch>=0.0.21->contractions)\n",
      "  Downloading anyascii-0.3.2-py3-none-any.whl (289 kB)\n",
      "     ---------------------------------------- 0.0/289.9 kB ? eta -:--:--\n",
      "     -------------------------------------- 289.9/289.9 kB 9.0 MB/s eta 0:00:00\n",
      "Collecting pyahocorasick (from textsearch>=0.0.21->contractions)\n",
      "  Downloading pyahocorasick-2.0.0-cp311-cp311-win_amd64.whl (39 kB)\n",
      "Installing collected packages: pyahocorasick, anyascii, textsearch, contractions\n",
      "Successfully installed anyascii-0.3.2 contractions-0.1.73 pyahocorasick-2.0.0 textsearch-0.0.24\n"
     ]
    },
    {
     "name": "stderr",
     "output_type": "stream",
     "text": [
      "\n",
      "[notice] A new release of pip is available: 23.2 -> 24.0\n",
      "[notice] To update, run: python.exe -m pip install --upgrade pip\n"
     ]
    }
   ],
   "source": [
    "!pip install nltk\n",
    "!pip install contractions"
   ]
  },
  {
   "cell_type": "code",
   "execution_count": 27,
   "metadata": {},
   "outputs": [],
   "source": [
    "import nltk\n",
    "import contractions\n",
    "import pandas as pd\n",
    "import numpy as np\n",
    "import matplotlib.pyplot as plt\n",
    "import re"
   ]
  },
  {
   "cell_type": "code",
   "execution_count": 14,
   "metadata": {},
   "outputs": [],
   "source": [
    "text = \"I am learning NLP. It is very interesting and exciting. It is also challenging. I don't know much about it now, so Dr. Stranglove is helping me. He is a very good teacher. I am enjoying his teaching.\""
   ]
  },
  {
   "cell_type": "code",
   "execution_count": 11,
   "metadata": {},
   "outputs": [
    {
     "name": "stderr",
     "output_type": "stream",
     "text": [
      "[nltk_data] Downloading package punkt to\n",
      "[nltk_data]     C:\\Users\\rizvi\\AppData\\Roaming\\nltk_data...\n",
      "[nltk_data]   Unzipping tokenizers\\punkt.zip.\n"
     ]
    },
    {
     "data": {
      "text/plain": [
       "['I',\n",
       " 'am',\n",
       " 'learning',\n",
       " 'NLP',\n",
       " '.',\n",
       " 'It',\n",
       " 'is',\n",
       " 'very',\n",
       " 'interesting',\n",
       " 'and',\n",
       " 'exciting',\n",
       " '.',\n",
       " 'It',\n",
       " 'is',\n",
       " 'also',\n",
       " 'challenging',\n",
       " '.',\n",
       " 'I',\n",
       " 'do',\n",
       " \"n't\",\n",
       " 'know',\n",
       " 'much',\n",
       " 'about',\n",
       " 'it',\n",
       " 'now']"
      ]
     },
     "execution_count": 11,
     "metadata": {},
     "output_type": "execute_result"
    }
   ],
   "source": [
    "nltk.download('punkt')\n",
    "def word_Tokenizer(text):\n",
    "    return nltk.tokenize.word_tokenize(text)\n",
    "word_Tokenizer(text)"
   ]
  },
  {
   "cell_type": "code",
   "execution_count": 15,
   "metadata": {},
   "outputs": [
    {
     "data": {
      "text/plain": [
       "['I am learning NLP.',\n",
       " 'It is very interesting and exciting.',\n",
       " 'It is also challenging.',\n",
       " \"I don't know much about it now, so Dr. Stranglove is helping me.\",\n",
       " 'He is a very good teacher.',\n",
       " 'I am enjoying his teaching.']"
      ]
     },
     "execution_count": 15,
     "metadata": {},
     "output_type": "execute_result"
    }
   ],
   "source": [
    "def sentence_Tokenizer(text):\n",
    "    return nltk.tokenize.sent_tokenize(text)\n",
    "sentence_Tokenizer(text)"
   ]
  },
  {
   "cell_type": "code",
   "execution_count": 18,
   "metadata": {},
   "outputs": [
    {
     "name": "stderr",
     "output_type": "stream",
     "text": [
      "[nltk_data] Downloading package stopwords to\n",
      "[nltk_data]     C:\\Users\\rizvi\\AppData\\Roaming\\nltk_data...\n",
      "[nltk_data]   Package stopwords is already up-to-date!\n"
     ]
    },
    {
     "data": {
      "text/plain": [
       "'I learning NLP. It interesting exciting. It also challenging. I know much now, Dr. Stranglove helping me. He good teacher. I enjoying teaching.'"
      ]
     },
     "execution_count": 18,
     "metadata": {},
     "output_type": "execute_result"
    }
   ],
   "source": [
    "nltk.download('stopwords')\n",
    "from nltk.corpus import stopwords\n",
    "def remove_Stopwords(text):\n",
    "    stop_words = set(stopwords.words('english'))\n",
    "    new_text = \" \".join([word for word in text.split() if word not in stop_words])\n",
    "    return new_text\n",
    "remove_Stopwords(text)"
   ]
  },
  {
   "cell_type": "code",
   "execution_count": 19,
   "metadata": {},
   "outputs": [
    {
     "data": {
      "text/plain": [
       "\"I AM LEARNING NLP. IT IS VERY INTERESTING AND EXCITING. IT IS ALSO CHALLENGING. I DON'T KNOW MUCH ABOUT IT NOW, SO DR. STRANGLOVE IS HELPING ME. HE IS A VERY GOOD TEACHER. I AM ENJOYING HIS TEACHING.\""
      ]
     },
     "execution_count": 19,
     "metadata": {},
     "output_type": "execute_result"
    }
   ],
   "source": [
    "def upper_lower_case(text, case):\n",
    "    if case == 'upper':\n",
    "        return text.upper()\n",
    "    elif case == 'lower':\n",
    "        return text.lower()\n",
    "    else:\n",
    "        return text\n",
    "upper_lower_case(text, 'upper')"
   ]
  },
  {
   "cell_type": "code",
   "execution_count": 20,
   "metadata": {},
   "outputs": [
    {
     "data": {
      "text/plain": [
       "['learn',\n",
       " 'nlp',\n",
       " '.',\n",
       " 'interest',\n",
       " 'excit',\n",
       " '.',\n",
       " 'also',\n",
       " 'challeng',\n",
       " '.',\n",
       " 'know',\n",
       " 'much',\n",
       " 'now',\n",
       " ',',\n",
       " 'dr.',\n",
       " 'stranglov',\n",
       " 'help',\n",
       " 'me',\n",
       " '.',\n",
       " 'good',\n",
       " 'teacher',\n",
       " '.',\n",
       " 'enjoy',\n",
       " 'teach',\n",
       " '.']"
      ]
     },
     "execution_count": 20,
     "metadata": {},
     "output_type": "execute_result"
    }
   ],
   "source": [
    "def stemming(text):\n",
    "    from nltk.stem import PorterStemmer\n",
    "    stemmer = PorterStemmer()\n",
    "    words = word_Tokenizer(remove_Stopwords(upper_lower_case(text, 'lower')))\n",
    "    return [stemmer.stem(word) for word in words]\n",
    "stemming(text)"
   ]
  },
  {
   "cell_type": "code",
   "execution_count": 22,
   "metadata": {},
   "outputs": [
    {
     "name": "stderr",
     "output_type": "stream",
     "text": [
      "[nltk_data] Downloading package wordnet to\n",
      "[nltk_data]     C:\\Users\\rizvi\\AppData\\Roaming\\nltk_data...\n"
     ]
    },
    {
     "data": {
      "text/plain": [
       "['learning',\n",
       " 'nlp',\n",
       " '.',\n",
       " 'interesting',\n",
       " 'exciting',\n",
       " '.',\n",
       " 'also',\n",
       " 'challenging',\n",
       " '.',\n",
       " 'know',\n",
       " 'much',\n",
       " 'now',\n",
       " ',',\n",
       " 'dr.',\n",
       " 'stranglove',\n",
       " 'helping',\n",
       " 'me',\n",
       " '.',\n",
       " 'good',\n",
       " 'teacher',\n",
       " '.',\n",
       " 'enjoying',\n",
       " 'teaching',\n",
       " '.']"
      ]
     },
     "execution_count": 22,
     "metadata": {},
     "output_type": "execute_result"
    }
   ],
   "source": [
    "nltk.download('wordnet')\n",
    "def lemmatization(text):\n",
    "    from nltk.stem import WordNetLemmatizer\n",
    "    lemmatizer = WordNetLemmatizer()\n",
    "    words = word_Tokenizer(remove_Stopwords(upper_lower_case(text, 'lower')))\n",
    "    return [lemmatizer.lemmatize(word) for word in words]\n",
    "lemmatization(text)"
   ]
  },
  {
   "cell_type": "code",
   "execution_count": null,
   "metadata": {},
   "outputs": [],
   "source": [
    "def remove_punctuation_special_chars(text):\n",
    "    return re.sub(r'[^\\w\\s]', '', text)\n",
    "remove_punctuation_special_chars(text)\n",
    "    "
   ]
  },
  {
   "cell_type": "code",
   "execution_count": 28,
   "metadata": {},
   "outputs": [
    {
     "data": {
      "text/plain": [
       "' this is google website'"
      ]
     },
     "execution_count": 28,
     "metadata": {},
     "output_type": "execute_result"
    }
   ],
   "source": [
    "def remove_html_url_tags(text):\n",
    "    return re.sub(r'<.*?>|http[^\\s]+', '', text)\n",
    "\n",
    "remove_html_url_tags(text)\n"
   ]
  },
  {
   "cell_type": "code",
   "execution_count": 26,
   "metadata": {},
   "outputs": [
    {
     "data": {
      "text/plain": [
       "'I am learning NLP. It is very interesting and exciting. It is also challenging. I do not know much about it now, so Dr. Stranglove is helping me. He is a very good teacher. I am enjoying his teaching.'"
      ]
     },
     "execution_count": 26,
     "metadata": {},
     "output_type": "execute_result"
    }
   ],
   "source": [
    "def replace_contractions(text):\n",
    "    return contractions.fix(text)\n",
    "replace_contractions(text)"
   ]
  },
  {
   "cell_type": "code",
   "execution_count": 30,
   "metadata": {},
   "outputs": [],
   "source": [
    "def date_format(text):\n",
    "    return re.sub(r'(\\d{2})-(\\d{2})-(\\d{4})', r'\\3-\\2-\\1', text)"
   ]
  },
  {
   "cell_type": "code",
   "execution_count": 31,
   "metadata": {},
   "outputs": [
    {
     "name": "stdout",
     "output_type": "stream",
     "text": [
      "12:30\n",
      "2020-12-12\n"
     ]
    }
   ],
   "source": [
    "def time_format(text):\n",
    "    return re.sub(r'(\\d{2}):(\\d{2}):(\\d{2})', r'\\1:\\2', text)\n",
    "\n",
    "time = \"12:30:45\"\n",
    "date = \"12-12-2020\"\n",
    "print(time_format(time))\n",
    "print(date_format(date))"
   ]
  },
  {
   "cell_type": "code",
   "execution_count": null,
   "metadata": {},
   "outputs": [],
   "source": []
  }
 ],
 "metadata": {
  "kernelspec": {
   "display_name": "Python 3",
   "language": "python",
   "name": "python3"
  },
  "language_info": {
   "codemirror_mode": {
    "name": "ipython",
    "version": 3
   },
   "file_extension": ".py",
   "mimetype": "text/x-python",
   "name": "python",
   "nbconvert_exporter": "python",
   "pygments_lexer": "ipython3",
   "version": "3.11.4"
  },
  "orig_nbformat": 4
 },
 "nbformat": 4,
 "nbformat_minor": 2
}
