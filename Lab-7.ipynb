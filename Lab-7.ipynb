{
 "cells": [
  {
   "cell_type": "code",
   "execution_count": 2,
   "metadata": {},
   "outputs": [
    {
     "name": "stdout",
     "output_type": "stream",
     "text": [
      "Word-Context Matrix:\n",
      "        the  quick  brown  fox  jumps  over  lazy  dog  runs  across  field\n",
      "quick     3      0      2    1      0     1     0    2     0       0      0\n",
      "brown     2      2      0    1      1     0     0    1     1       0      0\n",
      "jumps     2      0      1    2      0     2     1    0     0       0      0\n",
      "over      2      1      0    2      2     0     1    0     0       0      0\n",
      "lazy      2      0      0    1      1     1     0    1     0       0      0\n",
      "dog       2      2      1    0      0     0     1    0     1       1      0\n",
      "runs      1      0      1    0      0     0     0    1     0       1      0\n",
      "across    1      0      0    0      0     0     0    1     1       0      1\n",
      "field     1      0      0    0      0     0     0    0     0       1      0\n",
      "fox       1      1      1    0      2     2     1    0     0       0      0\n",
      "the       0      3      2    1      2     2     2    2     1       1      1\n"
     ]
    }
   ],
   "source": [
    "from collections import defaultdict\n",
    "import pandas as pd\n",
    "\n",
    "# Define your corpus\n",
    "corpus = [\n",
    "    \"the quick brown fox jumps over the lazy dog\",\n",
    "    \"the quick brown dog runs across the field\",\n",
    "    \"the lazy fox jumps over the quick dog\",\n",
    "]\n",
    "\n",
    "# Tokenize the corpus into words\n",
    "tokenized_corpus = [sentence.split() for sentence in corpus]\n",
    "\n",
    "# Define the context window size\n",
    "window_size = 2  # Example window size\n",
    "\n",
    "# Initialize a default dictionary to count co-occurrences\n",
    "co_occurrences = defaultdict(lambda: defaultdict(int))\n",
    "\n",
    "# Populate the co-occurrence matrix\n",
    "for sentence in tokenized_corpus:\n",
    "    num_words = len(sentence)\n",
    "    for i in range(num_words):\n",
    "        current_word = sentence[i]\n",
    "        # Consider the words within the context window\n",
    "        for j in range(max(0, i - window_size), min(num_words, i + window_size + 1)):\n",
    "            if i != j:  # Don't count the word itself\n",
    "                context_word = sentence[j]\n",
    "                co_occurrences[current_word][context_word] += 1\n",
    "\n",
    "# Convert the default dictionary to a pandas DataFrame\n",
    "df = pd.DataFrame(co_occurrences).fillna(0).astype(int)\n",
    "\n",
    "# Display the word-context matrix\n",
    "print(\"Word-Context Matrix:\")\n",
    "print(df)\n"
   ]
  },
  {
   "cell_type": "code",
   "execution_count": 2,
   "metadata": {},
   "outputs": [
    {
     "name": "stdout",
     "output_type": "stream",
     "text": [
      "Requirement already satisfied: scipy in c:\\users\\rizvi\\appdata\\local\\programs\\python\\python311\\lib\\site-packages (1.11.1)\n",
      "Requirement already satisfied: numpy<1.28.0,>=1.21.6 in c:\\users\\rizvi\\appdata\\local\\programs\\python\\python311\\lib\\site-packages (from scipy) (1.24.3)\n"
     ]
    },
    {
     "name": "stderr",
     "output_type": "stream",
     "text": [
      "\n",
      "[notice] A new release of pip is available: 23.2 -> 24.0\n",
      "[notice] To update, run: python.exe -m pip install --upgrade pip\n"
     ]
    }
   ],
   "source": [
    "!pip install scipy"
   ]
  },
  {
   "cell_type": "code",
   "execution_count": 3,
   "metadata": {},
   "outputs": [
    {
     "name": "stdout",
     "output_type": "stream",
     "text": [
      "Cosine similarity between 'fox' and 'lazy': 0.61\n"
     ]
    }
   ],
   "source": [
    "#Using Cosine-Similarity and the word-context matrix, we can calculate the similarity between two words.\n",
    "from scipy.spatial.distance import cosine\n",
    "def cosine_similarity(word1, word2, matrix):\n",
    "    if word1 in matrix.columns and word2 in matrix.columns:\n",
    "        # Extract word vectors\n",
    "        vec1 = matrix[word1].values\n",
    "        vec2 = matrix[word2].values\n",
    "        # Calculate cosine similarity\n",
    "        return 1 - cosine(vec1, vec2)  # `1 - cosine` to get similarity instead of distance\n",
    "    else:\n",
    "        return None  # Return None if words are not in the matrix\n",
    "\n",
    "# Compute similarity between two words\n",
    "word1 = \"fox\" \n",
    "word2 = \"lazy\"\n",
    "similarity = cosine_similarity(word1, word2, df)\n",
    "\n",
    "print(f\"Cosine similarity between '{word1}' and '{word2}': {similarity:.2f}\")\n"
   ]
  }
 ],
 "metadata": {
  "kernelspec": {
   "display_name": "Python 3",
   "language": "python",
   "name": "python3"
  },
  "language_info": {
   "codemirror_mode": {
    "name": "ipython",
    "version": 3
   },
   "file_extension": ".py",
   "mimetype": "text/x-python",
   "name": "python",
   "nbconvert_exporter": "python",
   "pygments_lexer": "ipython3",
   "version": "3.11.4"
  },
  "orig_nbformat": 4
 },
 "nbformat": 4,
 "nbformat_minor": 2
}
