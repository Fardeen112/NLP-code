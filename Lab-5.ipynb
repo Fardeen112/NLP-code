{
 "cells": [
  {
   "cell_type": "code",
   "execution_count": 39,
   "metadata": {},
   "outputs": [
    {
     "name": "stdout",
     "output_type": "stream",
     "text": [
      "i ama student of computer science ande n gin eer ing i am currently study inga t the university of as i apa c if i c i ama very goods tu dent i am very much interested in program ming i ama l so interested in machine learning i ama l so interested ind ata science i ama l so interested inartificial intelligence i ama l so interested inde e plea r ning i ama l so interested in computer vision i ama l so interested innatural language process ing i ama l so interested inro bot i c siam also interested in computer graphics i ama l so interested in computer network siam also interested in c y ber security i ama l so interested in web development i ama l so interested in mobile application development i ama l so interested inga mede velo p ment i ama l so interested in soft ware development i ama l so interested in hardware development i ama l so interested in computer architecture i ama l so interested in computer organization i ama l so interested in computer design i ama l so interested in computer engineering i ama l so interested in computer science\n"
     ]
    }
   ],
   "source": [
    "from nltk.corpus import words as tokens\n",
    "#write a random paragraph\n",
    "\n",
    "paragraph = \"I am a student of computer science and engineering. I am currently studying at the University of Asia Pacific. I am a very good student. I am very much interested in programming. I am also interested in machine learning. I am also interested in data science. I am also interested in artificial intelligence. I am also interested in deep learning. I am also interested in computer vision. I am also interested in natural language processing. I am also interested in robotics. I am also interested in computer graphics. I am also interested in computer networks. I am also interested in cyber security. I am also interested in web development. I am also interested in mobile application development. I am also interested in game development. I am also interested in software development. I am also interested in hardware development. I am also interested in computer architecture. I am also interested in computer organization. I am also interested in computer design. I am also interested in computer engineering. I am also interested in computer science\"\n",
    "\n",
    "#remove punctuations from the paragraph\n",
    "punctuations = '''!()-[]{};:'\"\\,<>./?@#$%^&*_~'''\n",
    "for x in paragraph.lower():\n",
    "    if x in punctuations:\n",
    "        paragraph = paragraph.replace(x, \"\")\n",
    "\n",
    "paragraph = paragraph.lower()\n",
    "#remove all the spaces from the paragraph\n",
    "paragraph = paragraph.replace(\" \", \"\")\n",
    "\n",
    "words = []\n",
    "lowerTokensSet = set([x.lower() for x in tokens.words()])\n",
    "i = 0\n",
    "while i < len(paragraph):\n",
    "    mWord = \"\"\n",
    "    for j in range(i, len(paragraph)):\n",
    "        temp = paragraph[i:j+1]\n",
    "        temp = temp.lower()\n",
    "        if temp in lowerTokensSet and len(temp) > len(mWord):\n",
    "            mWord = temp\n",
    "    i = i+len(mWord)\n",
    "    words.append(mWord)\n",
    "\n",
    "newParagraph = \" \".join(words)\n",
    "print(newParagraph)\n",
    "\n",
    "\n"
   ]
  }
 ],
 "metadata": {
  "kernelspec": {
   "display_name": "Python 3",
   "language": "python",
   "name": "python3"
  },
  "language_info": {
   "codemirror_mode": {
    "name": "ipython",
    "version": 3
   },
   "file_extension": ".py",
   "mimetype": "text/x-python",
   "name": "python",
   "nbconvert_exporter": "python",
   "pygments_lexer": "ipython3",
   "version": "3.11.4"
  },
  "orig_nbformat": 4
 },
 "nbformat": 4,
 "nbformat_minor": 2
}
